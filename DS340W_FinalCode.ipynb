{
  "metadata": {
    "kernelspec": {
      "language": "python",
      "display_name": "Python 3",
      "name": "python3"
    },
    "language_info": {
      "pygments_lexer": "ipython3",
      "nbconvert_exporter": "python",
      "version": "3.6.4",
      "file_extension": ".py",
      "codemirror_mode": {
        "name": "ipython",
        "version": 3
      },
      "name": "python",
      "mimetype": "text/x-python"
    },
    "colab": {
      "name": "DS340W-FinalCode.ipynb",
      "provenance": [],
      "collapsed_sections": []
    }
  },
  "nbformat_minor": 0,
  "nbformat": 4,
  "cells": [
    {
      "cell_type": "markdown",
      "source": [
        "## DS340W - Final Code\n",
        "### Mitchell Wentzel\n"
      ],
      "metadata": {
        "id": "BcC2QTv5iUHa"
      }
    },
    {
      "cell_type": "markdown",
      "source": [
        "The following is my final code document for DS340W. I have done a complete rework of the original code source, and also added my new ideas for the novelty/ccreativity section as well. Below is a brief dictionary for easy access to the specific sections of the code document. They have also been split into code ideas that were taken from the original source and code ideas that I added to the document.\n",
        "\n",
        "**AGENDA FOR NOTEBOOK:**\n",
        "\n",
        "*Modified Original Code*\n",
        "\n",
        "1. Introductory EDA\n",
        "\n",
        "2. Disaster Frequency by State\n",
        "\n",
        "3. Which States have Which Disasters?\n",
        "\n",
        "4. Most Disaster Affected States\n",
        "\n",
        "5. Most Disaster-Prone Affected Areas\n",
        "\n",
        "6. Heat Map Analysis\n",
        "\n",
        "*New Code - Novelty/Creativity*\n",
        "\n",
        "7. Natural Disaster Time Series Analysis\n",
        "\n",
        "8. Disaster Analysis using Machine Learning\n"
      ],
      "metadata": {
        "id": "Y-Oc49aeiUHc"
      }
    },
    {
      "cell_type": "markdown",
      "source": [
        "# Introductory EDA"
      ],
      "metadata": {
        "id": "1GbmbBKepLzh"
      }
    },
    {
      "cell_type": "code",
      "source": [
        "# Here, we load in packages, as well as connect to the main google drive, where\n",
        "# the data set is being stored for easy access.\n",
        "\n",
        "import numpy as np\n",
        "import pandas as pd\n",
        "import os\n",
        "import seaborn as sns\n",
        "import matplotlib as plt\n",
        "\n",
        "for dirname, _, filenames in os.walk('/kaggle/input'):\n",
        "    for filename in filenames:\n",
        "        print(os.path.join(dirname, filename))\n",
        "\n",
        "# Mount your personal google drive, and store the data set in the main folder.\n",
        "\n",
        "from google.colab import drive\n",
        "drive.mount('drive')"
      ],
      "metadata": {
        "_uuid": "8f2839f25d086af736a60e9eeb907d3b93b6e0e5",
        "_cell_guid": "b1076dfc-b9ad-4769-8c92-a6c4dae69d19",
        "trusted": true,
        "id": "5kC2QY4fiUHd",
        "colab": {
          "base_uri": "https://localhost:8080/"
        },
        "outputId": "842f3b21-5ffe-4ea0-99a8-a126e047679f"
      },
      "execution_count": 1,
      "outputs": [
        {
          "output_type": "stream",
          "name": "stdout",
          "text": [
            "Mounted at drive\n"
          ]
        }
      ]
    },
    {
      "cell_type": "code",
      "source": [
        "# Load in the data set and save it as \"file\".\n",
        "\n",
        "file = 'drive/My Drive/us_disaster_declarations.csv'\n",
        "\n",
        "# Read in the data set using the csv read function, show the first few rows.\n",
        "\n",
        "df = pd.read_csv(file)\n",
        "df.head(10)"
      ],
      "metadata": {
        "_uuid": "d629ff2d2480ee46fbb7e2d37f6b5fab8052498a",
        "_cell_guid": "79c7e3d0-c299-4dcb-8224-4455121ee9b0",
        "trusted": true,
        "colab": {
          "base_uri": "https://localhost:8080/",
          "height": 622
        },
        "id": "-6kf0_KfiUHe",
        "outputId": "ae2bbc75-223b-4e0a-be70-3ec570b6f8e8"
      },
      "execution_count": 2,
      "outputs": [
        {
          "output_type": "execute_result",
          "data": {
            "text/plain": [
              "  fema_declaration_string  disaster_number state declaration_type  \\\n",
              "0                 DR-1-GA                1    GA               DR   \n",
              "1                 DR-2-TX                2    TX               DR   \n",
              "2                 DR-3-LA                3    LA               DR   \n",
              "3                 DR-4-MI                4    MI               DR   \n",
              "4                 DR-5-MT                5    MT               DR   \n",
              "5                 DR-6-MI                6    MI               DR   \n",
              "6                 DR-8-IA                8    IA               DR   \n",
              "7                 DR-7-MA                7    MA               DR   \n",
              "8                 DR-9-TX                9    TX               DR   \n",
              "9                DR-11-NH               11    NH               DR   \n",
              "\n",
              "       declaration_date  fy_declared incident_type         declaration_title  \\\n",
              "0  1953-05-02T04:00:00Z         1953       Tornado                   Tornado   \n",
              "1  1953-05-15T04:00:00Z         1953       Tornado  Tornado & Heavy Rainfall   \n",
              "2  1953-05-29T04:00:00Z         1953         Flood                     Flood   \n",
              "3  1953-06-02T04:00:00Z         1953       Tornado                   Tornado   \n",
              "4  1953-06-06T04:00:00Z         1953         Flood                    Floods   \n",
              "5  1953-06-09T04:00:00Z         1953       Tornado                   Tornado   \n",
              "6  1953-06-11T04:00:00Z         1953         Flood                     Flood   \n",
              "7  1953-06-11T04:00:00Z         1953       Tornado                   Tornado   \n",
              "8  1953-06-19T04:00:00Z         1953         Flood                     Flood   \n",
              "9  1953-07-02T04:00:00Z         1953          Fire               Forest Fire   \n",
              "\n",
              "   ih_program_declared  ia_program_declared  ...   incident_begin_date  \\\n",
              "0                    0                    1  ...  1953-05-02T04:00:00Z   \n",
              "1                    0                    1  ...  1953-05-15T04:00:00Z   \n",
              "2                    0                    1  ...  1953-05-29T04:00:00Z   \n",
              "3                    0                    1  ...  1953-06-02T04:00:00Z   \n",
              "4                    0                    1  ...  1953-06-06T04:00:00Z   \n",
              "5                    0                    1  ...  1953-06-09T04:00:00Z   \n",
              "6                    0                    1  ...  1953-06-11T04:00:00Z   \n",
              "7                    0                    1  ...  1953-06-11T04:00:00Z   \n",
              "8                    0                    1  ...  1953-06-19T04:00:00Z   \n",
              "9                    0                    1  ...  1953-07-02T04:00:00Z   \n",
              "\n",
              "      incident_end_date disaster_closeout_date   fips place_code  \\\n",
              "0  1953-05-02T04:00:00Z                    NaN  13000          0   \n",
              "1  1953-05-15T04:00:00Z                    NaN  48000          0   \n",
              "2  1953-05-29T04:00:00Z                    NaN  22000          0   \n",
              "3  1953-06-02T04:00:00Z                    NaN  26000          0   \n",
              "4  1953-06-06T04:00:00Z                    NaN  30000          0   \n",
              "5  1953-06-09T04:00:00Z                    NaN  26000          0   \n",
              "6  1953-06-11T04:00:00Z                    NaN  19000          0   \n",
              "7  1953-06-11T04:00:00Z                    NaN  25000          0   \n",
              "8  1953-06-19T04:00:00Z                    NaN  48000          0   \n",
              "9  1953-07-02T04:00:00Z                    NaN  33000          0   \n",
              "\n",
              "   designated_area  declaration_request_number  \\\n",
              "0        Statewide                       53013   \n",
              "1        Statewide                       53003   \n",
              "2        Statewide                       53005   \n",
              "3        Statewide                       53004   \n",
              "4        Statewide                       53006   \n",
              "5        Statewide                       53007   \n",
              "6        Statewide                       53008   \n",
              "7        Statewide                       53009   \n",
              "8        Statewide                       53010   \n",
              "9        Statewide                       53011   \n",
              "\n",
              "                               hash          last_refresh  \\\n",
              "0  2f28952448e0a666d367ca3f854c81ec  2019-07-26T18:49:32Z   \n",
              "1  c5a1a4a1030d6730d9c562cdbe7c830f  2019-07-26T18:49:32Z   \n",
              "2  745948932fd77a7c6dcd4de7059ff080  2019-07-26T18:49:32Z   \n",
              "3  8c9dee13124e36a9dfe2eb74e33fafad  2019-07-26T18:49:32Z   \n",
              "4  59c5483387ca13c6a3c1bc692f4860e1  2019-07-26T18:49:32Z   \n",
              "5  d3ae03a5caa78ae1c8b6052e5e29a97d  2019-07-26T18:49:32Z   \n",
              "6  e258e9dd25fac73939f59c8ffb5308f5  2019-07-26T18:49:32Z   \n",
              "7  6bab17e16984fc75f61a8445df3e95d9  2019-07-26T18:49:32Z   \n",
              "8  4485da27a9218458eb2d13a6c33a4c62  2019-07-26T18:49:32Z   \n",
              "9  86a70820dbb80e585cc01e2ce502005c  2019-07-26T18:49:32Z   \n",
              "\n",
              "                         id  \n",
              "0  5d1bceafd5b39c032f2602bf  \n",
              "1  5d1bceafd5b39c032f2602c3  \n",
              "2  5d1bceafd5b39c032f2602c1  \n",
              "3  5d1bceafd5b39c032f2602c0  \n",
              "4  5d1bceafd5b39c032f2602c7  \n",
              "5  5d1bceafd5b39c032f2602c2  \n",
              "6  5d1bceafd5b39c032f2602c4  \n",
              "7  5d1bceafd5b39c032f2602c9  \n",
              "8  5d1bceafd5b39c032f2602c6  \n",
              "9  5d1bceafd5b39c032f2602c5  \n",
              "\n",
              "[10 rows x 22 columns]"
            ],
            "text/html": [
              "\n",
              "  <div id=\"df-fff78ea1-e4fe-4652-a8b9-91454e5f44a8\">\n",
              "    <div class=\"colab-df-container\">\n",
              "      <div>\n",
              "<style scoped>\n",
              "    .dataframe tbody tr th:only-of-type {\n",
              "        vertical-align: middle;\n",
              "    }\n",
              "\n",
              "    .dataframe tbody tr th {\n",
              "        vertical-align: top;\n",
              "    }\n",
              "\n",
              "    .dataframe thead th {\n",
              "        text-align: right;\n",
              "    }\n",
              "</style>\n",
              "<table border=\"1\" class=\"dataframe\">\n",
              "  <thead>\n",
              "    <tr style=\"text-align: right;\">\n",
              "      <th></th>\n",
              "      <th>fema_declaration_string</th>\n",
              "      <th>disaster_number</th>\n",
              "      <th>state</th>\n",
              "      <th>declaration_type</th>\n",
              "      <th>declaration_date</th>\n",
              "      <th>fy_declared</th>\n",
              "      <th>incident_type</th>\n",
              "      <th>declaration_title</th>\n",
              "      <th>ih_program_declared</th>\n",
              "      <th>ia_program_declared</th>\n",
              "      <th>...</th>\n",
              "      <th>incident_begin_date</th>\n",
              "      <th>incident_end_date</th>\n",
              "      <th>disaster_closeout_date</th>\n",
              "      <th>fips</th>\n",
              "      <th>place_code</th>\n",
              "      <th>designated_area</th>\n",
              "      <th>declaration_request_number</th>\n",
              "      <th>hash</th>\n",
              "      <th>last_refresh</th>\n",
              "      <th>id</th>\n",
              "    </tr>\n",
              "  </thead>\n",
              "  <tbody>\n",
              "    <tr>\n",
              "      <th>0</th>\n",
              "      <td>DR-1-GA</td>\n",
              "      <td>1</td>\n",
              "      <td>GA</td>\n",
              "      <td>DR</td>\n",
              "      <td>1953-05-02T04:00:00Z</td>\n",
              "      <td>1953</td>\n",
              "      <td>Tornado</td>\n",
              "      <td>Tornado</td>\n",
              "      <td>0</td>\n",
              "      <td>1</td>\n",
              "      <td>...</td>\n",
              "      <td>1953-05-02T04:00:00Z</td>\n",
              "      <td>1953-05-02T04:00:00Z</td>\n",
              "      <td>NaN</td>\n",
              "      <td>13000</td>\n",
              "      <td>0</td>\n",
              "      <td>Statewide</td>\n",
              "      <td>53013</td>\n",
              "      <td>2f28952448e0a666d367ca3f854c81ec</td>\n",
              "      <td>2019-07-26T18:49:32Z</td>\n",
              "      <td>5d1bceafd5b39c032f2602bf</td>\n",
              "    </tr>\n",
              "    <tr>\n",
              "      <th>1</th>\n",
              "      <td>DR-2-TX</td>\n",
              "      <td>2</td>\n",
              "      <td>TX</td>\n",
              "      <td>DR</td>\n",
              "      <td>1953-05-15T04:00:00Z</td>\n",
              "      <td>1953</td>\n",
              "      <td>Tornado</td>\n",
              "      <td>Tornado &amp; Heavy Rainfall</td>\n",
              "      <td>0</td>\n",
              "      <td>1</td>\n",
              "      <td>...</td>\n",
              "      <td>1953-05-15T04:00:00Z</td>\n",
              "      <td>1953-05-15T04:00:00Z</td>\n",
              "      <td>NaN</td>\n",
              "      <td>48000</td>\n",
              "      <td>0</td>\n",
              "      <td>Statewide</td>\n",
              "      <td>53003</td>\n",
              "      <td>c5a1a4a1030d6730d9c562cdbe7c830f</td>\n",
              "      <td>2019-07-26T18:49:32Z</td>\n",
              "      <td>5d1bceafd5b39c032f2602c3</td>\n",
              "    </tr>\n",
              "    <tr>\n",
              "      <th>2</th>\n",
              "      <td>DR-3-LA</td>\n",
              "      <td>3</td>\n",
              "      <td>LA</td>\n",
              "      <td>DR</td>\n",
              "      <td>1953-05-29T04:00:00Z</td>\n",
              "      <td>1953</td>\n",
              "      <td>Flood</td>\n",
              "      <td>Flood</td>\n",
              "      <td>0</td>\n",
              "      <td>1</td>\n",
              "      <td>...</td>\n",
              "      <td>1953-05-29T04:00:00Z</td>\n",
              "      <td>1953-05-29T04:00:00Z</td>\n",
              "      <td>NaN</td>\n",
              "      <td>22000</td>\n",
              "      <td>0</td>\n",
              "      <td>Statewide</td>\n",
              "      <td>53005</td>\n",
              "      <td>745948932fd77a7c6dcd4de7059ff080</td>\n",
              "      <td>2019-07-26T18:49:32Z</td>\n",
              "      <td>5d1bceafd5b39c032f2602c1</td>\n",
              "    </tr>\n",
              "    <tr>\n",
              "      <th>3</th>\n",
              "      <td>DR-4-MI</td>\n",
              "      <td>4</td>\n",
              "      <td>MI</td>\n",
              "      <td>DR</td>\n",
              "      <td>1953-06-02T04:00:00Z</td>\n",
              "      <td>1953</td>\n",
              "      <td>Tornado</td>\n",
              "      <td>Tornado</td>\n",
              "      <td>0</td>\n",
              "      <td>1</td>\n",
              "      <td>...</td>\n",
              "      <td>1953-06-02T04:00:00Z</td>\n",
              "      <td>1953-06-02T04:00:00Z</td>\n",
              "      <td>NaN</td>\n",
              "      <td>26000</td>\n",
              "      <td>0</td>\n",
              "      <td>Statewide</td>\n",
              "      <td>53004</td>\n",
              "      <td>8c9dee13124e36a9dfe2eb74e33fafad</td>\n",
              "      <td>2019-07-26T18:49:32Z</td>\n",
              "      <td>5d1bceafd5b39c032f2602c0</td>\n",
              "    </tr>\n",
              "    <tr>\n",
              "      <th>4</th>\n",
              "      <td>DR-5-MT</td>\n",
              "      <td>5</td>\n",
              "      <td>MT</td>\n",
              "      <td>DR</td>\n",
              "      <td>1953-06-06T04:00:00Z</td>\n",
              "      <td>1953</td>\n",
              "      <td>Flood</td>\n",
              "      <td>Floods</td>\n",
              "      <td>0</td>\n",
              "      <td>1</td>\n",
              "      <td>...</td>\n",
              "      <td>1953-06-06T04:00:00Z</td>\n",
              "      <td>1953-06-06T04:00:00Z</td>\n",
              "      <td>NaN</td>\n",
              "      <td>30000</td>\n",
              "      <td>0</td>\n",
              "      <td>Statewide</td>\n",
              "      <td>53006</td>\n",
              "      <td>59c5483387ca13c6a3c1bc692f4860e1</td>\n",
              "      <td>2019-07-26T18:49:32Z</td>\n",
              "      <td>5d1bceafd5b39c032f2602c7</td>\n",
              "    </tr>\n",
              "    <tr>\n",
              "      <th>5</th>\n",
              "      <td>DR-6-MI</td>\n",
              "      <td>6</td>\n",
              "      <td>MI</td>\n",
              "      <td>DR</td>\n",
              "      <td>1953-06-09T04:00:00Z</td>\n",
              "      <td>1953</td>\n",
              "      <td>Tornado</td>\n",
              "      <td>Tornado</td>\n",
              "      <td>0</td>\n",
              "      <td>1</td>\n",
              "      <td>...</td>\n",
              "      <td>1953-06-09T04:00:00Z</td>\n",
              "      <td>1953-06-09T04:00:00Z</td>\n",
              "      <td>NaN</td>\n",
              "      <td>26000</td>\n",
              "      <td>0</td>\n",
              "      <td>Statewide</td>\n",
              "      <td>53007</td>\n",
              "      <td>d3ae03a5caa78ae1c8b6052e5e29a97d</td>\n",
              "      <td>2019-07-26T18:49:32Z</td>\n",
              "      <td>5d1bceafd5b39c032f2602c2</td>\n",
              "    </tr>\n",
              "    <tr>\n",
              "      <th>6</th>\n",
              "      <td>DR-8-IA</td>\n",
              "      <td>8</td>\n",
              "      <td>IA</td>\n",
              "      <td>DR</td>\n",
              "      <td>1953-06-11T04:00:00Z</td>\n",
              "      <td>1953</td>\n",
              "      <td>Flood</td>\n",
              "      <td>Flood</td>\n",
              "      <td>0</td>\n",
              "      <td>1</td>\n",
              "      <td>...</td>\n",
              "      <td>1953-06-11T04:00:00Z</td>\n",
              "      <td>1953-06-11T04:00:00Z</td>\n",
              "      <td>NaN</td>\n",
              "      <td>19000</td>\n",
              "      <td>0</td>\n",
              "      <td>Statewide</td>\n",
              "      <td>53008</td>\n",
              "      <td>e258e9dd25fac73939f59c8ffb5308f5</td>\n",
              "      <td>2019-07-26T18:49:32Z</td>\n",
              "      <td>5d1bceafd5b39c032f2602c4</td>\n",
              "    </tr>\n",
              "    <tr>\n",
              "      <th>7</th>\n",
              "      <td>DR-7-MA</td>\n",
              "      <td>7</td>\n",
              "      <td>MA</td>\n",
              "      <td>DR</td>\n",
              "      <td>1953-06-11T04:00:00Z</td>\n",
              "      <td>1953</td>\n",
              "      <td>Tornado</td>\n",
              "      <td>Tornado</td>\n",
              "      <td>0</td>\n",
              "      <td>1</td>\n",
              "      <td>...</td>\n",
              "      <td>1953-06-11T04:00:00Z</td>\n",
              "      <td>1953-06-11T04:00:00Z</td>\n",
              "      <td>NaN</td>\n",
              "      <td>25000</td>\n",
              "      <td>0</td>\n",
              "      <td>Statewide</td>\n",
              "      <td>53009</td>\n",
              "      <td>6bab17e16984fc75f61a8445df3e95d9</td>\n",
              "      <td>2019-07-26T18:49:32Z</td>\n",
              "      <td>5d1bceafd5b39c032f2602c9</td>\n",
              "    </tr>\n",
              "    <tr>\n",
              "      <th>8</th>\n",
              "      <td>DR-9-TX</td>\n",
              "      <td>9</td>\n",
              "      <td>TX</td>\n",
              "      <td>DR</td>\n",
              "      <td>1953-06-19T04:00:00Z</td>\n",
              "      <td>1953</td>\n",
              "      <td>Flood</td>\n",
              "      <td>Flood</td>\n",
              "      <td>0</td>\n",
              "      <td>1</td>\n",
              "      <td>...</td>\n",
              "      <td>1953-06-19T04:00:00Z</td>\n",
              "      <td>1953-06-19T04:00:00Z</td>\n",
              "      <td>NaN</td>\n",
              "      <td>48000</td>\n",
              "      <td>0</td>\n",
              "      <td>Statewide</td>\n",
              "      <td>53010</td>\n",
              "      <td>4485da27a9218458eb2d13a6c33a4c62</td>\n",
              "      <td>2019-07-26T18:49:32Z</td>\n",
              "      <td>5d1bceafd5b39c032f2602c6</td>\n",
              "    </tr>\n",
              "    <tr>\n",
              "      <th>9</th>\n",
              "      <td>DR-11-NH</td>\n",
              "      <td>11</td>\n",
              "      <td>NH</td>\n",
              "      <td>DR</td>\n",
              "      <td>1953-07-02T04:00:00Z</td>\n",
              "      <td>1953</td>\n",
              "      <td>Fire</td>\n",
              "      <td>Forest Fire</td>\n",
              "      <td>0</td>\n",
              "      <td>1</td>\n",
              "      <td>...</td>\n",
              "      <td>1953-07-02T04:00:00Z</td>\n",
              "      <td>1953-07-02T04:00:00Z</td>\n",
              "      <td>NaN</td>\n",
              "      <td>33000</td>\n",
              "      <td>0</td>\n",
              "      <td>Statewide</td>\n",
              "      <td>53011</td>\n",
              "      <td>86a70820dbb80e585cc01e2ce502005c</td>\n",
              "      <td>2019-07-26T18:49:32Z</td>\n",
              "      <td>5d1bceafd5b39c032f2602c5</td>\n",
              "    </tr>\n",
              "  </tbody>\n",
              "</table>\n",
              "<p>10 rows × 22 columns</p>\n",
              "</div>\n",
              "      <button class=\"colab-df-convert\" onclick=\"convertToInteractive('df-fff78ea1-e4fe-4652-a8b9-91454e5f44a8')\"\n",
              "              title=\"Convert this dataframe to an interactive table.\"\n",
              "              style=\"display:none;\">\n",
              "        \n",
              "  <svg xmlns=\"http://www.w3.org/2000/svg\" height=\"24px\"viewBox=\"0 0 24 24\"\n",
              "       width=\"24px\">\n",
              "    <path d=\"M0 0h24v24H0V0z\" fill=\"none\"/>\n",
              "    <path d=\"M18.56 5.44l.94 2.06.94-2.06 2.06-.94-2.06-.94-.94-2.06-.94 2.06-2.06.94zm-11 1L8.5 8.5l.94-2.06 2.06-.94-2.06-.94L8.5 2.5l-.94 2.06-2.06.94zm10 10l.94 2.06.94-2.06 2.06-.94-2.06-.94-.94-2.06-.94 2.06-2.06.94z\"/><path d=\"M17.41 7.96l-1.37-1.37c-.4-.4-.92-.59-1.43-.59-.52 0-1.04.2-1.43.59L10.3 9.45l-7.72 7.72c-.78.78-.78 2.05 0 2.83L4 21.41c.39.39.9.59 1.41.59.51 0 1.02-.2 1.41-.59l7.78-7.78 2.81-2.81c.8-.78.8-2.07 0-2.86zM5.41 20L4 18.59l7.72-7.72 1.47 1.35L5.41 20z\"/>\n",
              "  </svg>\n",
              "      </button>\n",
              "      \n",
              "  <style>\n",
              "    .colab-df-container {\n",
              "      display:flex;\n",
              "      flex-wrap:wrap;\n",
              "      gap: 12px;\n",
              "    }\n",
              "\n",
              "    .colab-df-convert {\n",
              "      background-color: #E8F0FE;\n",
              "      border: none;\n",
              "      border-radius: 50%;\n",
              "      cursor: pointer;\n",
              "      display: none;\n",
              "      fill: #1967D2;\n",
              "      height: 32px;\n",
              "      padding: 0 0 0 0;\n",
              "      width: 32px;\n",
              "    }\n",
              "\n",
              "    .colab-df-convert:hover {\n",
              "      background-color: #E2EBFA;\n",
              "      box-shadow: 0px 1px 2px rgba(60, 64, 67, 0.3), 0px 1px 3px 1px rgba(60, 64, 67, 0.15);\n",
              "      fill: #174EA6;\n",
              "    }\n",
              "\n",
              "    [theme=dark] .colab-df-convert {\n",
              "      background-color: #3B4455;\n",
              "      fill: #D2E3FC;\n",
              "    }\n",
              "\n",
              "    [theme=dark] .colab-df-convert:hover {\n",
              "      background-color: #434B5C;\n",
              "      box-shadow: 0px 1px 3px 1px rgba(0, 0, 0, 0.15);\n",
              "      filter: drop-shadow(0px 1px 2px rgba(0, 0, 0, 0.3));\n",
              "      fill: #FFFFFF;\n",
              "    }\n",
              "  </style>\n",
              "\n",
              "      <script>\n",
              "        const buttonEl =\n",
              "          document.querySelector('#df-fff78ea1-e4fe-4652-a8b9-91454e5f44a8 button.colab-df-convert');\n",
              "        buttonEl.style.display =\n",
              "          google.colab.kernel.accessAllowed ? 'block' : 'none';\n",
              "\n",
              "        async function convertToInteractive(key) {\n",
              "          const element = document.querySelector('#df-fff78ea1-e4fe-4652-a8b9-91454e5f44a8');\n",
              "          const dataTable =\n",
              "            await google.colab.kernel.invokeFunction('convertToInteractive',\n",
              "                                                     [key], {});\n",
              "          if (!dataTable) return;\n",
              "\n",
              "          const docLinkHtml = 'Like what you see? Visit the ' +\n",
              "            '<a target=\"_blank\" href=https://colab.research.google.com/notebooks/data_table.ipynb>data table notebook</a>'\n",
              "            + ' to learn more about interactive tables.';\n",
              "          element.innerHTML = '';\n",
              "          dataTable['output_type'] = 'display_data';\n",
              "          await google.colab.output.renderOutput(dataTable, element);\n",
              "          const docLink = document.createElement('div');\n",
              "          docLink.innerHTML = docLinkHtml;\n",
              "          element.appendChild(docLink);\n",
              "        }\n",
              "      </script>\n",
              "    </div>\n",
              "  </div>\n",
              "  "
            ]
          },
          "metadata": {},
          "execution_count": 2
        }
      ]
    },
    {
      "cell_type": "code",
      "source": [
        "# Produce the information summary of the data set.\n",
        "# This helps us learn more about the data within the file.\n",
        "\n",
        "df.info()"
      ],
      "metadata": {
        "trusted": true,
        "id": "r3ZZC0NPiUHf",
        "colab": {
          "base_uri": "https://localhost:8080/"
        },
        "outputId": "351993dc-031b-47b0-c580-6715cab5f73b"
      },
      "execution_count": 3,
      "outputs": [
        {
          "output_type": "stream",
          "name": "stdout",
          "text": [
            "<class 'pandas.core.frame.DataFrame'>\n",
            "RangeIndex: 59392 entries, 0 to 59391\n",
            "Data columns (total 22 columns):\n",
            " #   Column                      Non-Null Count  Dtype \n",
            "---  ------                      --------------  ----- \n",
            " 0   fema_declaration_string     59392 non-null  object\n",
            " 1   disaster_number             59392 non-null  int64 \n",
            " 2   state                       59392 non-null  object\n",
            " 3   declaration_type            59392 non-null  object\n",
            " 4   declaration_date            59392 non-null  object\n",
            " 5   fy_declared                 59392 non-null  int64 \n",
            " 6   incident_type               59392 non-null  object\n",
            " 7   declaration_title           59392 non-null  object\n",
            " 8   ih_program_declared         59392 non-null  int64 \n",
            " 9   ia_program_declared         59392 non-null  int64 \n",
            " 10  pa_program_declared         59392 non-null  int64 \n",
            " 11  hm_program_declared         59392 non-null  int64 \n",
            " 12  incident_begin_date         59392 non-null  object\n",
            " 13  incident_end_date           51226 non-null  object\n",
            " 14  disaster_closeout_date      3080 non-null   object\n",
            " 15  fips                        59392 non-null  int64 \n",
            " 16  place_code                  59392 non-null  int64 \n",
            " 17  designated_area             59392 non-null  object\n",
            " 18  declaration_request_number  59392 non-null  int64 \n",
            " 19  hash                        59318 non-null  object\n",
            " 20  last_refresh                59392 non-null  object\n",
            " 21  id                          59392 non-null  object\n",
            "dtypes: int64(9), object(13)\n",
            "memory usage: 10.0+ MB\n"
          ]
        }
      ]
    },
    {
      "cell_type": "code",
      "source": [
        "# Create a pairplot to compare the disaster instances, compared with\n",
        "# declared instances.\n",
        "\n",
        "sns.pairplot(df[['disaster_number','fy_declared','incident_type','declaration_request_number']]);"
      ],
      "metadata": {
        "trusted": true,
        "id": "aTRbhNIGiUHf",
        "colab": {
          "base_uri": "https://localhost:8080/",
          "height": 550
        },
        "outputId": "8810b26f-877a-4b49-f551-5b48b694c25b"
      },
      "execution_count": 4,
      "outputs": [
        {
          "output_type": "display_data",
          "data": {
            "text/plain": [
              "<Figure size 540x540 with 12 Axes>"
            ],
            "image/png": "[encoded data removed]"
          },
          "metadata": {
            "needs_background": "light"
          }
        }
      ]
    },
    {
      "cell_type": "markdown",
      "source": [
        "# Disaster Frequency by State"
      ],
      "metadata": {
        "id": "tVx00ZA_iUHg"
      }
    },
    {
      "cell_type": "code",
      "source": [
        "# Produce every type of storm that is represented in the data set.\n",
        "# Then, produce the total instances of each in the data set.\n",
        "\n",
        "disaster_types = df['incident_type'].unique()\n",
        "print(\"Types of Disasters reported:\\n\\n\", disaster_types)\n",
        "print(\"Occurrences:\\n\\n\",df['incident_type'].value_counts())"
      ],
      "metadata": {
        "trusted": true,
        "id": "V-__TAwViUHg",
        "colab": {
          "base_uri": "https://localhost:8080/"
        },
        "outputId": "ecaf7af0-1dc7-4bf2-8e2d-b0b37676fe01"
      },
      "execution_count": 5,
      "outputs": [
        {
          "output_type": "stream",
          "name": "stdout",
          "text": [
            "Types of Disasters reported:\n",
            "\n",
            " ['Tornado' 'Flood' 'Fire' 'Other' 'Earthquake' 'Hurricane' 'Volcano'\n",
            " 'Severe Storm(s)' 'Toxic Substances' 'Typhoon' 'Drought'\n",
            " 'Dam/Levee Break' 'Snow' 'Severe Ice Storm' 'Freezing' 'Coastal Storm'\n",
            " 'Fishing Losses' 'Mud/Landslide' 'Human Cause' 'Terrorist' 'Tsunami'\n",
            " 'Chemical' 'Biological']\n",
            "Occurrences:\n",
            "\n",
            " Severe Storm(s)     17032\n",
            "Hurricane           10880\n",
            "Flood               10395\n",
            "Biological           7645\n",
            "Snow                 3659\n",
            "Fire                 3334\n",
            "Severe Ice Storm     1990\n",
            "Tornado              1463\n",
            "Drought              1292\n",
            "Coastal Storm         572\n",
            "Freezing              301\n",
            "Other                 297\n",
            "Earthquake            226\n",
            "Typhoon               130\n",
            "Volcano                51\n",
            "Fishing Losses         42\n",
            "Mud/Landslide          31\n",
            "Dam/Levee Break        13\n",
            "Toxic Substances        9\n",
            "Tsunami                 9\n",
            "Chemical                9\n",
            "Human Cause             7\n",
            "Terrorist               5\n",
            "Name: incident_type, dtype: int64\n"
          ]
        }
      ]
    },
    {
      "cell_type": "code",
      "source": [
        "# Here we are plotting natural disasters over the years by count and frequency.\n",
        "\n",
        "plt.pyplot.figure(figsize=(10,6))\n",
        "sns.distplot(df['incident_type'].value_counts());"
      ],
      "metadata": {
        "trusted": true,
        "id": "s8cHQrAXiUHh",
        "colab": {
          "base_uri": "https://localhost:8080/",
          "height": 443
        },
        "outputId": "d57ea593-8d2c-49aa-acfc-7f986f98572c"
      },
      "execution_count": 6,
      "outputs": [
        {
          "output_type": "stream",
          "name": "stderr",
          "text": [
            "/usr/local/lib/python3.7/dist-packages/seaborn/distributions.py:2619: FutureWarning: `distplot` is a deprecated function and will be removed in a future version. Please adapt your code to use either `displot` (a figure-level function with similar flexibility) or `histplot` (an axes-level function for histograms).\n",
            "  warnings.warn(msg, FutureWarning)\n"
          ]
        },
        {
          "output_type": "display_data",
          "data": {
            "text/plain": [
              "<Figure size 720x432 with 1 Axes>"
            ],
            "image/png": "[encoded data removed]"
          },
          "metadata": {
            "needs_background": "light"
          }
        }
      ]
    },
    {
      "cell_type": "code",
      "source": [
        "# Here we are plotting disaster frequency over the type of disaster.\n",
        "\n",
        "m=df[['fy_declared','incident_type']].groupby('fy_declared').describe()['incident_type'].reset_index()\n",
        "plt.pyplot.figure(figsize=(9,6))\n",
        "sns.barplot(x='top',y='freq',data =m);"
      ],
      "metadata": {
        "trusted": true,
        "id": "2BHeWI9WiUHh",
        "colab": {
          "base_uri": "https://localhost:8080/",
          "height": 391
        },
        "outputId": "2313d103-62a3-49a5-b7da-31257e064498"
      },
      "execution_count": 7,
      "outputs": [
        {
          "output_type": "display_data",
          "data": {
            "text/plain": [
              "<Figure size 648x432 with 1 Axes>"
            ],
            "image/png": "[encoded data removed]"
          },
          "metadata": {
            "needs_background": "light"
          }
        }
      ]
    },
    {
      "cell_type": "code",
      "source": [
        "# Produce the total number of declared natural disasters by year.\n",
        "# Order by most-to-least total declared disasters.\n",
        "\n",
        "m=df['fy_declared'].value_counts().reset_index()\n",
        "m.head(10)"
      ],
      "metadata": {
        "trusted": true,
        "id": "MPiAdw-2iUHi",
        "colab": {
          "base_uri": "https://localhost:8080/",
          "height": 359
        },
        "outputId": "cf773617-a3fb-4eae-9a0c-d99d9e42356f"
      },
      "execution_count": 8,
      "outputs": [
        {
          "output_type": "execute_result",
          "data": {
            "text/plain": [
              "   index  fy_declared\n",
              "0   2020         8410\n",
              "1   2005         4661\n",
              "2   2011         2684\n",
              "3   2008         2456\n",
              "4   2019         1916\n",
              "5   2017         1905\n",
              "6   2004         1894\n",
              "7   1993         1773\n",
              "8   1996         1750\n",
              "9   2003         1662"
            ],
            "text/html": [
              "\n",
              "  <div id=\"df-e10b2717-5088-4c1e-b7b8-504d031474a8\">\n",
              "    <div class=\"colab-df-container\">\n",
              "      <div>\n",
              "<style scoped>\n",
              "    .dataframe tbody tr th:only-of-type {\n",
              "        vertical-align: middle;\n",
              "    }\n",
              "\n",
              "    .dataframe tbody tr th {\n",
              "        vertical-align: top;\n",
              "    }\n",
              "\n",
              "    .dataframe thead th {\n",
              "        text-align: right;\n",
              "    }\n",
              "</style>\n",
              "<table border=\"1\" class=\"dataframe\">\n",
              "  <thead>\n",
              "    <tr style=\"text-align: right;\">\n",
              "      <th></th>\n",
              "      <th>index</th>\n",
              "      <th>fy_declared</th>\n",
              "    </tr>\n",
              "  </thead>\n",
              "  <tbody>\n",
              "    <tr>\n",
              "      <th>0</th>\n",
              "      <td>2020</td>\n",
              "      <td>8410</td>\n",
              "    </tr>\n",
              "    <tr>\n",
              "      <th>1</th>\n",
              "      <td>2005</td>\n",
              "      <td>4661</td>\n",
              "    </tr>\n",
              "    <tr>\n",
              "      <th>2</th>\n",
              "      <td>2011</td>\n",
              "      <td>2684</td>\n",
              "    </tr>\n",
              "    <tr>\n",
              "      <th>3</th>\n",
              "      <td>2008</td>\n",
              "      <td>2456</td>\n",
              "    </tr>\n",
              "    <tr>\n",
              "      <th>4</th>\n",
              "      <td>2019</td>\n",
              "      <td>1916</td>\n",
              "    </tr>\n",
              "    <tr>\n",
              "      <th>5</th>\n",
              "      <td>2017</td>\n",
              "      <td>1905</td>\n",
              "    </tr>\n",
              "    <tr>\n",
              "      <th>6</th>\n",
              "      <td>2004</td>\n",
              "      <td>1894</td>\n",
              "    </tr>\n",
              "    <tr>\n",
              "      <th>7</th>\n",
              "      <td>1993</td>\n",
              "      <td>1773</td>\n",
              "    </tr>\n",
              "    <tr>\n",
              "      <th>8</th>\n",
              "      <td>1996</td>\n",
              "      <td>1750</td>\n",
              "    </tr>\n",
              "    <tr>\n",
              "      <th>9</th>\n",
              "      <td>2003</td>\n",
              "      <td>1662</td>\n",
              "    </tr>\n",
              "  </tbody>\n",
              "</table>\n",
              "</div>\n",
              "      <button class=\"colab-df-convert\" onclick=\"convertToInteractive('df-e10b2717-5088-4c1e-b7b8-504d031474a8')\"\n",
              "              title=\"Convert this dataframe to an interactive table.\"\n",
              "              style=\"display:none;\">\n",
              "        \n",
              "  <svg xmlns=\"http://www.w3.org/2000/svg\" height=\"24px\"viewBox=\"0 0 24 24\"\n",
              "       width=\"24px\">\n",
              "    <path d=\"M0 0h24v24H0V0z\" fill=\"none\"/>\n",
              "    <path d=\"M18.56 5.44l.94 2.06.94-2.06 2.06-.94-2.06-.94-.94-2.06-.94 2.06-2.06.94zm-11 1L8.5 8.5l.94-2.06 2.06-.94-2.06-.94L8.5 2.5l-.94 2.06-2.06.94zm10 10l.94 2.06.94-2.06 2.06-.94-2.06-.94-.94-2.06-.94 2.06-2.06.94z\"/><path d=\"M17.41 7.96l-1.37-1.37c-.4-.4-.92-.59-1.43-.59-.52 0-1.04.2-1.43.59L10.3 9.45l-7.72 7.72c-.78.78-.78 2.05 0 2.83L4 21.41c.39.39.9.59 1.41.59.51 0 1.02-.2 1.41-.59l7.78-7.78 2.81-2.81c.8-.78.8-2.07 0-2.86zM5.41 20L4 18.59l7.72-7.72 1.47 1.35L5.41 20z\"/>\n",
              "  </svg>\n",
              "      </button>\n",
              "      \n",
              "  <style>\n",
              "    .colab-df-container {\n",
              "      display:flex;\n",
              "      flex-wrap:wrap;\n",
              "      gap: 12px;\n",
              "    }\n",
              "\n",
              "    .colab-df-convert {\n",
              "      background-color: #E8F0FE;\n",
              "      border: none;\n",
              "      border-radius: 50%;\n",
              "      cursor: pointer;\n",
              "      display: none;\n",
              "      fill: #1967D2;\n",
              "      height: 32px;\n",
              "      padding: 0 0 0 0;\n",
              "      width: 32px;\n",
              "    }\n",
              "\n",
              "    .colab-df-convert:hover {\n",
              "      background-color: #E2EBFA;\n",
              "      box-shadow: 0px 1px 2px rgba(60, 64, 67, 0.3), 0px 1px 3px 1px rgba(60, 64, 67, 0.15);\n",
              "      fill: #174EA6;\n",
              "    }\n",
              "\n",
              "    [theme=dark] .colab-df-convert {\n",
              "      background-color: #3B4455;\n",
              "      fill: #D2E3FC;\n",
              "    }\n",
              "\n",
              "    [theme=dark] .colab-df-convert:hover {\n",
              "      background-color: #434B5C;\n",
              "      box-shadow: 0px 1px 3px 1px rgba(0, 0, 0, 0.15);\n",
              "      filter: drop-shadow(0px 1px 2px rgba(0, 0, 0, 0.3));\n",
              "      fill: #FFFFFF;\n",
              "    }\n",
              "  </style>\n",
              "\n",
              "      <script>\n",
              "        const buttonEl =\n",
              "          document.querySelector('#df-e10b2717-5088-4c1e-b7b8-504d031474a8 button.colab-df-convert');\n",
              "        buttonEl.style.display =\n",
              "          google.colab.kernel.accessAllowed ? 'block' : 'none';\n",
              "\n",
              "        async function convertToInteractive(key) {\n",
              "          const element = document.querySelector('#df-e10b2717-5088-4c1e-b7b8-504d031474a8');\n",
              "          const dataTable =\n",
              "            await google.colab.kernel.invokeFunction('convertToInteractive',\n",
              "                                                     [key], {});\n",
              "          if (!dataTable) return;\n",
              "\n",
              "          const docLinkHtml = 'Like what you see? Visit the ' +\n",
              "            '<a target=\"_blank\" href=https://colab.research.google.com/notebooks/data_table.ipynb>data table notebook</a>'\n",
              "            + ' to learn more about interactive tables.';\n",
              "          element.innerHTML = '';\n",
              "          dataTable['output_type'] = 'display_data';\n",
              "          await google.colab.output.renderOutput(dataTable, element);\n",
              "          const docLink = document.createElement('div');\n",
              "          docLink.innerHTML = docLinkHtml;\n",
              "          element.appendChild(docLink);\n",
              "        }\n",
              "      </script>\n",
              "    </div>\n",
              "  </div>\n",
              "  "
            ]
          },
          "metadata": {},
          "execution_count": 8
        }
      ]
    },
    {
      "cell_type": "code",
      "source": [
        "# Here we are plotting total declared disasters over the yearly index.\n",
        "\n",
        "sns.lmplot(x='index',y='fy_declared',data=m.sort_values(by='fy_declared'),\n",
        "           aspect=1.7, height=5,markers=['o'], scatter_kws={'s':20});"
      ],
      "metadata": {
        "trusted": true,
        "id": "SipPrkV6iUHi",
        "colab": {
          "base_uri": "https://localhost:8080/",
          "height": 369
        },
        "outputId": "83d0fb7c-99c2-4e50-9bf7-2d520ef72ab0"
      },
      "execution_count": 9,
      "outputs": [
        {
          "output_type": "display_data",
          "data": {
            "text/plain": [
              "<Figure size 612x360 with 1 Axes>"
            ],
            "image/png": "[encoded data removed]"
          },
          "metadata": {
            "needs_background": "light"
          }
        }
      ]
    },
    {
      "cell_type": "markdown",
      "source": [
        "## Which States have Which Disasters?"
      ],
      "metadata": {
        "id": "auNcSZ3kiUHj"
      }
    },
    {
      "cell_type": "code",
      "source": [
        "# Here we will sort the data by state, total count of storm rreports, total \n",
        "# unique storms, type of storm and the storm frequency.\n",
        "\n",
        "m=df[['state','incident_type']].groupby('state').describe()\n",
        "m['incident_type'].sort_values(by='count',ascending=False).head(10)"
      ],
      "metadata": {
        "trusted": true,
        "id": "r-1VqytmiUHj",
        "colab": {
          "base_uri": "https://localhost:8080/",
          "height": 390
        },
        "outputId": "1352a382-6b8d-4457-eafa-e2204f5f1291"
      },
      "execution_count": 10,
      "outputs": [
        {
          "output_type": "execute_result",
          "data": {
            "text/plain": [
              "      count unique              top  freq\n",
              "state                                    \n",
              "TX     4561     11             Fire  1216\n",
              "MO     2767      8  Severe Storm(s)  1406\n",
              "VA     2460     10        Hurricane   877\n",
              "KY     2417     10  Severe Storm(s)   987\n",
              "OK     2279      9  Severe Storm(s)   997\n",
              "GA     2240     10        Hurricane   884\n",
              "FL     1969     10        Hurricane   930\n",
              "NC     1848     10        Hurricane  1075\n",
              "IA     1800      8            Flood   722\n",
              "LA     1751     11        Hurricane   818"
            ],
            "text/html": [
              "\n",
              "  <div id=\"df-539a344e-d96d-403d-9f82-2fd715d16f0a\">\n",
              "    <div class=\"colab-df-container\">\n",
              "      <div>\n",
              "<style scoped>\n",
              "    .dataframe tbody tr th:only-of-type {\n",
              "        vertical-align: middle;\n",
              "    }\n",
              "\n",
              "    .dataframe tbody tr th {\n",
              "        vertical-align: top;\n",
              "    }\n",
              "\n",
              "    .dataframe thead th {\n",
              "        text-align: right;\n",
              "    }\n",
              "</style>\n",
              "<table border=\"1\" class=\"dataframe\">\n",
              "  <thead>\n",
              "    <tr style=\"text-align: right;\">\n",
              "      <th></th>\n",
              "      <th>count</th>\n",
              "      <th>unique</th>\n",
              "      <th>top</th>\n",
              "      <th>freq</th>\n",
              "    </tr>\n",
              "    <tr>\n",
              "      <th>state</th>\n",
              "      <th></th>\n",
              "      <th></th>\n",
              "      <th></th>\n",
              "      <th></th>\n",
              "    </tr>\n",
              "  </thead>\n",
              "  <tbody>\n",
              "    <tr>\n",
              "      <th>TX</th>\n",
              "      <td>4561</td>\n",
              "      <td>11</td>\n",
              "      <td>Fire</td>\n",
              "      <td>1216</td>\n",
              "    </tr>\n",
              "    <tr>\n",
              "      <th>MO</th>\n",
              "      <td>2767</td>\n",
              "      <td>8</td>\n",
              "      <td>Severe Storm(s)</td>\n",
              "      <td>1406</td>\n",
              "    </tr>\n",
              "    <tr>\n",
              "      <th>VA</th>\n",
              "      <td>2460</td>\n",
              "      <td>10</td>\n",
              "      <td>Hurricane</td>\n",
              "      <td>877</td>\n",
              "    </tr>\n",
              "    <tr>\n",
              "      <th>KY</th>\n",
              "      <td>2417</td>\n",
              "      <td>10</td>\n",
              "      <td>Severe Storm(s)</td>\n",
              "      <td>987</td>\n",
              "    </tr>\n",
              "    <tr>\n",
              "      <th>OK</th>\n",
              "      <td>2279</td>\n",
              "      <td>9</td>\n",
              "      <td>Severe Storm(s)</td>\n",
              "      <td>997</td>\n",
              "    </tr>\n",
              "    <tr>\n",
              "      <th>GA</th>\n",
              "      <td>2240</td>\n",
              "      <td>10</td>\n",
              "      <td>Hurricane</td>\n",
              "      <td>884</td>\n",
              "    </tr>\n",
              "    <tr>\n",
              "      <th>FL</th>\n",
              "      <td>1969</td>\n",
              "      <td>10</td>\n",
              "      <td>Hurricane</td>\n",
              "      <td>930</td>\n",
              "    </tr>\n",
              "    <tr>\n",
              "      <th>NC</th>\n",
              "      <td>1848</td>\n",
              "      <td>10</td>\n",
              "      <td>Hurricane</td>\n",
              "      <td>1075</td>\n",
              "    </tr>\n",
              "    <tr>\n",
              "      <th>IA</th>\n",
              "      <td>1800</td>\n",
              "      <td>8</td>\n",
              "      <td>Flood</td>\n",
              "      <td>722</td>\n",
              "    </tr>\n",
              "    <tr>\n",
              "      <th>LA</th>\n",
              "      <td>1751</td>\n",
              "      <td>11</td>\n",
              "      <td>Hurricane</td>\n",
              "      <td>818</td>\n",
              "    </tr>\n",
              "  </tbody>\n",
              "</table>\n",
              "</div>\n",
              "      <button class=\"colab-df-convert\" onclick=\"convertToInteractive('df-539a344e-d96d-403d-9f82-2fd715d16f0a')\"\n",
              "              title=\"Convert this dataframe to an interactive table.\"\n",
              "              style=\"display:none;\">\n",
              "        \n",
              "  <svg xmlns=\"http://www.w3.org/2000/svg\" height=\"24px\"viewBox=\"0 0 24 24\"\n",
              "       width=\"24px\">\n",
              "    <path d=\"M0 0h24v24H0V0z\" fill=\"none\"/>\n",
              "    <path d=\"M18.56 5.44l.94 2.06.94-2.06 2.06-.94-2.06-.94-.94-2.06-.94 2.06-2.06.94zm-11 1L8.5 8.5l.94-2.06 2.06-.94-2.06-.94L8.5 2.5l-.94 2.06-2.06.94zm10 10l.94 2.06.94-2.06 2.06-.94-2.06-.94-.94-2.06-.94 2.06-2.06.94z\"/><path d=\"M17.41 7.96l-1.37-1.37c-.4-.4-.92-.59-1.43-.59-.52 0-1.04.2-1.43.59L10.3 9.45l-7.72 7.72c-.78.78-.78 2.05 0 2.83L4 21.41c.39.39.9.59 1.41.59.51 0 1.02-.2 1.41-.59l7.78-7.78 2.81-2.81c.8-.78.8-2.07 0-2.86zM5.41 20L4 18.59l7.72-7.72 1.47 1.35L5.41 20z\"/>\n",
              "  </svg>\n",
              "      </button>\n",
              "      \n",
              "  <style>\n",
              "    .colab-df-container {\n",
              "      display:flex;\n",
              "      flex-wrap:wrap;\n",
              "      gap: 12px;\n",
              "    }\n",
              "\n",
              "    .colab-df-convert {\n",
              "      background-color: #E8F0FE;\n",
              "      border: none;\n",
              "      border-radius: 50%;\n",
              "      cursor: pointer;\n",
              "      display: none;\n",
              "      fill: #1967D2;\n",
              "      height: 32px;\n",
              "      padding: 0 0 0 0;\n",
              "      width: 32px;\n",
              "    }\n",
              "\n",
              "    .colab-df-convert:hover {\n",
              "      background-color: #E2EBFA;\n",
              "      box-shadow: 0px 1px 2px rgba(60, 64, 67, 0.3), 0px 1px 3px 1px rgba(60, 64, 67, 0.15);\n",
              "      fill: #174EA6;\n",
              "    }\n",
              "\n",
              "    [theme=dark] .colab-df-convert {\n",
              "      background-color: #3B4455;\n",
              "      fill: #D2E3FC;\n",
              "    }\n",
              "\n",
              "    [theme=dark] .colab-df-convert:hover {\n",
              "      background-color: #434B5C;\n",
              "      box-shadow: 0px 1px 3px 1px rgba(0, 0, 0, 0.15);\n",
              "      filter: drop-shadow(0px 1px 2px rgba(0, 0, 0, 0.3));\n",
              "      fill: #FFFFFF;\n",
              "    }\n",
              "  </style>\n",
              "\n",
              "      <script>\n",
              "        const buttonEl =\n",
              "          document.querySelector('#df-539a344e-d96d-403d-9f82-2fd715d16f0a button.colab-df-convert');\n",
              "        buttonEl.style.display =\n",
              "          google.colab.kernel.accessAllowed ? 'block' : 'none';\n",
              "\n",
              "        async function convertToInteractive(key) {\n",
              "          const element = document.querySelector('#df-539a344e-d96d-403d-9f82-2fd715d16f0a');\n",
              "          const dataTable =\n",
              "            await google.colab.kernel.invokeFunction('convertToInteractive',\n",
              "                                                     [key], {});\n",
              "          if (!dataTable) return;\n",
              "\n",
              "          const docLinkHtml = 'Like what you see? Visit the ' +\n",
              "            '<a target=\"_blank\" href=https://colab.research.google.com/notebooks/data_table.ipynb>data table notebook</a>'\n",
              "            + ' to learn more about interactive tables.';\n",
              "          element.innerHTML = '';\n",
              "          dataTable['output_type'] = 'display_data';\n",
              "          await google.colab.output.renderOutput(dataTable, element);\n",
              "          const docLink = document.createElement('div');\n",
              "          docLink.innerHTML = docLinkHtml;\n",
              "          element.appendChild(docLink);\n",
              "        }\n",
              "      </script>\n",
              "    </div>\n",
              "  </div>\n",
              "  "
            ]
          },
          "metadata": {},
          "execution_count": 10
        }
      ]
    },
    {
      "cell_type": "code",
      "source": [
        "# Here we create another pairplot to compare total report counts, unique counts,\n",
        "# and frequency counts. \n",
        "\n",
        "m=df[['state','incident_type']].groupby('state').describe()\n",
        "sns.pairplot(m['incident_type'].reset_index(drop=True));"
      ],
      "metadata": {
        "trusted": true,
        "id": "gbySMM7HiUHk",
        "colab": {
          "base_uri": "https://localhost:8080/",
          "height": 550
        },
        "outputId": "41238a68-b78c-43a6-bee5-a063655681d1"
      },
      "execution_count": 11,
      "outputs": [
        {
          "output_type": "display_data",
          "data": {
            "text/plain": [
              "<Figure size 540x540 with 12 Axes>"
            ],
            "image/png": "[encoded data removed]"
          },
          "metadata": {
            "needs_background": "light"
          }
        }
      ]
    },
    {
      "cell_type": "code",
      "source": [
        "# This will return the disaster frequency by state, \n",
        "# and order from most-to-least.\n",
        "\n",
        "m['incident_type'].sort_values(by='freq',ascending=False)['freq'].head(10)"
      ],
      "metadata": {
        "trusted": true,
        "id": "MQshxcKkiUHl",
        "colab": {
          "base_uri": "https://localhost:8080/"
        },
        "outputId": "457c8582-8cc3-43d7-b837-97bfac9e0dd0"
      },
      "execution_count": 12,
      "outputs": [
        {
          "output_type": "execute_result",
          "data": {
            "text/plain": [
              "state\n",
              "MO    1406\n",
              "TX    1216\n",
              "NC    1075\n",
              "OK     997\n",
              "KY     987\n",
              "KS     975\n",
              "FL     930\n",
              "GA     884\n",
              "VA     877\n",
              "LA     818\n",
              "Name: freq, dtype: object"
            ]
          },
          "metadata": {},
          "execution_count": 12
        }
      ]
    },
    {
      "cell_type": "markdown",
      "source": [
        "# Most Disaster Affected States"
      ],
      "metadata": {
        "id": "L6o0UarEiUHm"
      }
    },
    {
      "cell_type": "code",
      "source": [
        "# This produces all reported disaster cases by state.\n",
        "\n",
        "p = df[['state','incident_type']].groupby('state').count()\n",
        "p.reset_index(inplace=True)\n",
        "p=p.sort_values(by='incident_type',ascending=False).head(10)\n",
        "p"
      ],
      "metadata": {
        "trusted": true,
        "id": "h6nRgvRBiUHm",
        "colab": {
          "base_uri": "https://localhost:8080/",
          "height": 359
        },
        "outputId": "a6dd2e4d-e336-4878-b3cc-db3eb4a63fa9"
      },
      "execution_count": 13,
      "outputs": [
        {
          "output_type": "execute_result",
          "data": {
            "text/plain": [
              "   state  incident_type\n",
              "50    TX           4561\n",
              "28    MO           2767\n",
              "52    VA           2460\n",
              "20    KY           2417\n",
              "41    OK           2279\n",
              "12    GA           2240\n",
              "10    FL           1969\n",
              "32    NC           1848\n",
              "15    IA           1800\n",
              "21    LA           1751"
            ],
            "text/html": [
              "\n",
              "  <div id=\"df-e96c8bd7-664e-4046-bd3c-6960021ac771\">\n",
              "    <div class=\"colab-df-container\">\n",
              "      <div>\n",
              "<style scoped>\n",
              "    .dataframe tbody tr th:only-of-type {\n",
              "        vertical-align: middle;\n",
              "    }\n",
              "\n",
              "    .dataframe tbody tr th {\n",
              "        vertical-align: top;\n",
              "    }\n",
              "\n",
              "    .dataframe thead th {\n",
              "        text-align: right;\n",
              "    }\n",
              "</style>\n",
              "<table border=\"1\" class=\"dataframe\">\n",
              "  <thead>\n",
              "    <tr style=\"text-align: right;\">\n",
              "      <th></th>\n",
              "      <th>state</th>\n",
              "      <th>incident_type</th>\n",
              "    </tr>\n",
              "  </thead>\n",
              "  <tbody>\n",
              "    <tr>\n",
              "      <th>50</th>\n",
              "      <td>TX</td>\n",
              "      <td>4561</td>\n",
              "    </tr>\n",
              "    <tr>\n",
              "      <th>28</th>\n",
              "      <td>MO</td>\n",
              "      <td>2767</td>\n",
              "    </tr>\n",
              "    <tr>\n",
              "      <th>52</th>\n",
              "      <td>VA</td>\n",
              "      <td>2460</td>\n",
              "    </tr>\n",
              "    <tr>\n",
              "      <th>20</th>\n",
              "      <td>KY</td>\n",
              "      <td>2417</td>\n",
              "    </tr>\n",
              "    <tr>\n",
              "      <th>41</th>\n",
              "      <td>OK</td>\n",
              "      <td>2279</td>\n",
              "    </tr>\n",
              "    <tr>\n",
              "      <th>12</th>\n",
              "      <td>GA</td>\n",
              "      <td>2240</td>\n",
              "    </tr>\n",
              "    <tr>\n",
              "      <th>10</th>\n",
              "      <td>FL</td>\n",
              "      <td>1969</td>\n",
              "    </tr>\n",
              "    <tr>\n",
              "      <th>32</th>\n",
              "      <td>NC</td>\n",
              "      <td>1848</td>\n",
              "    </tr>\n",
              "    <tr>\n",
              "      <th>15</th>\n",
              "      <td>IA</td>\n",
              "      <td>1800</td>\n",
              "    </tr>\n",
              "    <tr>\n",
              "      <th>21</th>\n",
              "      <td>LA</td>\n",
              "      <td>1751</td>\n",
              "    </tr>\n",
              "  </tbody>\n",
              "</table>\n",
              "</div>\n",
              "      <button class=\"colab-df-convert\" onclick=\"convertToInteractive('df-e96c8bd7-664e-4046-bd3c-6960021ac771')\"\n",
              "              title=\"Convert this dataframe to an interactive table.\"\n",
              "              style=\"display:none;\">\n",
              "        \n",
              "  <svg xmlns=\"http://www.w3.org/2000/svg\" height=\"24px\"viewBox=\"0 0 24 24\"\n",
              "       width=\"24px\">\n",
              "    <path d=\"M0 0h24v24H0V0z\" fill=\"none\"/>\n",
              "    <path d=\"M18.56 5.44l.94 2.06.94-2.06 2.06-.94-2.06-.94-.94-2.06-.94 2.06-2.06.94zm-11 1L8.5 8.5l.94-2.06 2.06-.94-2.06-.94L8.5 2.5l-.94 2.06-2.06.94zm10 10l.94 2.06.94-2.06 2.06-.94-2.06-.94-.94-2.06-.94 2.06-2.06.94z\"/><path d=\"M17.41 7.96l-1.37-1.37c-.4-.4-.92-.59-1.43-.59-.52 0-1.04.2-1.43.59L10.3 9.45l-7.72 7.72c-.78.78-.78 2.05 0 2.83L4 21.41c.39.39.9.59 1.41.59.51 0 1.02-.2 1.41-.59l7.78-7.78 2.81-2.81c.8-.78.8-2.07 0-2.86zM5.41 20L4 18.59l7.72-7.72 1.47 1.35L5.41 20z\"/>\n",
              "  </svg>\n",
              "      </button>\n",
              "      \n",
              "  <style>\n",
              "    .colab-df-container {\n",
              "      display:flex;\n",
              "      flex-wrap:wrap;\n",
              "      gap: 12px;\n",
              "    }\n",
              "\n",
              "    .colab-df-convert {\n",
              "      background-color: #E8F0FE;\n",
              "      border: none;\n",
              "      border-radius: 50%;\n",
              "      cursor: pointer;\n",
              "      display: none;\n",
              "      fill: #1967D2;\n",
              "      height: 32px;\n",
              "      padding: 0 0 0 0;\n",
              "      width: 32px;\n",
              "    }\n",
              "\n",
              "    .colab-df-convert:hover {\n",
              "      background-color: #E2EBFA;\n",
              "      box-shadow: 0px 1px 2px rgba(60, 64, 67, 0.3), 0px 1px 3px 1px rgba(60, 64, 67, 0.15);\n",
              "      fill: #174EA6;\n",
              "    }\n",
              "\n",
              "    [theme=dark] .colab-df-convert {\n",
              "      background-color: #3B4455;\n",
              "      fill: #D2E3FC;\n",
              "    }\n",
              "\n",
              "    [theme=dark] .colab-df-convert:hover {\n",
              "      background-color: #434B5C;\n",
              "      box-shadow: 0px 1px 3px 1px rgba(0, 0, 0, 0.15);\n",
              "      filter: drop-shadow(0px 1px 2px rgba(0, 0, 0, 0.3));\n",
              "      fill: #FFFFFF;\n",
              "    }\n",
              "  </style>\n",
              "\n",
              "      <script>\n",
              "        const buttonEl =\n",
              "          document.querySelector('#df-e96c8bd7-664e-4046-bd3c-6960021ac771 button.colab-df-convert');\n",
              "        buttonEl.style.display =\n",
              "          google.colab.kernel.accessAllowed ? 'block' : 'none';\n",
              "\n",
              "        async function convertToInteractive(key) {\n",
              "          const element = document.querySelector('#df-e96c8bd7-664e-4046-bd3c-6960021ac771');\n",
              "          const dataTable =\n",
              "            await google.colab.kernel.invokeFunction('convertToInteractive',\n",
              "                                                     [key], {});\n",
              "          if (!dataTable) return;\n",
              "\n",
              "          const docLinkHtml = 'Like what you see? Visit the ' +\n",
              "            '<a target=\"_blank\" href=https://colab.research.google.com/notebooks/data_table.ipynb>data table notebook</a>'\n",
              "            + ' to learn more about interactive tables.';\n",
              "          element.innerHTML = '';\n",
              "          dataTable['output_type'] = 'display_data';\n",
              "          await google.colab.output.renderOutput(dataTable, element);\n",
              "          const docLink = document.createElement('div');\n",
              "          docLink.innerHTML = docLinkHtml;\n",
              "          element.appendChild(docLink);\n",
              "        }\n",
              "      </script>\n",
              "    </div>\n",
              "  </div>\n",
              "  "
            ]
          },
          "metadata": {},
          "execution_count": 13
        }
      ]
    },
    {
      "cell_type": "code",
      "source": [
        "# This will create a visual plot to show the results of the\n",
        "# data above.\n",
        "\n",
        "plt.pyplot.figure(figsize=(16,8))\n",
        "sns.barplot(x=\"state\", y=\"incident_type\", data=p,);"
      ],
      "metadata": {
        "trusted": true,
        "id": "eDT0jki9iUHn",
        "colab": {
          "base_uri": "https://localhost:8080/",
          "height": 497
        },
        "outputId": "9bfdbc25-629a-4367-f642-c723dbbb4246"
      },
      "execution_count": 14,
      "outputs": [
        {
          "output_type": "display_data",
          "data": {
            "text/plain": [
              "<Figure size 1152x576 with 1 Axes>"
            ],
            "image/png": "[encoded data removed]"
          },
          "metadata": {
            "needs_background": "light"
          }
        }
      ]
    },
    {
      "cell_type": "code",
      "source": [
        "# Since Texas seems to have the most disaster occurances (as shown in the\n",
        "# plot above), we will learn more about Texas disasters.\n",
        "\n",
        "# This will produce the most frequent type of disaster in Texas.\n",
        "\n",
        "print(\"Texas mostly faces:\\n\")\n",
        "df[['state','incident_type']].groupby('state').max().loc['TX']"
      ],
      "metadata": {
        "trusted": true,
        "id": "mjQZ_2myiUHn",
        "colab": {
          "base_uri": "https://localhost:8080/"
        },
        "outputId": "66522016-4892-4776-af2f-74b035fa3b0f"
      },
      "execution_count": 15,
      "outputs": [
        {
          "output_type": "stream",
          "name": "stdout",
          "text": [
            "Texas mostly faces:\n",
            "\n"
          ]
        },
        {
          "output_type": "execute_result",
          "data": {
            "text/plain": [
              "incident_type    Tornado\n",
              "Name: TX, dtype: object"
            ]
          },
          "metadata": {},
          "execution_count": 15
        }
      ]
    },
    {
      "cell_type": "code",
      "source": [
        "# The following will produce Texas's most frequent disaster years.\n",
        "\n",
        "m=df.query('state==\"TX\"')['fy_declared'].value_counts().reset_index()\n",
        "m.head(10)"
      ],
      "metadata": {
        "trusted": true,
        "id": "oJMB0UHNiUHo",
        "colab": {
          "base_uri": "https://localhost:8080/",
          "height": 359
        },
        "outputId": "23d7d9f5-40fc-4bff-dd64-8d65ece2a7fe"
      },
      "execution_count": 16,
      "outputs": [
        {
          "output_type": "execute_result",
          "data": {
            "text/plain": [
              "   index  fy_declared\n",
              "0   2005          763\n",
              "1   2020          525\n",
              "2   2008          476\n",
              "3   1999          297\n",
              "4   1998          293\n",
              "5   2006          277\n",
              "6   2011          261\n",
              "7   2016          168\n",
              "8   1993          153\n",
              "9   2007          116"
            ],
            "text/html": [
              "\n",
              "  <div id=\"df-e9a6aa98-03ff-480a-9632-c149faaa2fa5\">\n",
              "    <div class=\"colab-df-container\">\n",
              "      <div>\n",
              "<style scoped>\n",
              "    .dataframe tbody tr th:only-of-type {\n",
              "        vertical-align: middle;\n",
              "    }\n",
              "\n",
              "    .dataframe tbody tr th {\n",
              "        vertical-align: top;\n",
              "    }\n",
              "\n",
              "    .dataframe thead th {\n",
              "        text-align: right;\n",
              "    }\n",
              "</style>\n",
              "<table border=\"1\" class=\"dataframe\">\n",
              "  <thead>\n",
              "    <tr style=\"text-align: right;\">\n",
              "      <th></th>\n",
              "      <th>index</th>\n",
              "      <th>fy_declared</th>\n",
              "    </tr>\n",
              "  </thead>\n",
              "  <tbody>\n",
              "    <tr>\n",
              "      <th>0</th>\n",
              "      <td>2005</td>\n",
              "      <td>763</td>\n",
              "    </tr>\n",
              "    <tr>\n",
              "      <th>1</th>\n",
              "      <td>2020</td>\n",
              "      <td>525</td>\n",
              "    </tr>\n",
              "    <tr>\n",
              "      <th>2</th>\n",
              "      <td>2008</td>\n",
              "      <td>476</td>\n",
              "    </tr>\n",
              "    <tr>\n",
              "      <th>3</th>\n",
              "      <td>1999</td>\n",
              "      <td>297</td>\n",
              "    </tr>\n",
              "    <tr>\n",
              "      <th>4</th>\n",
              "      <td>1998</td>\n",
              "      <td>293</td>\n",
              "    </tr>\n",
              "    <tr>\n",
              "      <th>5</th>\n",
              "      <td>2006</td>\n",
              "      <td>277</td>\n",
              "    </tr>\n",
              "    <tr>\n",
              "      <th>6</th>\n",
              "      <td>2011</td>\n",
              "      <td>261</td>\n",
              "    </tr>\n",
              "    <tr>\n",
              "      <th>7</th>\n",
              "      <td>2016</td>\n",
              "      <td>168</td>\n",
              "    </tr>\n",
              "    <tr>\n",
              "      <th>8</th>\n",
              "      <td>1993</td>\n",
              "      <td>153</td>\n",
              "    </tr>\n",
              "    <tr>\n",
              "      <th>9</th>\n",
              "      <td>2007</td>\n",
              "      <td>116</td>\n",
              "    </tr>\n",
              "  </tbody>\n",
              "</table>\n",
              "</div>\n",
              "      <button class=\"colab-df-convert\" onclick=\"convertToInteractive('df-e9a6aa98-03ff-480a-9632-c149faaa2fa5')\"\n",
              "              title=\"Convert this dataframe to an interactive table.\"\n",
              "              style=\"display:none;\">\n",
              "        \n",
              "  <svg xmlns=\"http://www.w3.org/2000/svg\" height=\"24px\"viewBox=\"0 0 24 24\"\n",
              "       width=\"24px\">\n",
              "    <path d=\"M0 0h24v24H0V0z\" fill=\"none\"/>\n",
              "    <path d=\"M18.56 5.44l.94 2.06.94-2.06 2.06-.94-2.06-.94-.94-2.06-.94 2.06-2.06.94zm-11 1L8.5 8.5l.94-2.06 2.06-.94-2.06-.94L8.5 2.5l-.94 2.06-2.06.94zm10 10l.94 2.06.94-2.06 2.06-.94-2.06-.94-.94-2.06-.94 2.06-2.06.94z\"/><path d=\"M17.41 7.96l-1.37-1.37c-.4-.4-.92-.59-1.43-.59-.52 0-1.04.2-1.43.59L10.3 9.45l-7.72 7.72c-.78.78-.78 2.05 0 2.83L4 21.41c.39.39.9.59 1.41.59.51 0 1.02-.2 1.41-.59l7.78-7.78 2.81-2.81c.8-.78.8-2.07 0-2.86zM5.41 20L4 18.59l7.72-7.72 1.47 1.35L5.41 20z\"/>\n",
              "  </svg>\n",
              "      </button>\n",
              "      \n",
              "  <style>\n",
              "    .colab-df-container {\n",
              "      display:flex;\n",
              "      flex-wrap:wrap;\n",
              "      gap: 12px;\n",
              "    }\n",
              "\n",
              "    .colab-df-convert {\n",
              "      background-color: #E8F0FE;\n",
              "      border: none;\n",
              "      border-radius: 50%;\n",
              "      cursor: pointer;\n",
              "      display: none;\n",
              "      fill: #1967D2;\n",
              "      height: 32px;\n",
              "      padding: 0 0 0 0;\n",
              "      width: 32px;\n",
              "    }\n",
              "\n",
              "    .colab-df-convert:hover {\n",
              "      background-color: #E2EBFA;\n",
              "      box-shadow: 0px 1px 2px rgba(60, 64, 67, 0.3), 0px 1px 3px 1px rgba(60, 64, 67, 0.15);\n",
              "      fill: #174EA6;\n",
              "    }\n",
              "\n",
              "    [theme=dark] .colab-df-convert {\n",
              "      background-color: #3B4455;\n",
              "      fill: #D2E3FC;\n",
              "    }\n",
              "\n",
              "    [theme=dark] .colab-df-convert:hover {\n",
              "      background-color: #434B5C;\n",
              "      box-shadow: 0px 1px 3px 1px rgba(0, 0, 0, 0.15);\n",
              "      filter: drop-shadow(0px 1px 2px rgba(0, 0, 0, 0.3));\n",
              "      fill: #FFFFFF;\n",
              "    }\n",
              "  </style>\n",
              "\n",
              "      <script>\n",
              "        const buttonEl =\n",
              "          document.querySelector('#df-e9a6aa98-03ff-480a-9632-c149faaa2fa5 button.colab-df-convert');\n",
              "        buttonEl.style.display =\n",
              "          google.colab.kernel.accessAllowed ? 'block' : 'none';\n",
              "\n",
              "        async function convertToInteractive(key) {\n",
              "          const element = document.querySelector('#df-e9a6aa98-03ff-480a-9632-c149faaa2fa5');\n",
              "          const dataTable =\n",
              "            await google.colab.kernel.invokeFunction('convertToInteractive',\n",
              "                                                     [key], {});\n",
              "          if (!dataTable) return;\n",
              "\n",
              "          const docLinkHtml = 'Like what you see? Visit the ' +\n",
              "            '<a target=\"_blank\" href=https://colab.research.google.com/notebooks/data_table.ipynb>data table notebook</a>'\n",
              "            + ' to learn more about interactive tables.';\n",
              "          element.innerHTML = '';\n",
              "          dataTable['output_type'] = 'display_data';\n",
              "          await google.colab.output.renderOutput(dataTable, element);\n",
              "          const docLink = document.createElement('div');\n",
              "          docLink.innerHTML = docLinkHtml;\n",
              "          element.appendChild(docLink);\n",
              "        }\n",
              "      </script>\n",
              "    </div>\n",
              "  </div>\n",
              "  "
            ]
          },
          "metadata": {},
          "execution_count": 16
        }
      ]
    },
    {
      "cell_type": "code",
      "source": [
        "# The following will produce a plot to show the full results from the data \n",
        "# above. Plotting frequent disaster count in Texas by year.\n",
        "\n",
        "plt.pyplot.figure(figsize=(24,12))\n",
        "sns.barplot(x='index',y='fy_declared',data=m.sort_values(by='fy_declared'));"
      ],
      "metadata": {
        "_kg_hide-input": false,
        "trusted": true,
        "id": "lKDE4OjeiUHp",
        "colab": {
          "base_uri": "https://localhost:8080/",
          "height": 621
        },
        "outputId": "468575d4-0173-43bd-b1d1-e68ba7ba1f1f"
      },
      "execution_count": 17,
      "outputs": [
        {
          "output_type": "display_data",
          "data": {
            "text/plain": [
              "<Figure size 1728x864 with 1 Axes>"
            ],
            "image/png": "[encoded data removed]"
          },
          "metadata": {
            "needs_background": "light"
          }
        }
      ]
    },
    {
      "cell_type": "markdown",
      "source": [
        "## Most Disaster-Prone Affected Areas"
      ],
      "metadata": {
        "id": "F7Ofx7QIiUHq"
      }
    },
    {
      "cell_type": "code",
      "source": [
        "# This will return the total number of \"affected areas\".\n",
        "# These are mostly sorted by state counties.\n",
        "\n",
        "print(\"Total Affected Areas\\n\",df['designated_area'].nunique())"
      ],
      "metadata": {
        "trusted": true,
        "id": "5ReTL49LiUHq",
        "colab": {
          "base_uri": "https://localhost:8080/"
        },
        "outputId": "c8fbd13f-ac83-430f-d31d-084f2707ca58"
      },
      "execution_count": 18,
      "outputs": [
        {
          "output_type": "stream",
          "name": "stdout",
          "text": [
            "Total Affected Areas\n",
            " 2766\n"
          ]
        }
      ]
    },
    {
      "cell_type": "code",
      "source": [
        "# Now that we can see the total number of affected areas,\n",
        "# we will produce the total number of disaster occurances by affected area,\n",
        "# and order it by most-to-least disaster count.\n",
        "\n",
        "df[['designated_area','incident_type']].groupby('designated_area').count().sort_values(by='incident_type',ascending=False).head(10)"
      ],
      "metadata": {
        "trusted": true,
        "id": "zFihU9WaiUHq",
        "colab": {
          "base_uri": "https://localhost:8080/",
          "height": 390
        },
        "outputId": "15d5b660-4cf3-49ab-b61a-0b35c3cd66aa"
      },
      "execution_count": 19,
      "outputs": [
        {
          "output_type": "execute_result",
          "data": {
            "text/plain": [
              "                     incident_type\n",
              "designated_area                   \n",
              "Statewide                      511\n",
              "Washington (County)            508\n",
              "Jefferson (County)             462\n",
              "Jackson (County)               440\n",
              "Franklin (County)              437\n",
              "Lincoln (County)               394\n",
              "Montgomery (County)            349\n",
              "Clay (County)                  346\n",
              "Madison (County)               334\n",
              "Monroe (County)                322"
            ],
            "text/html": [
              "\n",
              "  <div id=\"df-cc1a30a4-9926-4fc0-90b5-c8140372761a\">\n",
              "    <div class=\"colab-df-container\">\n",
              "      <div>\n",
              "<style scoped>\n",
              "    .dataframe tbody tr th:only-of-type {\n",
              "        vertical-align: middle;\n",
              "    }\n",
              "\n",
              "    .dataframe tbody tr th {\n",
              "        vertical-align: top;\n",
              "    }\n",
              "\n",
              "    .dataframe thead th {\n",
              "        text-align: right;\n",
              "    }\n",
              "</style>\n",
              "<table border=\"1\" class=\"dataframe\">\n",
              "  <thead>\n",
              "    <tr style=\"text-align: right;\">\n",
              "      <th></th>\n",
              "      <th>incident_type</th>\n",
              "    </tr>\n",
              "    <tr>\n",
              "      <th>designated_area</th>\n",
              "      <th></th>\n",
              "    </tr>\n",
              "  </thead>\n",
              "  <tbody>\n",
              "    <tr>\n",
              "      <th>Statewide</th>\n",
              "      <td>511</td>\n",
              "    </tr>\n",
              "    <tr>\n",
              "      <th>Washington (County)</th>\n",
              "      <td>508</td>\n",
              "    </tr>\n",
              "    <tr>\n",
              "      <th>Jefferson (County)</th>\n",
              "      <td>462</td>\n",
              "    </tr>\n",
              "    <tr>\n",
              "      <th>Jackson (County)</th>\n",
              "      <td>440</td>\n",
              "    </tr>\n",
              "    <tr>\n",
              "      <th>Franklin (County)</th>\n",
              "      <td>437</td>\n",
              "    </tr>\n",
              "    <tr>\n",
              "      <th>Lincoln (County)</th>\n",
              "      <td>394</td>\n",
              "    </tr>\n",
              "    <tr>\n",
              "      <th>Montgomery (County)</th>\n",
              "      <td>349</td>\n",
              "    </tr>\n",
              "    <tr>\n",
              "      <th>Clay (County)</th>\n",
              "      <td>346</td>\n",
              "    </tr>\n",
              "    <tr>\n",
              "      <th>Madison (County)</th>\n",
              "      <td>334</td>\n",
              "    </tr>\n",
              "    <tr>\n",
              "      <th>Monroe (County)</th>\n",
              "      <td>322</td>\n",
              "    </tr>\n",
              "  </tbody>\n",
              "</table>\n",
              "</div>\n",
              "      <button class=\"colab-df-convert\" onclick=\"convertToInteractive('df-cc1a30a4-9926-4fc0-90b5-c8140372761a')\"\n",
              "              title=\"Convert this dataframe to an interactive table.\"\n",
              "              style=\"display:none;\">\n",
              "        \n",
              "  <svg xmlns=\"http://www.w3.org/2000/svg\" height=\"24px\"viewBox=\"0 0 24 24\"\n",
              "       width=\"24px\">\n",
              "    <path d=\"M0 0h24v24H0V0z\" fill=\"none\"/>\n",
              "    <path d=\"M18.56 5.44l.94 2.06.94-2.06 2.06-.94-2.06-.94-.94-2.06-.94 2.06-2.06.94zm-11 1L8.5 8.5l.94-2.06 2.06-.94-2.06-.94L8.5 2.5l-.94 2.06-2.06.94zm10 10l.94 2.06.94-2.06 2.06-.94-2.06-.94-.94-2.06-.94 2.06-2.06.94z\"/><path d=\"M17.41 7.96l-1.37-1.37c-.4-.4-.92-.59-1.43-.59-.52 0-1.04.2-1.43.59L10.3 9.45l-7.72 7.72c-.78.78-.78 2.05 0 2.83L4 21.41c.39.39.9.59 1.41.59.51 0 1.02-.2 1.41-.59l7.78-7.78 2.81-2.81c.8-.78.8-2.07 0-2.86zM5.41 20L4 18.59l7.72-7.72 1.47 1.35L5.41 20z\"/>\n",
              "  </svg>\n",
              "      </button>\n",
              "      \n",
              "  <style>\n",
              "    .colab-df-container {\n",
              "      display:flex;\n",
              "      flex-wrap:wrap;\n",
              "      gap: 12px;\n",
              "    }\n",
              "\n",
              "    .colab-df-convert {\n",
              "      background-color: #E8F0FE;\n",
              "      border: none;\n",
              "      border-radius: 50%;\n",
              "      cursor: pointer;\n",
              "      display: none;\n",
              "      fill: #1967D2;\n",
              "      height: 32px;\n",
              "      padding: 0 0 0 0;\n",
              "      width: 32px;\n",
              "    }\n",
              "\n",
              "    .colab-df-convert:hover {\n",
              "      background-color: #E2EBFA;\n",
              "      box-shadow: 0px 1px 2px rgba(60, 64, 67, 0.3), 0px 1px 3px 1px rgba(60, 64, 67, 0.15);\n",
              "      fill: #174EA6;\n",
              "    }\n",
              "\n",
              "    [theme=dark] .colab-df-convert {\n",
              "      background-color: #3B4455;\n",
              "      fill: #D2E3FC;\n",
              "    }\n",
              "\n",
              "    [theme=dark] .colab-df-convert:hover {\n",
              "      background-color: #434B5C;\n",
              "      box-shadow: 0px 1px 3px 1px rgba(0, 0, 0, 0.15);\n",
              "      filter: drop-shadow(0px 1px 2px rgba(0, 0, 0, 0.3));\n",
              "      fill: #FFFFFF;\n",
              "    }\n",
              "  </style>\n",
              "\n",
              "      <script>\n",
              "        const buttonEl =\n",
              "          document.querySelector('#df-cc1a30a4-9926-4fc0-90b5-c8140372761a button.colab-df-convert');\n",
              "        buttonEl.style.display =\n",
              "          google.colab.kernel.accessAllowed ? 'block' : 'none';\n",
              "\n",
              "        async function convertToInteractive(key) {\n",
              "          const element = document.querySelector('#df-cc1a30a4-9926-4fc0-90b5-c8140372761a');\n",
              "          const dataTable =\n",
              "            await google.colab.kernel.invokeFunction('convertToInteractive',\n",
              "                                                     [key], {});\n",
              "          if (!dataTable) return;\n",
              "\n",
              "          const docLinkHtml = 'Like what you see? Visit the ' +\n",
              "            '<a target=\"_blank\" href=https://colab.research.google.com/notebooks/data_table.ipynb>data table notebook</a>'\n",
              "            + ' to learn more about interactive tables.';\n",
              "          element.innerHTML = '';\n",
              "          dataTable['output_type'] = 'display_data';\n",
              "          await google.colab.output.renderOutput(dataTable, element);\n",
              "          const docLink = document.createElement('div');\n",
              "          docLink.innerHTML = docLinkHtml;\n",
              "          element.appendChild(docLink);\n",
              "        }\n",
              "      </script>\n",
              "    </div>\n",
              "  </div>\n",
              "  "
            ]
          },
          "metadata": {},
          "execution_count": 19
        }
      ]
    },
    {
      "cell_type": "markdown",
      "source": [
        "# Heat Map Analysis"
      ],
      "metadata": {
        "id": "Wa3h1UoEiUHx"
      }
    },
    {
      "cell_type": "code",
      "source": [
        "# Before creating our heat, we must rework the declaration date variable,\n",
        "# and change it to different columns for each date assessment.\n",
        "# Year - Month - Day - Time\n",
        "\n",
        "d = pd.to_datetime(df['declaration_date']).dt\n",
        "df['year'] = d.year\n",
        "df['month'] = d.month\n",
        "df['day'] = d.day\n",
        "df['time'] = d.time\n",
        "del df['declaration_date']"
      ],
      "metadata": {
        "id": "DZIpbPXkwbkG"
      },
      "execution_count": 20,
      "outputs": []
    },
    {
      "cell_type": "code",
      "source": [
        "# Here, we create the most valuable plot in this exploratory data analysis\n",
        "# for natural disaster data in the USA. This is a heat map that shows us \n",
        "# natural disaster frequency, by state, per year from 1953 - 2020.\n",
        "\n",
        "pt = df.pivot_table(values ='disaster_number', index = 'state', columns = 'year').fillna(0)\n",
        "plt.pyplot.figure(figsize=(12,8))\n",
        "sns.heatmap(pt, cmap='coolwarm');\n",
        "plt.pyplot.savefig('heatmap.png')"
      ],
      "metadata": {
        "trusted": true,
        "id": "s-x1Y9MmiUHy",
        "colab": {
          "base_uri": "https://localhost:8080/",
          "height": 514
        },
        "outputId": "1bc68335-5b54-40b8-ad34-7f771f0aa571"
      },
      "execution_count": 21,
      "outputs": [
        {
          "output_type": "display_data",
          "data": {
            "text/plain": [
              "<Figure size 864x576 with 2 Axes>"
            ],
            "image/png": "[encoded data removed]"
          },
          "metadata": {
            "needs_background": "light"
          }
        }
      ]
    },
    {
      "cell_type": "markdown",
      "source": [
        "# Natural Disaster Time Series Analysis"
      ],
      "metadata": {
        "id": "OcthGNoP6hMp"
      }
    },
    {
      "cell_type": "markdown",
      "source": [
        "For this section, I will make it so that any state can be analyzed with a slight change in code. I will be running the time series analysis in this document on Texas since it is the most disaster-prone state according to the earlier results of the exploratory data analysis."
      ],
      "metadata": {
        "id": "-OjGV-VjKmuW"
      }
    },
    {
      "cell_type": "code",
      "source": [
        "# Re/Load in python packages, specific to the time series analysis.\n",
        "# We will also set plotting options to produce more detailed plots.\n",
        "\n",
        "import pandas_datareader.data as web\n",
        "import datetime\n",
        "import pandas as pd\n",
        "import datetime\n",
        "import pandas_datareader as web\n",
        "import matplotlib.pyplot as plt\n",
        "import seaborn as sns\n",
        "import numpy as np\n",
        "from sklearn.metrics import mean_squared_error"
      ],
      "metadata": {
        "id": "jmp2noidcqIy"
      },
      "execution_count": 22,
      "outputs": []
    },
    {
      "cell_type": "code",
      "source": [
        "# First, we will limit our data set to only include disasters that\n",
        "# occurred in Texas. Then we will sort by year and total disasters.\n",
        "\n",
        "# ------- CHANGE STATE INDEX TO TEST OTHER STATES ----------------\n",
        "p = df[(df['state'] == 'TX')]\n",
        "p = p[['year','incident_type']].groupby('year').count()\n",
        "p.reset_index(inplace=True)\n",
        "p.head(10)"
      ],
      "metadata": {
        "colab": {
          "base_uri": "https://localhost:8080/",
          "height": 359
        },
        "id": "tWluqbR4zTr-",
        "outputId": "a1fcde2e-b92f-4075-8fbc-2b431a57a5b9"
      },
      "execution_count": 23,
      "outputs": [
        {
          "output_type": "execute_result",
          "data": {
            "text/plain": [
              "   year  incident_type\n",
              "0  1953              2\n",
              "1  1954              1\n",
              "2  1957              1\n",
              "3  1958              1\n",
              "4  1959              1\n",
              "5  1960              1\n",
              "6  1961              1\n",
              "7  1963              1\n",
              "8  1965              7\n",
              "9  1966             27"
            ],
            "text/html": [
              "\n",
              "  <div id=\"df-b0c61061-4fe6-4f95-b8cc-488c66268aa6\">\n",
              "    <div class=\"colab-df-container\">\n",
              "      <div>\n",
              "<style scoped>\n",
              "    .dataframe tbody tr th:only-of-type {\n",
              "        vertical-align: middle;\n",
              "    }\n",
              "\n",
              "    .dataframe tbody tr th {\n",
              "        vertical-align: top;\n",
              "    }\n",
              "\n",
              "    .dataframe thead th {\n",
              "        text-align: right;\n",
              "    }\n",
              "</style>\n",
              "<table border=\"1\" class=\"dataframe\">\n",
              "  <thead>\n",
              "    <tr style=\"text-align: right;\">\n",
              "      <th></th>\n",
              "      <th>year</th>\n",
              "      <th>incident_type</th>\n",
              "    </tr>\n",
              "  </thead>\n",
              "  <tbody>\n",
              "    <tr>\n",
              "      <th>0</th>\n",
              "      <td>1953</td>\n",
              "      <td>2</td>\n",
              "    </tr>\n",
              "    <tr>\n",
              "      <th>1</th>\n",
              "      <td>1954</td>\n",
              "      <td>1</td>\n",
              "    </tr>\n",
              "    <tr>\n",
              "      <th>2</th>\n",
              "      <td>1957</td>\n",
              "      <td>1</td>\n",
              "    </tr>\n",
              "    <tr>\n",
              "      <th>3</th>\n",
              "      <td>1958</td>\n",
              "      <td>1</td>\n",
              "    </tr>\n",
              "    <tr>\n",
              "      <th>4</th>\n",
              "      <td>1959</td>\n",
              "      <td>1</td>\n",
              "    </tr>\n",
              "    <tr>\n",
              "      <th>5</th>\n",
              "      <td>1960</td>\n",
              "      <td>1</td>\n",
              "    </tr>\n",
              "    <tr>\n",
              "      <th>6</th>\n",
              "      <td>1961</td>\n",
              "      <td>1</td>\n",
              "    </tr>\n",
              "    <tr>\n",
              "      <th>7</th>\n",
              "      <td>1963</td>\n",
              "      <td>1</td>\n",
              "    </tr>\n",
              "    <tr>\n",
              "      <th>8</th>\n",
              "      <td>1965</td>\n",
              "      <td>7</td>\n",
              "    </tr>\n",
              "    <tr>\n",
              "      <th>9</th>\n",
              "      <td>1966</td>\n",
              "      <td>27</td>\n",
              "    </tr>\n",
              "  </tbody>\n",
              "</table>\n",
              "</div>\n",
              "      <button class=\"colab-df-convert\" onclick=\"convertToInteractive('df-b0c61061-4fe6-4f95-b8cc-488c66268aa6')\"\n",
              "              title=\"Convert this dataframe to an interactive table.\"\n",
              "              style=\"display:none;\">\n",
              "        \n",
              "  <svg xmlns=\"http://www.w3.org/2000/svg\" height=\"24px\"viewBox=\"0 0 24 24\"\n",
              "       width=\"24px\">\n",
              "    <path d=\"M0 0h24v24H0V0z\" fill=\"none\"/>\n",
              "    <path d=\"M18.56 5.44l.94 2.06.94-2.06 2.06-.94-2.06-.94-.94-2.06-.94 2.06-2.06.94zm-11 1L8.5 8.5l.94-2.06 2.06-.94-2.06-.94L8.5 2.5l-.94 2.06-2.06.94zm10 10l.94 2.06.94-2.06 2.06-.94-2.06-.94-.94-2.06-.94 2.06-2.06.94z\"/><path d=\"M17.41 7.96l-1.37-1.37c-.4-.4-.92-.59-1.43-.59-.52 0-1.04.2-1.43.59L10.3 9.45l-7.72 7.72c-.78.78-.78 2.05 0 2.83L4 21.41c.39.39.9.59 1.41.59.51 0 1.02-.2 1.41-.59l7.78-7.78 2.81-2.81c.8-.78.8-2.07 0-2.86zM5.41 20L4 18.59l7.72-7.72 1.47 1.35L5.41 20z\"/>\n",
              "  </svg>\n",
              "      </button>\n",
              "      \n",
              "  <style>\n",
              "    .colab-df-container {\n",
              "      display:flex;\n",
              "      flex-wrap:wrap;\n",
              "      gap: 12px;\n",
              "    }\n",
              "\n",
              "    .colab-df-convert {\n",
              "      background-color: #E8F0FE;\n",
              "      border: none;\n",
              "      border-radius: 50%;\n",
              "      cursor: pointer;\n",
              "      display: none;\n",
              "      fill: #1967D2;\n",
              "      height: 32px;\n",
              "      padding: 0 0 0 0;\n",
              "      width: 32px;\n",
              "    }\n",
              "\n",
              "    .colab-df-convert:hover {\n",
              "      background-color: #E2EBFA;\n",
              "      box-shadow: 0px 1px 2px rgba(60, 64, 67, 0.3), 0px 1px 3px 1px rgba(60, 64, 67, 0.15);\n",
              "      fill: #174EA6;\n",
              "    }\n",
              "\n",
              "    [theme=dark] .colab-df-convert {\n",
              "      background-color: #3B4455;\n",
              "      fill: #D2E3FC;\n",
              "    }\n",
              "\n",
              "    [theme=dark] .colab-df-convert:hover {\n",
              "      background-color: #434B5C;\n",
              "      box-shadow: 0px 1px 3px 1px rgba(0, 0, 0, 0.15);\n",
              "      filter: drop-shadow(0px 1px 2px rgba(0, 0, 0, 0.3));\n",
              "      fill: #FFFFFF;\n",
              "    }\n",
              "  </style>\n",
              "\n",
              "      <script>\n",
              "        const buttonEl =\n",
              "          document.querySelector('#df-b0c61061-4fe6-4f95-b8cc-488c66268aa6 button.colab-df-convert');\n",
              "        buttonEl.style.display =\n",
              "          google.colab.kernel.accessAllowed ? 'block' : 'none';\n",
              "\n",
              "        async function convertToInteractive(key) {\n",
              "          const element = document.querySelector('#df-b0c61061-4fe6-4f95-b8cc-488c66268aa6');\n",
              "          const dataTable =\n",
              "            await google.colab.kernel.invokeFunction('convertToInteractive',\n",
              "                                                     [key], {});\n",
              "          if (!dataTable) return;\n",
              "\n",
              "          const docLinkHtml = 'Like what you see? Visit the ' +\n",
              "            '<a target=\"_blank\" href=https://colab.research.google.com/notebooks/data_table.ipynb>data table notebook</a>'\n",
              "            + ' to learn more about interactive tables.';\n",
              "          element.innerHTML = '';\n",
              "          dataTable['output_type'] = 'display_data';\n",
              "          await google.colab.output.renderOutput(dataTable, element);\n",
              "          const docLink = document.createElement('div');\n",
              "          docLink.innerHTML = docLinkHtml;\n",
              "          element.appendChild(docLink);\n",
              "        }\n",
              "      </script>\n",
              "    </div>\n",
              "  </div>\n",
              "  "
            ]
          },
          "metadata": {},
          "execution_count": 23
        }
      ]
    },
    {
      "cell_type": "code",
      "source": [
        "# Here, we create our initial time series plot to map out the total\n",
        "# number of disaster-events that were declared in Texas each year,\n",
        "# from 1953 - 2020.\n",
        "\n",
        "sns.set()\n",
        "plt.ylabel('Natural Disaster Estimate')\n",
        "plt.xlabel('Year')\n",
        "plt.xticks(rotation = 45)\n",
        "plt.title(\"Disaster Estimates for Texas\")\n",
        "plt.plot(p['year'], p['incident_type'],)"
      ],
      "metadata": {
        "colab": {
          "base_uri": "https://localhost:8080/",
          "height": 335
        },
        "id": "H9P_2cd5LdBa",
        "outputId": "2fc93285-3cd2-4709-ede0-1d1f3b3c5488"
      },
      "execution_count": 24,
      "outputs": [
        {
          "output_type": "execute_result",
          "data": {
            "text/plain": [
              "[<matplotlib.lines.Line2D at 0x7fc1bae4c350>]"
            ]
          },
          "metadata": {},
          "execution_count": 24
        },
        {
          "output_type": "display_data",
          "data": {
            "text/plain": [
              "<Figure size 432x288 with 1 Axes>"
            ],
            "image/png": "[encoded data removed]"
          },
          "metadata": {}
        }
      ]
    },
    {
      "cell_type": "code",
      "source": [
        "# Here, we will split the disaster data on Texas into a training and\n",
        "# a testing set. We replicate the time series and split the data sets\n",
        "# by color for easy analysis.\n",
        "\n",
        "train = p.iloc[:50,]\n",
        "test = p.iloc[50:,]\n",
        "plt.plot(train['year'], train['incident_type'], color = \"black\")\n",
        "plt.plot(test['year'], test['incident_type'], color = \"red\")\n",
        "plt.ylabel('Natural Disaster Estimate')\n",
        "plt.xlabel('Year')\n",
        "plt.xticks(rotation=45)\n",
        "plt.title(\"Train/Test for Texas Disaster Data\")\n",
        "plt.show()"
      ],
      "metadata": {
        "colab": {
          "base_uri": "https://localhost:8080/",
          "height": 318
        },
        "id": "_7jET3XmPaaH",
        "outputId": "9b4de87b-3cc1-4f28-8896-c1eb1c7b4d70"
      },
      "execution_count": 25,
      "outputs": [
        {
          "output_type": "display_data",
          "data": {
            "text/plain": [
              "<Figure size 432x288 with 1 Axes>"
            ],
            "image/png": "[encoded data removed]"
          },
          "metadata": {}
        }
      ]
    },
    {
      "cell_type": "code",
      "source": [
        "# Next, we will apply a SARIMAX fucntion to run an ARMA model on the training\n",
        "# data set, to create prediction values for natural disaster estimation per year\n",
        "# in Texas. \n",
        "\n",
        "from statsmodels.tsa.statespace.sarimax import SARIMAX\n",
        "y = train['incident_type']\n",
        "ARMAmodel = SARIMAX(y, order = (1, 0, 1))\n",
        "ARMAmodel = ARMAmodel.fit()\n",
        "y_pred = ARMAmodel.get_forecast(len(test.index))\n",
        "y_pred_df = y_pred.conf_int(alpha = 0.05) \n",
        "y_pred_df[\"Predictions\"] = ARMAmodel.predict(start = y_pred_df.index[0], end = y_pred_df.index[-1])\n",
        "y_pred_df.index = test['year']\n",
        "y_pred_out = y_pred_df[\"Predictions\"]\n",
        "plt.plot(train['year'], train['incident_type'], color = \"black\")\n",
        "plt.plot(test['year'], test['incident_type'], color = \"red\", label = 'Test Data')\n",
        "plt.plot(y_pred_out, color = 'green', label = 'ARMA Predictions')\n",
        "plt.title(\"Time Series Analysis for Texas Disaster Data\")\n",
        "plt.legend()"
      ],
      "metadata": {
        "colab": {
          "base_uri": "https://localhost:8080/",
          "height": 389
        },
        "id": "TZ9vn6JnWJa2",
        "outputId": "fb5209c2-cfdb-4150-ce60-751b61da612b"
      },
      "execution_count": 26,
      "outputs": [
        {
          "output_type": "stream",
          "name": "stderr",
          "text": [
            "/usr/local/lib/python3.7/dist-packages/statsmodels/tools/_testing.py:19: FutureWarning: pandas.util.testing is deprecated. Use the functions in the public API at pandas.testing instead.\n",
            "  import pandas.util.testing as tm\n",
            "/usr/local/lib/python3.7/dist-packages/statsmodels/tsa/statespace/sarimax.py:949: UserWarning: Non-stationary starting autoregressive parameters found. Using zeros as starting parameters.\n",
            "  warn('Non-stationary starting autoregressive parameters'\n"
          ]
        },
        {
          "output_type": "execute_result",
          "data": {
            "text/plain": [
              "<matplotlib.legend.Legend at 0x7fc1b5ec9950>"
            ]
          },
          "metadata": {},
          "execution_count": 26
        },
        {
          "output_type": "display_data",
          "data": {
            "text/plain": [
              "<Figure size 432x288 with 1 Axes>"
            ],
            "image/png": "[encoded data removed]"
          },
          "metadata": {}
        }
      ]
    },
    {
      "cell_type": "code",
      "source": [
        "# Here, we calculate an approximate RMSE based on the actual and predicted \n",
        "# values for natural disaster estimation in Texas. I expect this value to be\n",
        "# high but still useful none-the-less. \n",
        "\n",
        "arma_rmse = np.sqrt(mean_squared_error(test[\"incident_type\"].values, y_pred_df[\"Predictions\"]))\n",
        "print(\"RMSE: \",arma_rmse)"
      ],
      "metadata": {
        "colab": {
          "base_uri": "https://localhost:8080/"
        },
        "id": "QLECisBMYYCw",
        "outputId": "fbfc30d0-0af1-44c4-83a6-f08117287af1"
      },
      "execution_count": 27,
      "outputs": [
        {
          "output_type": "stream",
          "name": "stdout",
          "text": [
            "RMSE:  160.74166174664478\n"
          ]
        }
      ]
    },
    {
      "cell_type": "markdown",
      "source": [
        "# Disaster Analysis using Machine Learning"
      ],
      "metadata": {
        "id": "SmlOrOZm6wD1"
      }
    },
    {
      "cell_type": "code",
      "source": [
        "# Here we will check the versions of the libraries to ensure that they are \n",
        "# up-to-date for this analysis.\n",
        "\n",
        "# Python version\n",
        "import sys\n",
        "print('Python: {}'.format(sys.version))\n",
        "# scipy\n",
        "import scipy\n",
        "print('scipy: {}'.format(scipy.__version__))\n",
        "# numpy\n",
        "import numpy\n",
        "print('numpy: {}'.format(numpy.__version__))\n",
        "# matplotlib\n",
        "import matplotlib\n",
        "print('matplotlib: {}'.format(matplotlib.__version__))\n",
        "# pandas\n",
        "import pandas\n",
        "print('pandas: {}'.format(pandas.__version__))\n",
        "# scikit-learn\n",
        "import sklearn\n",
        "print('sklearn: {}'.format(sklearn.__version__))\n",
        "\n",
        "# Load libraries that are specifically needed for the machine learning analysis.\n",
        "from pandas import read_csv\n",
        "from pandas.plotting import scatter_matrix\n",
        "from matplotlib import pyplot\n",
        "from sklearn.model_selection import train_test_split\n",
        "from sklearn.model_selection import cross_val_score\n",
        "from sklearn.model_selection import StratifiedKFold\n",
        "from sklearn.metrics import classification_report\n",
        "from sklearn.metrics import confusion_matrix\n",
        "from sklearn.metrics import accuracy_score\n",
        "from sklearn.linear_model import LogisticRegression\n",
        "from sklearn.tree import DecisionTreeClassifier\n",
        "from sklearn.neighbors import KNeighborsClassifier\n",
        "from sklearn.discriminant_analysis import LinearDiscriminantAnalysis\n",
        "from sklearn.naive_bayes import GaussianNB\n",
        "from sklearn.svm import SVC"
      ],
      "metadata": {
        "colab": {
          "base_uri": "https://localhost:8080/"
        },
        "id": "wwCBxs5Sg_y_",
        "outputId": "b92ab407-3b35-4b04-f585-c7443cfbfd18"
      },
      "execution_count": 28,
      "outputs": [
        {
          "output_type": "stream",
          "name": "stdout",
          "text": [
            "Python: 3.7.13 (default, Mar 16 2022, 17:37:17) \n",
            "[GCC 7.5.0]\n",
            "scipy: 1.4.1\n",
            "numpy: 1.21.5\n",
            "matplotlib: 3.2.2\n",
            "pandas: 1.3.5\n",
            "sklearn: 1.0.2\n"
          ]
        }
      ]
    },
    {
      "cell_type": "code",
      "source": [
        "# Resplit the data sets into equal sizes for cross-validation purposes. \n",
        "# Then we will test 3 different models, Linear Regression, Linear\n",
        "# Discriminant Analysis, and K-Nearest Neighbors. \n",
        "# Then, once we have tested each model, we will compare the training errors\n",
        "# and decide which model to do a full analysis on. \n",
        "\n",
        "train = p['incident_type'].array[1:30,]\n",
        "test = p['incident_type'].array[31:60,]\n",
        "train = train.reshape(-1, 1)\n",
        "test = test.reshape(-1, 1)\n",
        "\n",
        "models = []\n",
        "models.append(('LR', LogisticRegression(solver='liblinear', multi_class='ovr')))\n",
        "models.append(('LDA', LinearDiscriminantAnalysis()))\n",
        "models.append(('KNN', KNeighborsClassifier()))\n",
        "\n",
        "results = []\n",
        "names = []\n",
        "for name, model in models:\n",
        "\tkfold = StratifiedKFold(n_splits=3, random_state=1, shuffle=True)\n",
        "\tcv_results = cross_val_score(model, train, test, cv=kfold, scoring='accuracy')\n",
        "\tresults.append(cv_results)\n",
        "\tnames.append(name)\n",
        "\tprint('%s: %f (%f)' % (name, cv_results.mean(), cv_results.std()))\n",
        "\n",
        "pyplot.boxplot(results, labels=names)\n",
        "pyplot.title('Algorithm Comparison')\n",
        "pyplot.show()"
      ],
      "metadata": {
        "colab": {
          "base_uri": "https://localhost:8080/",
          "height": 763
        },
        "id": "Z37FVnEGhT2z",
        "outputId": "100ae677-2229-4bda-e6cb-b306c62e86d0"
      },
      "execution_count": 29,
      "outputs": [
        {
          "output_type": "stream",
          "name": "stdout",
          "text": [
            "LR: 0.066667 (0.047140)\n",
            "LDA: 0.066667 (0.047140)\n",
            "KNN: 0.033333 (0.047140)\n"
          ]
        },
        {
          "output_type": "stream",
          "name": "stderr",
          "text": [
            "/usr/local/lib/python3.7/dist-packages/sklearn/model_selection/_split.py:680: UserWarning: The least populated class in y has only 1 members, which is less than n_splits=3.\n",
            "  UserWarning,\n",
            "/usr/local/lib/python3.7/dist-packages/sklearn/utils/validation.py:993: DataConversionWarning: A column-vector y was passed when a 1d array was expected. Please change the shape of y to (n_samples, ), for example using ravel().\n",
            "  y = column_or_1d(y, warn=True)\n",
            "/usr/local/lib/python3.7/dist-packages/sklearn/utils/validation.py:993: DataConversionWarning: A column-vector y was passed when a 1d array was expected. Please change the shape of y to (n_samples, ), for example using ravel().\n",
            "  y = column_or_1d(y, warn=True)\n",
            "/usr/local/lib/python3.7/dist-packages/sklearn/utils/validation.py:993: DataConversionWarning: A column-vector y was passed when a 1d array was expected. Please change the shape of y to (n_samples, ), for example using ravel().\n",
            "  y = column_or_1d(y, warn=True)\n",
            "/usr/local/lib/python3.7/dist-packages/sklearn/model_selection/_split.py:680: UserWarning: The least populated class in y has only 1 members, which is less than n_splits=3.\n",
            "  UserWarning,\n",
            "/usr/local/lib/python3.7/dist-packages/sklearn/utils/validation.py:993: DataConversionWarning: A column-vector y was passed when a 1d array was expected. Please change the shape of y to (n_samples, ), for example using ravel().\n",
            "  y = column_or_1d(y, warn=True)\n",
            "/usr/local/lib/python3.7/dist-packages/sklearn/utils/validation.py:993: DataConversionWarning: A column-vector y was passed when a 1d array was expected. Please change the shape of y to (n_samples, ), for example using ravel().\n",
            "  y = column_or_1d(y, warn=True)\n",
            "/usr/local/lib/python3.7/dist-packages/sklearn/utils/validation.py:993: DataConversionWarning: A column-vector y was passed when a 1d array was expected. Please change the shape of y to (n_samples, ), for example using ravel().\n",
            "  y = column_or_1d(y, warn=True)\n",
            "/usr/local/lib/python3.7/dist-packages/sklearn/model_selection/_split.py:680: UserWarning: The least populated class in y has only 1 members, which is less than n_splits=3.\n",
            "  UserWarning,\n",
            "/usr/local/lib/python3.7/dist-packages/sklearn/neighbors/_classification.py:198: DataConversionWarning: A column-vector y was passed when a 1d array was expected. Please change the shape of y to (n_samples,), for example using ravel().\n",
            "  return self._fit(X, y)\n",
            "/usr/local/lib/python3.7/dist-packages/sklearn/neighbors/_classification.py:198: DataConversionWarning: A column-vector y was passed when a 1d array was expected. Please change the shape of y to (n_samples,), for example using ravel().\n",
            "  return self._fit(X, y)\n",
            "/usr/local/lib/python3.7/dist-packages/sklearn/neighbors/_classification.py:198: DataConversionWarning: A column-vector y was passed when a 1d array was expected. Please change the shape of y to (n_samples,), for example using ravel().\n",
            "  return self._fit(X, y)\n"
          ]
        },
        {
          "output_type": "display_data",
          "data": {
            "text/plain": [
              "<Figure size 432x288 with 1 Axes>"
            ],
            "image/png": "[encoded data removed]"
          },
          "metadata": {}
        }
      ]
    },
    {
      "cell_type": "code",
      "source": [
        "# Here, we will make predictions on the test set using KNN, since it had the\n",
        "# lowest training error, as seen above.\n",
        "\n",
        "model = KNeighborsClassifier()\n",
        "model.fit(train, test)\n",
        "predictions = model.predict(train)\n",
        "\n",
        "print(accuracy_score(test, predictions))\n",
        "print(classification_report(test, predictions))"
      ],
      "metadata": {
        "colab": {
          "base_uri": "https://localhost:8080/"
        },
        "id": "X1GWQdYSlxEX",
        "outputId": "d9c26000-1fd4-4196-b5a3-e3209c33bb5d"
      },
      "execution_count": null,
      "outputs": [
        {
          "output_type": "stream",
          "name": "stdout",
          "text": [
            "0.1724137931034483\n",
            "              precision    recall  f1-score   support\n",
            "\n",
            "           1       0.18      1.00      0.30         3\n",
            "           6       0.20      1.00      0.33         1\n",
            "           9       0.00      0.00      0.00         1\n",
            "          16       0.00      0.00      0.00         1\n",
            "          19       0.20      1.00      0.33         1\n",
            "          21       0.00      0.00      0.00         1\n",
            "          33       0.00      0.00      0.00         1\n",
            "          42       0.00      0.00      0.00         1\n",
            "          46       0.00      0.00      0.00         1\n",
            "          49       0.00      0.00      0.00         1\n",
            "          53       0.00      0.00      0.00         1\n",
            "          70       0.00      0.00      0.00         2\n",
            "          72       0.00      0.00      0.00         1\n",
            "          79       0.00      0.00      0.00         1\n",
            "         104       0.00      0.00      0.00         1\n",
            "         121       0.00      0.00      0.00         1\n",
            "         136       0.00      0.00      0.00         1\n",
            "         145       0.00      0.00      0.00         1\n",
            "         152       0.00      0.00      0.00         1\n",
            "         256       0.00      0.00      0.00         1\n",
            "         261       0.00      0.00      0.00         1\n",
            "         276       0.00      0.00      0.00         1\n",
            "         336       0.00      0.00      0.00         1\n",
            "         470       0.00      0.00      0.00         1\n",
            "         517       0.00      0.00      0.00         1\n",
            "         765       0.00      0.00      0.00         1\n",
            "\n",
            "    accuracy                           0.17        29\n",
            "   macro avg       0.02      0.12      0.04        29\n",
            "weighted avg       0.03      0.17      0.05        29\n",
            "\n"
          ]
        },
        {
          "output_type": "stream",
          "name": "stderr",
          "text": [
            "/usr/local/lib/python3.7/dist-packages/sklearn/neighbors/_classification.py:198: DataConversionWarning: A column-vector y was passed when a 1d array was expected. Please change the shape of y to (n_samples,), for example using ravel().\n",
            "  return self._fit(X, y)\n",
            "/usr/local/lib/python3.7/dist-packages/sklearn/metrics/_classification.py:1318: UndefinedMetricWarning: Precision and F-score are ill-defined and being set to 0.0 in labels with no predicted samples. Use `zero_division` parameter to control this behavior.\n",
            "  _warn_prf(average, modifier, msg_start, len(result))\n",
            "/usr/local/lib/python3.7/dist-packages/sklearn/metrics/_classification.py:1318: UndefinedMetricWarning: Precision and F-score are ill-defined and being set to 0.0 in labels with no predicted samples. Use `zero_division` parameter to control this behavior.\n",
            "  _warn_prf(average, modifier, msg_start, len(result))\n",
            "/usr/local/lib/python3.7/dist-packages/sklearn/metrics/_classification.py:1318: UndefinedMetricWarning: Precision and F-score are ill-defined and being set to 0.0 in labels with no predicted samples. Use `zero_division` parameter to control this behavior.\n",
            "  _warn_prf(average, modifier, msg_start, len(result))\n"
          ]
        }
      ]
    }
  ]
}