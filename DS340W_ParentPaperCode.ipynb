{
  "metadata": {
    "kernelspec": {
      "language": "python",
      "display_name": "Python 3",
      "name": "python3"
    },
    "language_info": {
      "pygments_lexer": "ipython3",
      "nbconvert_exporter": "python",
      "version": "3.6.4",
      "file_extension": ".py",
      "codemirror_mode": {
        "name": "ipython",
        "version": 3
      },
      "name": "python",
      "mimetype": "text/x-python"
    },
    "colab": {
      "name": "DS340W-ParentPaperCode.ipynb",
      "provenance": []
    }
  },
  "nbformat_minor": 0,
  "nbformat": 4,
  "cells": [
    {
      "cell_type": "markdown",
      "source": [
        "## Made for Practice and to find out some interesting facts. Feedback Appreciated.\n"
      ],
      "metadata": {
        "id": "BcC2QTv5iUHa"
      }
    },
    {
      "cell_type": "markdown",
      "source": [
        "**AGENDA FOR NOTEBOOK:**\n",
        "\n",
        "1.Basic groupby observations and pandas data viz\n",
        "\n",
        "2.Seaborn plots - distributions and categories\n",
        "\n",
        "3.pairplots joint plots and more in-depth insights\n",
        "\n",
        "4.Matrix plots and improving inferences\n",
        "\n",
        "5.Plotly for interctive plotting"
      ],
      "metadata": {
        "id": "Y-Oc49aeiUHc"
      }
    },
    {
      "cell_type": "code",
      "source": [
        "import numpy as np\n",
        "import pandas as pd\n",
        "import os\n",
        "import seaborn as sns\n",
        "import matplotlib as plt\n",
        "for dirname, _, filenames in os.walk('/kaggle/input'):\n",
        "    for filename in filenames:\n",
        "        print(os.path.join(dirname, filename))\n",
        "from google.colab import drive\n",
        "drive.mount('drive')"
      ],
      "metadata": {
        "_uuid": "8f2839f25d086af736a60e9eeb907d3b93b6e0e5",
        "_cell_guid": "b1076dfc-b9ad-4769-8c92-a6c4dae69d19",
        "trusted": true,
        "id": "5kC2QY4fiUHd",
        "colab": {
          "base_uri": "https://localhost:8080/"
        },
        "outputId": "61cda0a5-6051-4632-f31b-c29b23c69120"
      },
      "execution_count": 7,
      "outputs": [
        {
          "output_type": "stream",
          "name": "stdout",
          "text": [
            "Mounted at drive\n"
          ]
        }
      ]
    },
    {
      "cell_type": "code",
      "source": [
        "file = 'drive/My Drive/us_disaster_declarations.csv'\n",
        "df = pd.read_csv(file)\n",
        "df.head(10)"
      ],
      "metadata": {
        "_uuid": "d629ff2d2480ee46fbb7e2d37f6b5fab8052498a",
        "_cell_guid": "79c7e3d0-c299-4dcb-8224-4455121ee9b0",
        "trusted": true,
        "colab": {
          "base_uri": "https://localhost:8080/",
          "height": 622
        },
        "id": "-6kf0_KfiUHe",
        "outputId": "d23e3ce7-1f24-46eb-8597-a4bd205a0f70"
      },
      "execution_count": 12,
      "outputs": [
        {
          "output_type": "execute_result",
          "data": {
            "text/plain": [
              "  fema_declaration_string  disaster_number state declaration_type  \\\n",
              "0                 DR-1-GA                1    GA               DR   \n",
              "1                 DR-2-TX                2    TX               DR   \n",
              "2                 DR-3-LA                3    LA               DR   \n",
              "3                 DR-4-MI                4    MI               DR   \n",
              "4                 DR-5-MT                5    MT               DR   \n",
              "5                 DR-6-MI                6    MI               DR   \n",
              "6                 DR-8-IA                8    IA               DR   \n",
              "7                 DR-7-MA                7    MA               DR   \n",
              "8                 DR-9-TX                9    TX               DR   \n",
              "9                DR-11-NH               11    NH               DR   \n",
              "\n",
              "       declaration_date  fy_declared incident_type         declaration_title  \\\n",
              "0  1953-05-02T04:00:00Z         1953       Tornado                   Tornado   \n",
              "1  1953-05-15T04:00:00Z         1953       Tornado  Tornado & Heavy Rainfall   \n",
              "2  1953-05-29T04:00:00Z         1953         Flood                     Flood   \n",
              "3  1953-06-02T04:00:00Z         1953       Tornado                   Tornado   \n",
              "4  1953-06-06T04:00:00Z         1953         Flood                    Floods   \n",
              "5  1953-06-09T04:00:00Z         1953       Tornado                   Tornado   \n",
              "6  1953-06-11T04:00:00Z         1953         Flood                     Flood   \n",
              "7  1953-06-11T04:00:00Z         1953       Tornado                   Tornado   \n",
              "8  1953-06-19T04:00:00Z         1953         Flood                     Flood   \n",
              "9  1953-07-02T04:00:00Z         1953          Fire               Forest Fire   \n",
              "\n",
              "   ih_program_declared  ia_program_declared  ...   incident_begin_date  \\\n",
              "0                    0                    1  ...  1953-05-02T04:00:00Z   \n",
              "1                    0                    1  ...  1953-05-15T04:00:00Z   \n",
              "2                    0                    1  ...  1953-05-29T04:00:00Z   \n",
              "3                    0                    1  ...  1953-06-02T04:00:00Z   \n",
              "4                    0                    1  ...  1953-06-06T04:00:00Z   \n",
              "5                    0                    1  ...  1953-06-09T04:00:00Z   \n",
              "6                    0                    1  ...  1953-06-11T04:00:00Z   \n",
              "7                    0                    1  ...  1953-06-11T04:00:00Z   \n",
              "8                    0                    1  ...  1953-06-19T04:00:00Z   \n",
              "9                    0                    1  ...  1953-07-02T04:00:00Z   \n",
              "\n",
              "      incident_end_date disaster_closeout_date   fips place_code  \\\n",
              "0  1953-05-02T04:00:00Z                    NaN  13000          0   \n",
              "1  1953-05-15T04:00:00Z                    NaN  48000          0   \n",
              "2  1953-05-29T04:00:00Z                    NaN  22000          0   \n",
              "3  1953-06-02T04:00:00Z                    NaN  26000          0   \n",
              "4  1953-06-06T04:00:00Z                    NaN  30000          0   \n",
              "5  1953-06-09T04:00:00Z                    NaN  26000          0   \n",
              "6  1953-06-11T04:00:00Z                    NaN  19000          0   \n",
              "7  1953-06-11T04:00:00Z                    NaN  25000          0   \n",
              "8  1953-06-19T04:00:00Z                    NaN  48000          0   \n",
              "9  1953-07-02T04:00:00Z                    NaN  33000          0   \n",
              "\n",
              "   designated_area  declaration_request_number  \\\n",
              "0        Statewide                       53013   \n",
              "1        Statewide                       53003   \n",
              "2        Statewide                       53005   \n",
              "3        Statewide                       53004   \n",
              "4        Statewide                       53006   \n",
              "5        Statewide                       53007   \n",
              "6        Statewide                       53008   \n",
              "7        Statewide                       53009   \n",
              "8        Statewide                       53010   \n",
              "9        Statewide                       53011   \n",
              "\n",
              "                               hash          last_refresh  \\\n",
              "0  2f28952448e0a666d367ca3f854c81ec  2019-07-26T18:49:32Z   \n",
              "1  c5a1a4a1030d6730d9c562cdbe7c830f  2019-07-26T18:49:32Z   \n",
              "2  745948932fd77a7c6dcd4de7059ff080  2019-07-26T18:49:32Z   \n",
              "3  8c9dee13124e36a9dfe2eb74e33fafad  2019-07-26T18:49:32Z   \n",
              "4  59c5483387ca13c6a3c1bc692f4860e1  2019-07-26T18:49:32Z   \n",
              "5  d3ae03a5caa78ae1c8b6052e5e29a97d  2019-07-26T18:49:32Z   \n",
              "6  e258e9dd25fac73939f59c8ffb5308f5  2019-07-26T18:49:32Z   \n",
              "7  6bab17e16984fc75f61a8445df3e95d9  2019-07-26T18:49:32Z   \n",
              "8  4485da27a9218458eb2d13a6c33a4c62  2019-07-26T18:49:32Z   \n",
              "9  86a70820dbb80e585cc01e2ce502005c  2019-07-26T18:49:32Z   \n",
              "\n",
              "                         id  \n",
              "0  5d1bceafd5b39c032f2602bf  \n",
              "1  5d1bceafd5b39c032f2602c3  \n",
              "2  5d1bceafd5b39c032f2602c1  \n",
              "3  5d1bceafd5b39c032f2602c0  \n",
              "4  5d1bceafd5b39c032f2602c7  \n",
              "5  5d1bceafd5b39c032f2602c2  \n",
              "6  5d1bceafd5b39c032f2602c4  \n",
              "7  5d1bceafd5b39c032f2602c9  \n",
              "8  5d1bceafd5b39c032f2602c6  \n",
              "9  5d1bceafd5b39c032f2602c5  \n",
              "\n",
              "[10 rows x 22 columns]"
            ],
            "text/html": [
              "\n",
              "  <div id=\"df-ef0a9c17-2b7d-4251-b2ae-0b7b1baef87f\">\n",
              "    <div class=\"colab-df-container\">\n",
              "      <div>\n",
              "<style scoped>\n",
              "    .dataframe tbody tr th:only-of-type {\n",
              "        vertical-align: middle;\n",
              "    }\n",
              "\n",
              "    .dataframe tbody tr th {\n",
              "        vertical-align: top;\n",
              "    }\n",
              "\n",
              "    .dataframe thead th {\n",
              "        text-align: right;\n",
              "    }\n",
              "</style>\n",
              "<table border=\"1\" class=\"dataframe\">\n",
              "  <thead>\n",
              "    <tr style=\"text-align: right;\">\n",
              "      <th></th>\n",
              "      <th>fema_declaration_string</th>\n",
              "      <th>disaster_number</th>\n",
              "      <th>state</th>\n",
              "      <th>declaration_type</th>\n",
              "      <th>declaration_date</th>\n",
              "      <th>fy_declared</th>\n",
              "      <th>incident_type</th>\n",
              "      <th>declaration_title</th>\n",
              "      <th>ih_program_declared</th>\n",
              "      <th>ia_program_declared</th>\n",
              "      <th>...</th>\n",
              "      <th>incident_begin_date</th>\n",
              "      <th>incident_end_date</th>\n",
              "      <th>disaster_closeout_date</th>\n",
              "      <th>fips</th>\n",
              "      <th>place_code</th>\n",
              "      <th>designated_area</th>\n",
              "      <th>declaration_request_number</th>\n",
              "      <th>hash</th>\n",
              "      <th>last_refresh</th>\n",
              "      <th>id</th>\n",
              "    </tr>\n",
              "  </thead>\n",
              "  <tbody>\n",
              "    <tr>\n",
              "      <th>0</th>\n",
              "      <td>DR-1-GA</td>\n",
              "      <td>1</td>\n",
              "      <td>GA</td>\n",
              "      <td>DR</td>\n",
              "      <td>1953-05-02T04:00:00Z</td>\n",
              "      <td>1953</td>\n",
              "      <td>Tornado</td>\n",
              "      <td>Tornado</td>\n",
              "      <td>0</td>\n",
              "      <td>1</td>\n",
              "      <td>...</td>\n",
              "      <td>1953-05-02T04:00:00Z</td>\n",
              "      <td>1953-05-02T04:00:00Z</td>\n",
              "      <td>NaN</td>\n",
              "      <td>13000</td>\n",
              "      <td>0</td>\n",
              "      <td>Statewide</td>\n",
              "      <td>53013</td>\n",
              "      <td>2f28952448e0a666d367ca3f854c81ec</td>\n",
              "      <td>2019-07-26T18:49:32Z</td>\n",
              "      <td>5d1bceafd5b39c032f2602bf</td>\n",
              "    </tr>\n",
              "    <tr>\n",
              "      <th>1</th>\n",
              "      <td>DR-2-TX</td>\n",
              "      <td>2</td>\n",
              "      <td>TX</td>\n",
              "      <td>DR</td>\n",
              "      <td>1953-05-15T04:00:00Z</td>\n",
              "      <td>1953</td>\n",
              "      <td>Tornado</td>\n",
              "      <td>Tornado &amp; Heavy Rainfall</td>\n",
              "      <td>0</td>\n",
              "      <td>1</td>\n",
              "      <td>...</td>\n",
              "      <td>1953-05-15T04:00:00Z</td>\n",
              "      <td>1953-05-15T04:00:00Z</td>\n",
              "      <td>NaN</td>\n",
              "      <td>48000</td>\n",
              "      <td>0</td>\n",
              "      <td>Statewide</td>\n",
              "      <td>53003</td>\n",
              "      <td>c5a1a4a1030d6730d9c562cdbe7c830f</td>\n",
              "      <td>2019-07-26T18:49:32Z</td>\n",
              "      <td>5d1bceafd5b39c032f2602c3</td>\n",
              "    </tr>\n",
              "    <tr>\n",
              "      <th>2</th>\n",
              "      <td>DR-3-LA</td>\n",
              "      <td>3</td>\n",
              "      <td>LA</td>\n",
              "      <td>DR</td>\n",
              "      <td>1953-05-29T04:00:00Z</td>\n",
              "      <td>1953</td>\n",
              "      <td>Flood</td>\n",
              "      <td>Flood</td>\n",
              "      <td>0</td>\n",
              "      <td>1</td>\n",
              "      <td>...</td>\n",
              "      <td>1953-05-29T04:00:00Z</td>\n",
              "      <td>1953-05-29T04:00:00Z</td>\n",
              "      <td>NaN</td>\n",
              "      <td>22000</td>\n",
              "      <td>0</td>\n",
              "      <td>Statewide</td>\n",
              "      <td>53005</td>\n",
              "      <td>745948932fd77a7c6dcd4de7059ff080</td>\n",
              "      <td>2019-07-26T18:49:32Z</td>\n",
              "      <td>5d1bceafd5b39c032f2602c1</td>\n",
              "    </tr>\n",
              "    <tr>\n",
              "      <th>3</th>\n",
              "      <td>DR-4-MI</td>\n",
              "      <td>4</td>\n",
              "      <td>MI</td>\n",
              "      <td>DR</td>\n",
              "      <td>1953-06-02T04:00:00Z</td>\n",
              "      <td>1953</td>\n",
              "      <td>Tornado</td>\n",
              "      <td>Tornado</td>\n",
              "      <td>0</td>\n",
              "      <td>1</td>\n",
              "      <td>...</td>\n",
              "      <td>1953-06-02T04:00:00Z</td>\n",
              "      <td>1953-06-02T04:00:00Z</td>\n",
              "      <td>NaN</td>\n",
              "      <td>26000</td>\n",
              "      <td>0</td>\n",
              "      <td>Statewide</td>\n",
              "      <td>53004</td>\n",
              "      <td>8c9dee13124e36a9dfe2eb74e33fafad</td>\n",
              "      <td>2019-07-26T18:49:32Z</td>\n",
              "      <td>5d1bceafd5b39c032f2602c0</td>\n",
              "    </tr>\n",
              "    <tr>\n",
              "      <th>4</th>\n",
              "      <td>DR-5-MT</td>\n",
              "      <td>5</td>\n",
              "      <td>MT</td>\n",
              "      <td>DR</td>\n",
              "      <td>1953-06-06T04:00:00Z</td>\n",
              "      <td>1953</td>\n",
              "      <td>Flood</td>\n",
              "      <td>Floods</td>\n",
              "      <td>0</td>\n",
              "      <td>1</td>\n",
              "      <td>...</td>\n",
              "      <td>1953-06-06T04:00:00Z</td>\n",
              "      <td>1953-06-06T04:00:00Z</td>\n",
              "      <td>NaN</td>\n",
              "      <td>30000</td>\n",
              "      <td>0</td>\n",
              "      <td>Statewide</td>\n",
              "      <td>53006</td>\n",
              "      <td>59c5483387ca13c6a3c1bc692f4860e1</td>\n",
              "      <td>2019-07-26T18:49:32Z</td>\n",
              "      <td>5d1bceafd5b39c032f2602c7</td>\n",
              "    </tr>\n",
              "    <tr>\n",
              "      <th>5</th>\n",
              "      <td>DR-6-MI</td>\n",
              "      <td>6</td>\n",
              "      <td>MI</td>\n",
              "      <td>DR</td>\n",
              "      <td>1953-06-09T04:00:00Z</td>\n",
              "      <td>1953</td>\n",
              "      <td>Tornado</td>\n",
              "      <td>Tornado</td>\n",
              "      <td>0</td>\n",
              "      <td>1</td>\n",
              "      <td>...</td>\n",
              "      <td>1953-06-09T04:00:00Z</td>\n",
              "      <td>1953-06-09T04:00:00Z</td>\n",
              "      <td>NaN</td>\n",
              "      <td>26000</td>\n",
              "      <td>0</td>\n",
              "      <td>Statewide</td>\n",
              "      <td>53007</td>\n",
              "      <td>d3ae03a5caa78ae1c8b6052e5e29a97d</td>\n",
              "      <td>2019-07-26T18:49:32Z</td>\n",
              "      <td>5d1bceafd5b39c032f2602c2</td>\n",
              "    </tr>\n",
              "    <tr>\n",
              "      <th>6</th>\n",
              "      <td>DR-8-IA</td>\n",
              "      <td>8</td>\n",
              "      <td>IA</td>\n",
              "      <td>DR</td>\n",
              "      <td>1953-06-11T04:00:00Z</td>\n",
              "      <td>1953</td>\n",
              "      <td>Flood</td>\n",
              "      <td>Flood</td>\n",
              "      <td>0</td>\n",
              "      <td>1</td>\n",
              "      <td>...</td>\n",
              "      <td>1953-06-11T04:00:00Z</td>\n",
              "      <td>1953-06-11T04:00:00Z</td>\n",
              "      <td>NaN</td>\n",
              "      <td>19000</td>\n",
              "      <td>0</td>\n",
              "      <td>Statewide</td>\n",
              "      <td>53008</td>\n",
              "      <td>e258e9dd25fac73939f59c8ffb5308f5</td>\n",
              "      <td>2019-07-26T18:49:32Z</td>\n",
              "      <td>5d1bceafd5b39c032f2602c4</td>\n",
              "    </tr>\n",
              "    <tr>\n",
              "      <th>7</th>\n",
              "      <td>DR-7-MA</td>\n",
              "      <td>7</td>\n",
              "      <td>MA</td>\n",
              "      <td>DR</td>\n",
              "      <td>1953-06-11T04:00:00Z</td>\n",
              "      <td>1953</td>\n",
              "      <td>Tornado</td>\n",
              "      <td>Tornado</td>\n",
              "      <td>0</td>\n",
              "      <td>1</td>\n",
              "      <td>...</td>\n",
              "      <td>1953-06-11T04:00:00Z</td>\n",
              "      <td>1953-06-11T04:00:00Z</td>\n",
              "      <td>NaN</td>\n",
              "      <td>25000</td>\n",
              "      <td>0</td>\n",
              "      <td>Statewide</td>\n",
              "      <td>53009</td>\n",
              "      <td>6bab17e16984fc75f61a8445df3e95d9</td>\n",
              "      <td>2019-07-26T18:49:32Z</td>\n",
              "      <td>5d1bceafd5b39c032f2602c9</td>\n",
              "    </tr>\n",
              "    <tr>\n",
              "      <th>8</th>\n",
              "      <td>DR-9-TX</td>\n",
              "      <td>9</td>\n",
              "      <td>TX</td>\n",
              "      <td>DR</td>\n",
              "      <td>1953-06-19T04:00:00Z</td>\n",
              "      <td>1953</td>\n",
              "      <td>Flood</td>\n",
              "      <td>Flood</td>\n",
              "      <td>0</td>\n",
              "      <td>1</td>\n",
              "      <td>...</td>\n",
              "      <td>1953-06-19T04:00:00Z</td>\n",
              "      <td>1953-06-19T04:00:00Z</td>\n",
              "      <td>NaN</td>\n",
              "      <td>48000</td>\n",
              "      <td>0</td>\n",
              "      <td>Statewide</td>\n",
              "      <td>53010</td>\n",
              "      <td>4485da27a9218458eb2d13a6c33a4c62</td>\n",
              "      <td>2019-07-26T18:49:32Z</td>\n",
              "      <td>5d1bceafd5b39c032f2602c6</td>\n",
              "    </tr>\n",
              "    <tr>\n",
              "      <th>9</th>\n",
              "      <td>DR-11-NH</td>\n",
              "      <td>11</td>\n",
              "      <td>NH</td>\n",
              "      <td>DR</td>\n",
              "      <td>1953-07-02T04:00:00Z</td>\n",
              "      <td>1953</td>\n",
              "      <td>Fire</td>\n",
              "      <td>Forest Fire</td>\n",
              "      <td>0</td>\n",
              "      <td>1</td>\n",
              "      <td>...</td>\n",
              "      <td>1953-07-02T04:00:00Z</td>\n",
              "      <td>1953-07-02T04:00:00Z</td>\n",
              "      <td>NaN</td>\n",
              "      <td>33000</td>\n",
              "      <td>0</td>\n",
              "      <td>Statewide</td>\n",
              "      <td>53011</td>\n",
              "      <td>86a70820dbb80e585cc01e2ce502005c</td>\n",
              "      <td>2019-07-26T18:49:32Z</td>\n",
              "      <td>5d1bceafd5b39c032f2602c5</td>\n",
              "    </tr>\n",
              "  </tbody>\n",
              "</table>\n",
              "<p>10 rows × 22 columns</p>\n",
              "</div>\n",
              "      <button class=\"colab-df-convert\" onclick=\"convertToInteractive('df-ef0a9c17-2b7d-4251-b2ae-0b7b1baef87f')\"\n",
              "              title=\"Convert this dataframe to an interactive table.\"\n",
              "              style=\"display:none;\">\n",
              "        \n",
              "  <svg xmlns=\"http://www.w3.org/2000/svg\" height=\"24px\"viewBox=\"0 0 24 24\"\n",
              "       width=\"24px\">\n",
              "    <path d=\"M0 0h24v24H0V0z\" fill=\"none\"/>\n",
              "    <path d=\"M18.56 5.44l.94 2.06.94-2.06 2.06-.94-2.06-.94-.94-2.06-.94 2.06-2.06.94zm-11 1L8.5 8.5l.94-2.06 2.06-.94-2.06-.94L8.5 2.5l-.94 2.06-2.06.94zm10 10l.94 2.06.94-2.06 2.06-.94-2.06-.94-.94-2.06-.94 2.06-2.06.94z\"/><path d=\"M17.41 7.96l-1.37-1.37c-.4-.4-.92-.59-1.43-.59-.52 0-1.04.2-1.43.59L10.3 9.45l-7.72 7.72c-.78.78-.78 2.05 0 2.83L4 21.41c.39.39.9.59 1.41.59.51 0 1.02-.2 1.41-.59l7.78-7.78 2.81-2.81c.8-.78.8-2.07 0-2.86zM5.41 20L4 18.59l7.72-7.72 1.47 1.35L5.41 20z\"/>\n",
              "  </svg>\n",
              "      </button>\n",
              "      \n",
              "  <style>\n",
              "    .colab-df-container {\n",
              "      display:flex;\n",
              "      flex-wrap:wrap;\n",
              "      gap: 12px;\n",
              "    }\n",
              "\n",
              "    .colab-df-convert {\n",
              "      background-color: #E8F0FE;\n",
              "      border: none;\n",
              "      border-radius: 50%;\n",
              "      cursor: pointer;\n",
              "      display: none;\n",
              "      fill: #1967D2;\n",
              "      height: 32px;\n",
              "      padding: 0 0 0 0;\n",
              "      width: 32px;\n",
              "    }\n",
              "\n",
              "    .colab-df-convert:hover {\n",
              "      background-color: #E2EBFA;\n",
              "      box-shadow: 0px 1px 2px rgba(60, 64, 67, 0.3), 0px 1px 3px 1px rgba(60, 64, 67, 0.15);\n",
              "      fill: #174EA6;\n",
              "    }\n",
              "\n",
              "    [theme=dark] .colab-df-convert {\n",
              "      background-color: #3B4455;\n",
              "      fill: #D2E3FC;\n",
              "    }\n",
              "\n",
              "    [theme=dark] .colab-df-convert:hover {\n",
              "      background-color: #434B5C;\n",
              "      box-shadow: 0px 1px 3px 1px rgba(0, 0, 0, 0.15);\n",
              "      filter: drop-shadow(0px 1px 2px rgba(0, 0, 0, 0.3));\n",
              "      fill: #FFFFFF;\n",
              "    }\n",
              "  </style>\n",
              "\n",
              "      <script>\n",
              "        const buttonEl =\n",
              "          document.querySelector('#df-ef0a9c17-2b7d-4251-b2ae-0b7b1baef87f button.colab-df-convert');\n",
              "        buttonEl.style.display =\n",
              "          google.colab.kernel.accessAllowed ? 'block' : 'none';\n",
              "\n",
              "        async function convertToInteractive(key) {\n",
              "          const element = document.querySelector('#df-ef0a9c17-2b7d-4251-b2ae-0b7b1baef87f');\n",
              "          const dataTable =\n",
              "            await google.colab.kernel.invokeFunction('convertToInteractive',\n",
              "                                                     [key], {});\n",
              "          if (!dataTable) return;\n",
              "\n",
              "          const docLinkHtml = 'Like what you see? Visit the ' +\n",
              "            '<a target=\"_blank\" href=https://colab.research.google.com/notebooks/data_table.ipynb>data table notebook</a>'\n",
              "            + ' to learn more about interactive tables.';\n",
              "          element.innerHTML = '';\n",
              "          dataTable['output_type'] = 'display_data';\n",
              "          await google.colab.output.renderOutput(dataTable, element);\n",
              "          const docLink = document.createElement('div');\n",
              "          docLink.innerHTML = docLinkHtml;\n",
              "          element.appendChild(docLink);\n",
              "        }\n",
              "      </script>\n",
              "    </div>\n",
              "  </div>\n",
              "  "
            ]
          },
          "metadata": {},
          "execution_count": 12
        }
      ]
    },
    {
      "cell_type": "code",
      "source": [
        "df.info()"
      ],
      "metadata": {
        "trusted": true,
        "id": "r3ZZC0NPiUHf",
        "colab": {
          "base_uri": "https://localhost:8080/"
        },
        "outputId": "d1d40b58-0d1f-4770-d6f5-9b70c8447f21"
      },
      "execution_count": 13,
      "outputs": [
        {
          "output_type": "stream",
          "name": "stdout",
          "text": [
            "<class 'pandas.core.frame.DataFrame'>\n",
            "RangeIndex: 59392 entries, 0 to 59391\n",
            "Data columns (total 22 columns):\n",
            " #   Column                      Non-Null Count  Dtype \n",
            "---  ------                      --------------  ----- \n",
            " 0   fema_declaration_string     59392 non-null  object\n",
            " 1   disaster_number             59392 non-null  int64 \n",
            " 2   state                       59392 non-null  object\n",
            " 3   declaration_type            59392 non-null  object\n",
            " 4   declaration_date            59392 non-null  object\n",
            " 5   fy_declared                 59392 non-null  int64 \n",
            " 6   incident_type               59392 non-null  object\n",
            " 7   declaration_title           59392 non-null  object\n",
            " 8   ih_program_declared         59392 non-null  int64 \n",
            " 9   ia_program_declared         59392 non-null  int64 \n",
            " 10  pa_program_declared         59392 non-null  int64 \n",
            " 11  hm_program_declared         59392 non-null  int64 \n",
            " 12  incident_begin_date         59392 non-null  object\n",
            " 13  incident_end_date           51226 non-null  object\n",
            " 14  disaster_closeout_date      3080 non-null   object\n",
            " 15  fips                        59392 non-null  int64 \n",
            " 16  place_code                  59392 non-null  int64 \n",
            " 17  designated_area             59392 non-null  object\n",
            " 18  declaration_request_number  59392 non-null  int64 \n",
            " 19  hash                        59318 non-null  object\n",
            " 20  last_refresh                59392 non-null  object\n",
            " 21  id                          59392 non-null  object\n",
            "dtypes: int64(9), object(13)\n",
            "memory usage: 10.0+ MB\n"
          ]
        }
      ]
    },
    {
      "cell_type": "code",
      "source": [
        "sns.pairplot(df[['disaster_number','fy_declared','incident_type','declaration_request_number']]);"
      ],
      "metadata": {
        "trusted": true,
        "id": "aTRbhNIGiUHf",
        "colab": {
          "base_uri": "https://localhost:8080/",
          "height": 550
        },
        "outputId": "964ebbb9-014b-4dbc-e691-99a15b3eb20d"
      },
      "execution_count": 14,
      "outputs": [
        {
          "output_type": "display_data",
          "data": {
            "text/plain": [
              "<Figure size 540x540 with 12 Axes>"
            ],
            "image/png": "[encoded data removed]"
          },
          "metadata": {
            "needs_background": "light"
          }
        }
      ]
    },
    {
      "cell_type": "markdown",
      "source": [
        "# How frequently do disasters occur statewide"
      ],
      "metadata": {
        "id": "tVx00ZA_iUHg"
      }
    },
    {
      "cell_type": "code",
      "source": [
        "disaster_types = df['incident_type'].unique()\n",
        "print(\"Types of Disasters reported:\\n\\n\", disaster_types)\n",
        "print(\"Occurrences:\\n\\n\",df['incident_type'].value_counts())"
      ],
      "metadata": {
        "trusted": true,
        "id": "V-__TAwViUHg",
        "colab": {
          "base_uri": "https://localhost:8080/"
        },
        "outputId": "17860090-d77a-42b0-df8b-2b8947a4acdb"
      },
      "execution_count": 15,
      "outputs": [
        {
          "output_type": "stream",
          "name": "stdout",
          "text": [
            "Types of Disasters reported:\n",
            "\n",
            " ['Tornado' 'Flood' 'Fire' 'Other' 'Earthquake' 'Hurricane' 'Volcano'\n",
            " 'Severe Storm(s)' 'Toxic Substances' 'Typhoon' 'Drought'\n",
            " 'Dam/Levee Break' 'Snow' 'Severe Ice Storm' 'Freezing' 'Coastal Storm'\n",
            " 'Fishing Losses' 'Mud/Landslide' 'Human Cause' 'Terrorist' 'Tsunami'\n",
            " 'Chemical' 'Biological']\n",
            "Occurrences:\n",
            "\n",
            " Severe Storm(s)     17032\n",
            "Hurricane           10880\n",
            "Flood               10395\n",
            "Biological           7645\n",
            "Snow                 3659\n",
            "Fire                 3334\n",
            "Severe Ice Storm     1990\n",
            "Tornado              1463\n",
            "Drought              1292\n",
            "Coastal Storm         572\n",
            "Freezing              301\n",
            "Other                 297\n",
            "Earthquake            226\n",
            "Typhoon               130\n",
            "Volcano                51\n",
            "Fishing Losses         42\n",
            "Mud/Landslide          31\n",
            "Dam/Levee Break        13\n",
            "Toxic Substances        9\n",
            "Tsunami                 9\n",
            "Chemical                9\n",
            "Human Cause             7\n",
            "Terrorist               5\n",
            "Name: incident_type, dtype: int64\n"
          ]
        }
      ]
    },
    {
      "cell_type": "markdown",
      "source": [
        "plotting natural disasters over the years by count and frequency\n"
      ],
      "metadata": {
        "id": "GM6Cdz9eiUHg"
      }
    },
    {
      "cell_type": "code",
      "source": [
        "plt.pyplot.figure(figsize=(10,6))\n",
        "sns.distplot(df['incident_type'].value_counts());"
      ],
      "metadata": {
        "trusted": true,
        "id": "s8cHQrAXiUHh",
        "colab": {
          "base_uri": "https://localhost:8080/",
          "height": 443
        },
        "outputId": "5ab01875-2209-4c98-939d-279a503f0bf6"
      },
      "execution_count": 16,
      "outputs": [
        {
          "output_type": "stream",
          "name": "stderr",
          "text": [
            "/usr/local/lib/python3.7/dist-packages/seaborn/distributions.py:2619: FutureWarning: `distplot` is a deprecated function and will be removed in a future version. Please adapt your code to use either `displot` (a figure-level function with similar flexibility) or `histplot` (an axes-level function for histograms).\n",
            "  warnings.warn(msg, FutureWarning)\n"
          ]
        },
        {
          "output_type": "display_data",
          "data": {
            "text/plain": [
              "<Figure size 720x432 with 1 Axes>"
            ],
            "image/png": "[encoded data removed]"
          },
          "metadata": {
            "needs_background": "light"
          }
        }
      ]
    },
    {
      "cell_type": "code",
      "source": [
        "m=df[['fy_declared','incident_type']].groupby('fy_declared').describe()['incident_type'].reset_index()\n",
        "plt.pyplot.figure(figsize=(9,6))\n",
        "sns.barplot(x='top',y='freq',data =m);"
      ],
      "metadata": {
        "trusted": true,
        "id": "2BHeWI9WiUHh",
        "colab": {
          "base_uri": "https://localhost:8080/",
          "height": 391
        },
        "outputId": "676ee996-b171-4b04-e8ca-6808cf88bb1c"
      },
      "execution_count": 17,
      "outputs": [
        {
          "output_type": "display_data",
          "data": {
            "text/plain": [
              "<Figure size 648x432 with 1 Axes>"
            ],
            "image/png": "[encoded data removed]"
          },
          "metadata": {
            "needs_background": "light"
          }
        }
      ]
    },
    {
      "cell_type": "code",
      "source": [
        "m=df['fy_declared'].value_counts().reset_index()\n",
        "m.head(10)"
      ],
      "metadata": {
        "trusted": true,
        "id": "MPiAdw-2iUHi",
        "colab": {
          "base_uri": "https://localhost:8080/",
          "height": 359
        },
        "outputId": "f2a8fc4d-4b7f-4f1a-86f6-55ecba6463bc"
      },
      "execution_count": 18,
      "outputs": [
        {
          "output_type": "execute_result",
          "data": {
            "text/plain": [
              "   index  fy_declared\n",
              "0   2020         8410\n",
              "1   2005         4661\n",
              "2   2011         2684\n",
              "3   2008         2456\n",
              "4   2019         1916\n",
              "5   2017         1905\n",
              "6   2004         1894\n",
              "7   1993         1773\n",
              "8   1996         1750\n",
              "9   2003         1662"
            ],
            "text/html": [
              "\n",
              "  <div id=\"df-a6be1697-8514-40bd-92c4-2abc3092d328\">\n",
              "    <div class=\"colab-df-container\">\n",
              "      <div>\n",
              "<style scoped>\n",
              "    .dataframe tbody tr th:only-of-type {\n",
              "        vertical-align: middle;\n",
              "    }\n",
              "\n",
              "    .dataframe tbody tr th {\n",
              "        vertical-align: top;\n",
              "    }\n",
              "\n",
              "    .dataframe thead th {\n",
              "        text-align: right;\n",
              "    }\n",
              "</style>\n",
              "<table border=\"1\" class=\"dataframe\">\n",
              "  <thead>\n",
              "    <tr style=\"text-align: right;\">\n",
              "      <th></th>\n",
              "      <th>index</th>\n",
              "      <th>fy_declared</th>\n",
              "    </tr>\n",
              "  </thead>\n",
              "  <tbody>\n",
              "    <tr>\n",
              "      <th>0</th>\n",
              "      <td>2020</td>\n",
              "      <td>8410</td>\n",
              "    </tr>\n",
              "    <tr>\n",
              "      <th>1</th>\n",
              "      <td>2005</td>\n",
              "      <td>4661</td>\n",
              "    </tr>\n",
              "    <tr>\n",
              "      <th>2</th>\n",
              "      <td>2011</td>\n",
              "      <td>2684</td>\n",
              "    </tr>\n",
              "    <tr>\n",
              "      <th>3</th>\n",
              "      <td>2008</td>\n",
              "      <td>2456</td>\n",
              "    </tr>\n",
              "    <tr>\n",
              "      <th>4</th>\n",
              "      <td>2019</td>\n",
              "      <td>1916</td>\n",
              "    </tr>\n",
              "    <tr>\n",
              "      <th>5</th>\n",
              "      <td>2017</td>\n",
              "      <td>1905</td>\n",
              "    </tr>\n",
              "    <tr>\n",
              "      <th>6</th>\n",
              "      <td>2004</td>\n",
              "      <td>1894</td>\n",
              "    </tr>\n",
              "    <tr>\n",
              "      <th>7</th>\n",
              "      <td>1993</td>\n",
              "      <td>1773</td>\n",
              "    </tr>\n",
              "    <tr>\n",
              "      <th>8</th>\n",
              "      <td>1996</td>\n",
              "      <td>1750</td>\n",
              "    </tr>\n",
              "    <tr>\n",
              "      <th>9</th>\n",
              "      <td>2003</td>\n",
              "      <td>1662</td>\n",
              "    </tr>\n",
              "  </tbody>\n",
              "</table>\n",
              "</div>\n",
              "      <button class=\"colab-df-convert\" onclick=\"convertToInteractive('df-a6be1697-8514-40bd-92c4-2abc3092d328')\"\n",
              "              title=\"Convert this dataframe to an interactive table.\"\n",
              "              style=\"display:none;\">\n",
              "        \n",
              "  <svg xmlns=\"http://www.w3.org/2000/svg\" height=\"24px\"viewBox=\"0 0 24 24\"\n",
              "       width=\"24px\">\n",
              "    <path d=\"M0 0h24v24H0V0z\" fill=\"none\"/>\n",
              "    <path d=\"M18.56 5.44l.94 2.06.94-2.06 2.06-.94-2.06-.94-.94-2.06-.94 2.06-2.06.94zm-11 1L8.5 8.5l.94-2.06 2.06-.94-2.06-.94L8.5 2.5l-.94 2.06-2.06.94zm10 10l.94 2.06.94-2.06 2.06-.94-2.06-.94-.94-2.06-.94 2.06-2.06.94z\"/><path d=\"M17.41 7.96l-1.37-1.37c-.4-.4-.92-.59-1.43-.59-.52 0-1.04.2-1.43.59L10.3 9.45l-7.72 7.72c-.78.78-.78 2.05 0 2.83L4 21.41c.39.39.9.59 1.41.59.51 0 1.02-.2 1.41-.59l7.78-7.78 2.81-2.81c.8-.78.8-2.07 0-2.86zM5.41 20L4 18.59l7.72-7.72 1.47 1.35L5.41 20z\"/>\n",
              "  </svg>\n",
              "      </button>\n",
              "      \n",
              "  <style>\n",
              "    .colab-df-container {\n",
              "      display:flex;\n",
              "      flex-wrap:wrap;\n",
              "      gap: 12px;\n",
              "    }\n",
              "\n",
              "    .colab-df-convert {\n",
              "      background-color: #E8F0FE;\n",
              "      border: none;\n",
              "      border-radius: 50%;\n",
              "      cursor: pointer;\n",
              "      display: none;\n",
              "      fill: #1967D2;\n",
              "      height: 32px;\n",
              "      padding: 0 0 0 0;\n",
              "      width: 32px;\n",
              "    }\n",
              "\n",
              "    .colab-df-convert:hover {\n",
              "      background-color: #E2EBFA;\n",
              "      box-shadow: 0px 1px 2px rgba(60, 64, 67, 0.3), 0px 1px 3px 1px rgba(60, 64, 67, 0.15);\n",
              "      fill: #174EA6;\n",
              "    }\n",
              "\n",
              "    [theme=dark] .colab-df-convert {\n",
              "      background-color: #3B4455;\n",
              "      fill: #D2E3FC;\n",
              "    }\n",
              "\n",
              "    [theme=dark] .colab-df-convert:hover {\n",
              "      background-color: #434B5C;\n",
              "      box-shadow: 0px 1px 3px 1px rgba(0, 0, 0, 0.15);\n",
              "      filter: drop-shadow(0px 1px 2px rgba(0, 0, 0, 0.3));\n",
              "      fill: #FFFFFF;\n",
              "    }\n",
              "  </style>\n",
              "\n",
              "      <script>\n",
              "        const buttonEl =\n",
              "          document.querySelector('#df-a6be1697-8514-40bd-92c4-2abc3092d328 button.colab-df-convert');\n",
              "        buttonEl.style.display =\n",
              "          google.colab.kernel.accessAllowed ? 'block' : 'none';\n",
              "\n",
              "        async function convertToInteractive(key) {\n",
              "          const element = document.querySelector('#df-a6be1697-8514-40bd-92c4-2abc3092d328');\n",
              "          const dataTable =\n",
              "            await google.colab.kernel.invokeFunction('convertToInteractive',\n",
              "                                                     [key], {});\n",
              "          if (!dataTable) return;\n",
              "\n",
              "          const docLinkHtml = 'Like what you see? Visit the ' +\n",
              "            '<a target=\"_blank\" href=https://colab.research.google.com/notebooks/data_table.ipynb>data table notebook</a>'\n",
              "            + ' to learn more about interactive tables.';\n",
              "          element.innerHTML = '';\n",
              "          dataTable['output_type'] = 'display_data';\n",
              "          await google.colab.output.renderOutput(dataTable, element);\n",
              "          const docLink = document.createElement('div');\n",
              "          docLink.innerHTML = docLinkHtml;\n",
              "          element.appendChild(docLink);\n",
              "        }\n",
              "      </script>\n",
              "    </div>\n",
              "  </div>\n",
              "  "
            ]
          },
          "metadata": {},
          "execution_count": 18
        }
      ]
    },
    {
      "cell_type": "code",
      "source": [
        "sns.lmplot(x='index',y='fy_declared',data=m.sort_values(by='fy_declared'),\n",
        "           aspect=1.7, height=5,markers=['o'], scatter_kws={'s':20});"
      ],
      "metadata": {
        "trusted": true,
        "id": "SipPrkV6iUHi",
        "colab": {
          "base_uri": "https://localhost:8080/",
          "height": 369
        },
        "outputId": "c08a9425-ab1d-46ed-b1f2-448b7c72e7ae"
      },
      "execution_count": 19,
      "outputs": [
        {
          "output_type": "display_data",
          "data": {
            "text/plain": [
              "<Figure size 612x360 with 1 Axes>"
            ],
            "image/png": "[encoded data removed]"
          },
          "metadata": {
            "needs_background": "light"
          }
        }
      ]
    },
    {
      "cell_type": "markdown",
      "source": [
        "## To check which states are prone to what kinds of Natural Disasters"
      ],
      "metadata": {
        "id": "auNcSZ3kiUHj"
      }
    },
    {
      "cell_type": "code",
      "source": [
        "m=df[['state','incident_type']].groupby('state').describe()\n",
        "m['incident_type'].sort_values(by='count',ascending=False).head(10)"
      ],
      "metadata": {
        "trusted": true,
        "id": "r-1VqytmiUHj",
        "colab": {
          "base_uri": "https://localhost:8080/",
          "height": 390
        },
        "outputId": "db1d4e34-74d9-419f-d21d-96f4c6886774"
      },
      "execution_count": 20,
      "outputs": [
        {
          "output_type": "execute_result",
          "data": {
            "text/plain": [
              "      count unique              top  freq\n",
              "state                                    \n",
              "TX     4561     11             Fire  1216\n",
              "MO     2767      8  Severe Storm(s)  1406\n",
              "VA     2460     10        Hurricane   877\n",
              "KY     2417     10  Severe Storm(s)   987\n",
              "OK     2279      9  Severe Storm(s)   997\n",
              "GA     2240     10        Hurricane   884\n",
              "FL     1969     10        Hurricane   930\n",
              "NC     1848     10        Hurricane  1075\n",
              "IA     1800      8            Flood   722\n",
              "LA     1751     11        Hurricane   818"
            ],
            "text/html": [
              "\n",
              "  <div id=\"df-238556d0-2af7-4248-9005-c88f5dfeac8c\">\n",
              "    <div class=\"colab-df-container\">\n",
              "      <div>\n",
              "<style scoped>\n",
              "    .dataframe tbody tr th:only-of-type {\n",
              "        vertical-align: middle;\n",
              "    }\n",
              "\n",
              "    .dataframe tbody tr th {\n",
              "        vertical-align: top;\n",
              "    }\n",
              "\n",
              "    .dataframe thead th {\n",
              "        text-align: right;\n",
              "    }\n",
              "</style>\n",
              "<table border=\"1\" class=\"dataframe\">\n",
              "  <thead>\n",
              "    <tr style=\"text-align: right;\">\n",
              "      <th></th>\n",
              "      <th>count</th>\n",
              "      <th>unique</th>\n",
              "      <th>top</th>\n",
              "      <th>freq</th>\n",
              "    </tr>\n",
              "    <tr>\n",
              "      <th>state</th>\n",
              "      <th></th>\n",
              "      <th></th>\n",
              "      <th></th>\n",
              "      <th></th>\n",
              "    </tr>\n",
              "  </thead>\n",
              "  <tbody>\n",
              "    <tr>\n",
              "      <th>TX</th>\n",
              "      <td>4561</td>\n",
              "      <td>11</td>\n",
              "      <td>Fire</td>\n",
              "      <td>1216</td>\n",
              "    </tr>\n",
              "    <tr>\n",
              "      <th>MO</th>\n",
              "      <td>2767</td>\n",
              "      <td>8</td>\n",
              "      <td>Severe Storm(s)</td>\n",
              "      <td>1406</td>\n",
              "    </tr>\n",
              "    <tr>\n",
              "      <th>VA</th>\n",
              "      <td>2460</td>\n",
              "      <td>10</td>\n",
              "      <td>Hurricane</td>\n",
              "      <td>877</td>\n",
              "    </tr>\n",
              "    <tr>\n",
              "      <th>KY</th>\n",
              "      <td>2417</td>\n",
              "      <td>10</td>\n",
              "      <td>Severe Storm(s)</td>\n",
              "      <td>987</td>\n",
              "    </tr>\n",
              "    <tr>\n",
              "      <th>OK</th>\n",
              "      <td>2279</td>\n",
              "      <td>9</td>\n",
              "      <td>Severe Storm(s)</td>\n",
              "      <td>997</td>\n",
              "    </tr>\n",
              "    <tr>\n",
              "      <th>GA</th>\n",
              "      <td>2240</td>\n",
              "      <td>10</td>\n",
              "      <td>Hurricane</td>\n",
              "      <td>884</td>\n",
              "    </tr>\n",
              "    <tr>\n",
              "      <th>FL</th>\n",
              "      <td>1969</td>\n",
              "      <td>10</td>\n",
              "      <td>Hurricane</td>\n",
              "      <td>930</td>\n",
              "    </tr>\n",
              "    <tr>\n",
              "      <th>NC</th>\n",
              "      <td>1848</td>\n",
              "      <td>10</td>\n",
              "      <td>Hurricane</td>\n",
              "      <td>1075</td>\n",
              "    </tr>\n",
              "    <tr>\n",
              "      <th>IA</th>\n",
              "      <td>1800</td>\n",
              "      <td>8</td>\n",
              "      <td>Flood</td>\n",
              "      <td>722</td>\n",
              "    </tr>\n",
              "    <tr>\n",
              "      <th>LA</th>\n",
              "      <td>1751</td>\n",
              "      <td>11</td>\n",
              "      <td>Hurricane</td>\n",
              "      <td>818</td>\n",
              "    </tr>\n",
              "  </tbody>\n",
              "</table>\n",
              "</div>\n",
              "      <button class=\"colab-df-convert\" onclick=\"convertToInteractive('df-238556d0-2af7-4248-9005-c88f5dfeac8c')\"\n",
              "              title=\"Convert this dataframe to an interactive table.\"\n",
              "              style=\"display:none;\">\n",
              "        \n",
              "  <svg xmlns=\"http://www.w3.org/2000/svg\" height=\"24px\"viewBox=\"0 0 24 24\"\n",
              "       width=\"24px\">\n",
              "    <path d=\"M0 0h24v24H0V0z\" fill=\"none\"/>\n",
              "    <path d=\"M18.56 5.44l.94 2.06.94-2.06 2.06-.94-2.06-.94-.94-2.06-.94 2.06-2.06.94zm-11 1L8.5 8.5l.94-2.06 2.06-.94-2.06-.94L8.5 2.5l-.94 2.06-2.06.94zm10 10l.94 2.06.94-2.06 2.06-.94-2.06-.94-.94-2.06-.94 2.06-2.06.94z\"/><path d=\"M17.41 7.96l-1.37-1.37c-.4-.4-.92-.59-1.43-.59-.52 0-1.04.2-1.43.59L10.3 9.45l-7.72 7.72c-.78.78-.78 2.05 0 2.83L4 21.41c.39.39.9.59 1.41.59.51 0 1.02-.2 1.41-.59l7.78-7.78 2.81-2.81c.8-.78.8-2.07 0-2.86zM5.41 20L4 18.59l7.72-7.72 1.47 1.35L5.41 20z\"/>\n",
              "  </svg>\n",
              "      </button>\n",
              "      \n",
              "  <style>\n",
              "    .colab-df-container {\n",
              "      display:flex;\n",
              "      flex-wrap:wrap;\n",
              "      gap: 12px;\n",
              "    }\n",
              "\n",
              "    .colab-df-convert {\n",
              "      background-color: #E8F0FE;\n",
              "      border: none;\n",
              "      border-radius: 50%;\n",
              "      cursor: pointer;\n",
              "      display: none;\n",
              "      fill: #1967D2;\n",
              "      height: 32px;\n",
              "      padding: 0 0 0 0;\n",
              "      width: 32px;\n",
              "    }\n",
              "\n",
              "    .colab-df-convert:hover {\n",
              "      background-color: #E2EBFA;\n",
              "      box-shadow: 0px 1px 2px rgba(60, 64, 67, 0.3), 0px 1px 3px 1px rgba(60, 64, 67, 0.15);\n",
              "      fill: #174EA6;\n",
              "    }\n",
              "\n",
              "    [theme=dark] .colab-df-convert {\n",
              "      background-color: #3B4455;\n",
              "      fill: #D2E3FC;\n",
              "    }\n",
              "\n",
              "    [theme=dark] .colab-df-convert:hover {\n",
              "      background-color: #434B5C;\n",
              "      box-shadow: 0px 1px 3px 1px rgba(0, 0, 0, 0.15);\n",
              "      filter: drop-shadow(0px 1px 2px rgba(0, 0, 0, 0.3));\n",
              "      fill: #FFFFFF;\n",
              "    }\n",
              "  </style>\n",
              "\n",
              "      <script>\n",
              "        const buttonEl =\n",
              "          document.querySelector('#df-238556d0-2af7-4248-9005-c88f5dfeac8c button.colab-df-convert');\n",
              "        buttonEl.style.display =\n",
              "          google.colab.kernel.accessAllowed ? 'block' : 'none';\n",
              "\n",
              "        async function convertToInteractive(key) {\n",
              "          const element = document.querySelector('#df-238556d0-2af7-4248-9005-c88f5dfeac8c');\n",
              "          const dataTable =\n",
              "            await google.colab.kernel.invokeFunction('convertToInteractive',\n",
              "                                                     [key], {});\n",
              "          if (!dataTable) return;\n",
              "\n",
              "          const docLinkHtml = 'Like what you see? Visit the ' +\n",
              "            '<a target=\"_blank\" href=https://colab.research.google.com/notebooks/data_table.ipynb>data table notebook</a>'\n",
              "            + ' to learn more about interactive tables.';\n",
              "          element.innerHTML = '';\n",
              "          dataTable['output_type'] = 'display_data';\n",
              "          await google.colab.output.renderOutput(dataTable, element);\n",
              "          const docLink = document.createElement('div');\n",
              "          docLink.innerHTML = docLinkHtml;\n",
              "          element.appendChild(docLink);\n",
              "        }\n",
              "      </script>\n",
              "    </div>\n",
              "  </div>\n",
              "  "
            ]
          },
          "metadata": {},
          "execution_count": 20
        }
      ]
    },
    {
      "cell_type": "markdown",
      "source": [
        "Plotting count, unique and frequency from describe() function"
      ],
      "metadata": {
        "id": "kX5YtlTMiUHk"
      }
    },
    {
      "cell_type": "code",
      "source": [
        "m=df[['state','incident_type']].groupby('state').describe()\n",
        "sns.pairplot(m['incident_type'].reset_index(drop=True));"
      ],
      "metadata": {
        "trusted": true,
        "id": "gbySMM7HiUHk",
        "colab": {
          "base_uri": "https://localhost:8080/",
          "height": 550
        },
        "outputId": "0c85cff1-3076-4c30-eafc-32d02a2fc2e6"
      },
      "execution_count": 21,
      "outputs": [
        {
          "output_type": "display_data",
          "data": {
            "text/plain": [
              "<Figure size 540x540 with 12 Axes>"
            ],
            "image/png": "[encoded data removed]"
          },
          "metadata": {
            "needs_background": "light"
          }
        }
      ]
    },
    {
      "cell_type": "code",
      "source": [
        "m['incident_type'].sort_values(by='freq',ascending=False)['freq'].head(10)"
      ],
      "metadata": {
        "trusted": true,
        "id": "MQshxcKkiUHl",
        "colab": {
          "base_uri": "https://localhost:8080/"
        },
        "outputId": "5f03139c-04fb-487a-e538-22036981b16c"
      },
      "execution_count": 22,
      "outputs": [
        {
          "output_type": "execute_result",
          "data": {
            "text/plain": [
              "state\n",
              "MO    1406\n",
              "TX    1216\n",
              "NC    1075\n",
              "OK     997\n",
              "KY     987\n",
              "KS     975\n",
              "FL     930\n",
              "GA     884\n",
              "VA     877\n",
              "LA     818\n",
              "Name: freq, dtype: object"
            ]
          },
          "metadata": {},
          "execution_count": 22
        }
      ]
    },
    {
      "cell_type": "markdown",
      "source": [
        "States most frequently hit by one kind of natural disaster"
      ],
      "metadata": {
        "id": "9n5S4zGViUHl"
      }
    },
    {
      "cell_type": "markdown",
      "source": [
        "# States at Maximum Risk"
      ],
      "metadata": {
        "id": "L6o0UarEiUHm"
      }
    },
    {
      "cell_type": "code",
      "source": [
        "p = df[['state','incident_type']].groupby('state').count()\n",
        "p.reset_index(inplace=True)\n",
        "p=p.sort_values(by='incident_type',ascending=False).head(10)\n",
        "p"
      ],
      "metadata": {
        "trusted": true,
        "id": "h6nRgvRBiUHm",
        "colab": {
          "base_uri": "https://localhost:8080/",
          "height": 359
        },
        "outputId": "b39c84ac-041b-4392-e05f-3115f7a57184"
      },
      "execution_count": 23,
      "outputs": [
        {
          "output_type": "execute_result",
          "data": {
            "text/plain": [
              "   state  incident_type\n",
              "50    TX           4561\n",
              "28    MO           2767\n",
              "52    VA           2460\n",
              "20    KY           2417\n",
              "41    OK           2279\n",
              "12    GA           2240\n",
              "10    FL           1969\n",
              "32    NC           1848\n",
              "15    IA           1800\n",
              "21    LA           1751"
            ],
            "text/html": [
              "\n",
              "  <div id=\"df-24aa7baa-84b7-4b7b-9c3b-e49c43c241c1\">\n",
              "    <div class=\"colab-df-container\">\n",
              "      <div>\n",
              "<style scoped>\n",
              "    .dataframe tbody tr th:only-of-type {\n",
              "        vertical-align: middle;\n",
              "    }\n",
              "\n",
              "    .dataframe tbody tr th {\n",
              "        vertical-align: top;\n",
              "    }\n",
              "\n",
              "    .dataframe thead th {\n",
              "        text-align: right;\n",
              "    }\n",
              "</style>\n",
              "<table border=\"1\" class=\"dataframe\">\n",
              "  <thead>\n",
              "    <tr style=\"text-align: right;\">\n",
              "      <th></th>\n",
              "      <th>state</th>\n",
              "      <th>incident_type</th>\n",
              "    </tr>\n",
              "  </thead>\n",
              "  <tbody>\n",
              "    <tr>\n",
              "      <th>50</th>\n",
              "      <td>TX</td>\n",
              "      <td>4561</td>\n",
              "    </tr>\n",
              "    <tr>\n",
              "      <th>28</th>\n",
              "      <td>MO</td>\n",
              "      <td>2767</td>\n",
              "    </tr>\n",
              "    <tr>\n",
              "      <th>52</th>\n",
              "      <td>VA</td>\n",
              "      <td>2460</td>\n",
              "    </tr>\n",
              "    <tr>\n",
              "      <th>20</th>\n",
              "      <td>KY</td>\n",
              "      <td>2417</td>\n",
              "    </tr>\n",
              "    <tr>\n",
              "      <th>41</th>\n",
              "      <td>OK</td>\n",
              "      <td>2279</td>\n",
              "    </tr>\n",
              "    <tr>\n",
              "      <th>12</th>\n",
              "      <td>GA</td>\n",
              "      <td>2240</td>\n",
              "    </tr>\n",
              "    <tr>\n",
              "      <th>10</th>\n",
              "      <td>FL</td>\n",
              "      <td>1969</td>\n",
              "    </tr>\n",
              "    <tr>\n",
              "      <th>32</th>\n",
              "      <td>NC</td>\n",
              "      <td>1848</td>\n",
              "    </tr>\n",
              "    <tr>\n",
              "      <th>15</th>\n",
              "      <td>IA</td>\n",
              "      <td>1800</td>\n",
              "    </tr>\n",
              "    <tr>\n",
              "      <th>21</th>\n",
              "      <td>LA</td>\n",
              "      <td>1751</td>\n",
              "    </tr>\n",
              "  </tbody>\n",
              "</table>\n",
              "</div>\n",
              "      <button class=\"colab-df-convert\" onclick=\"convertToInteractive('df-24aa7baa-84b7-4b7b-9c3b-e49c43c241c1')\"\n",
              "              title=\"Convert this dataframe to an interactive table.\"\n",
              "              style=\"display:none;\">\n",
              "        \n",
              "  <svg xmlns=\"http://www.w3.org/2000/svg\" height=\"24px\"viewBox=\"0 0 24 24\"\n",
              "       width=\"24px\">\n",
              "    <path d=\"M0 0h24v24H0V0z\" fill=\"none\"/>\n",
              "    <path d=\"M18.56 5.44l.94 2.06.94-2.06 2.06-.94-2.06-.94-.94-2.06-.94 2.06-2.06.94zm-11 1L8.5 8.5l.94-2.06 2.06-.94-2.06-.94L8.5 2.5l-.94 2.06-2.06.94zm10 10l.94 2.06.94-2.06 2.06-.94-2.06-.94-.94-2.06-.94 2.06-2.06.94z\"/><path d=\"M17.41 7.96l-1.37-1.37c-.4-.4-.92-.59-1.43-.59-.52 0-1.04.2-1.43.59L10.3 9.45l-7.72 7.72c-.78.78-.78 2.05 0 2.83L4 21.41c.39.39.9.59 1.41.59.51 0 1.02-.2 1.41-.59l7.78-7.78 2.81-2.81c.8-.78.8-2.07 0-2.86zM5.41 20L4 18.59l7.72-7.72 1.47 1.35L5.41 20z\"/>\n",
              "  </svg>\n",
              "      </button>\n",
              "      \n",
              "  <style>\n",
              "    .colab-df-container {\n",
              "      display:flex;\n",
              "      flex-wrap:wrap;\n",
              "      gap: 12px;\n",
              "    }\n",
              "\n",
              "    .colab-df-convert {\n",
              "      background-color: #E8F0FE;\n",
              "      border: none;\n",
              "      border-radius: 50%;\n",
              "      cursor: pointer;\n",
              "      display: none;\n",
              "      fill: #1967D2;\n",
              "      height: 32px;\n",
              "      padding: 0 0 0 0;\n",
              "      width: 32px;\n",
              "    }\n",
              "\n",
              "    .colab-df-convert:hover {\n",
              "      background-color: #E2EBFA;\n",
              "      box-shadow: 0px 1px 2px rgba(60, 64, 67, 0.3), 0px 1px 3px 1px rgba(60, 64, 67, 0.15);\n",
              "      fill: #174EA6;\n",
              "    }\n",
              "\n",
              "    [theme=dark] .colab-df-convert {\n",
              "      background-color: #3B4455;\n",
              "      fill: #D2E3FC;\n",
              "    }\n",
              "\n",
              "    [theme=dark] .colab-df-convert:hover {\n",
              "      background-color: #434B5C;\n",
              "      box-shadow: 0px 1px 3px 1px rgba(0, 0, 0, 0.15);\n",
              "      filter: drop-shadow(0px 1px 2px rgba(0, 0, 0, 0.3));\n",
              "      fill: #FFFFFF;\n",
              "    }\n",
              "  </style>\n",
              "\n",
              "      <script>\n",
              "        const buttonEl =\n",
              "          document.querySelector('#df-24aa7baa-84b7-4b7b-9c3b-e49c43c241c1 button.colab-df-convert');\n",
              "        buttonEl.style.display =\n",
              "          google.colab.kernel.accessAllowed ? 'block' : 'none';\n",
              "\n",
              "        async function convertToInteractive(key) {\n",
              "          const element = document.querySelector('#df-24aa7baa-84b7-4b7b-9c3b-e49c43c241c1');\n",
              "          const dataTable =\n",
              "            await google.colab.kernel.invokeFunction('convertToInteractive',\n",
              "                                                     [key], {});\n",
              "          if (!dataTable) return;\n",
              "\n",
              "          const docLinkHtml = 'Like what you see? Visit the ' +\n",
              "            '<a target=\"_blank\" href=https://colab.research.google.com/notebooks/data_table.ipynb>data table notebook</a>'\n",
              "            + ' to learn more about interactive tables.';\n",
              "          element.innerHTML = '';\n",
              "          dataTable['output_type'] = 'display_data';\n",
              "          await google.colab.output.renderOutput(dataTable, element);\n",
              "          const docLink = document.createElement('div');\n",
              "          docLink.innerHTML = docLinkHtml;\n",
              "          element.appendChild(docLink);\n",
              "        }\n",
              "      </script>\n",
              "    </div>\n",
              "  </div>\n",
              "  "
            ]
          },
          "metadata": {},
          "execution_count": 23
        }
      ]
    },
    {
      "cell_type": "markdown",
      "source": [
        "Plotting All cases reported of natural disasters per state"
      ],
      "metadata": {
        "id": "CDbUs7FwiUHm"
      }
    },
    {
      "cell_type": "code",
      "source": [
        "plt.pyplot.figure(figsize=(16,8))\n",
        "sns.barplot(x=\"state\", y=\"incident_type\", data=p,);"
      ],
      "metadata": {
        "trusted": true,
        "id": "eDT0jki9iUHn",
        "colab": {
          "base_uri": "https://localhost:8080/",
          "height": 497
        },
        "outputId": "ccb1c2a2-64c7-4618-bfab-5bdd4f6c5be2"
      },
      "execution_count": 24,
      "outputs": [
        {
          "output_type": "display_data",
          "data": {
            "text/plain": [
              "<Figure size 1152x576 with 1 Axes>"
            ],
            "image/png": "[encoded data removed]"
          },
          "metadata": {
            "needs_background": "light"
          }
        }
      ]
    },
    {
      "cell_type": "markdown",
      "source": [
        "Texas TX seems to be the most disaster Prone state, Lets find out more:"
      ],
      "metadata": {
        "id": "kgMCuHnHiUHn"
      }
    },
    {
      "cell_type": "code",
      "source": [
        "print(\"Texas mostly faces:\\n\")\n",
        "df[['state','incident_type']].groupby('state').max().loc['TX']"
      ],
      "metadata": {
        "trusted": true,
        "id": "mjQZ_2myiUHn",
        "colab": {
          "base_uri": "https://localhost:8080/"
        },
        "outputId": "5bbe6165-c599-4756-d333-90d9a798426f"
      },
      "execution_count": 25,
      "outputs": [
        {
          "output_type": "stream",
          "name": "stdout",
          "text": [
            "Texas mostly faces:\n",
            "\n"
          ]
        },
        {
          "output_type": "execute_result",
          "data": {
            "text/plain": [
              "incident_type    Tornado\n",
              "Name: TX, dtype: object"
            ]
          },
          "metadata": {},
          "execution_count": 25
        }
      ]
    },
    {
      "cell_type": "markdown",
      "source": [
        "Texas reports over time:"
      ],
      "metadata": {
        "id": "txTEIRxDiUHo"
      }
    },
    {
      "cell_type": "code",
      "source": [
        "m=df.query('state==\"TX\"')['fy_declared'].value_counts().reset_index()\n",
        "m.head(10)"
      ],
      "metadata": {
        "trusted": true,
        "id": "oJMB0UHNiUHo",
        "colab": {
          "base_uri": "https://localhost:8080/",
          "height": 359
        },
        "outputId": "71ea1e68-8f39-4ccb-8dd3-28e31647652a"
      },
      "execution_count": 26,
      "outputs": [
        {
          "output_type": "execute_result",
          "data": {
            "text/plain": [
              "   index  fy_declared\n",
              "0   2005          763\n",
              "1   2020          525\n",
              "2   2008          476\n",
              "3   1999          297\n",
              "4   1998          293\n",
              "5   2006          277\n",
              "6   2011          261\n",
              "7   2016          168\n",
              "8   1993          153\n",
              "9   2007          116"
            ],
            "text/html": [
              "\n",
              "  <div id=\"df-3cc2107b-a372-4808-a59c-dd3ee81230ff\">\n",
              "    <div class=\"colab-df-container\">\n",
              "      <div>\n",
              "<style scoped>\n",
              "    .dataframe tbody tr th:only-of-type {\n",
              "        vertical-align: middle;\n",
              "    }\n",
              "\n",
              "    .dataframe tbody tr th {\n",
              "        vertical-align: top;\n",
              "    }\n",
              "\n",
              "    .dataframe thead th {\n",
              "        text-align: right;\n",
              "    }\n",
              "</style>\n",
              "<table border=\"1\" class=\"dataframe\">\n",
              "  <thead>\n",
              "    <tr style=\"text-align: right;\">\n",
              "      <th></th>\n",
              "      <th>index</th>\n",
              "      <th>fy_declared</th>\n",
              "    </tr>\n",
              "  </thead>\n",
              "  <tbody>\n",
              "    <tr>\n",
              "      <th>0</th>\n",
              "      <td>2005</td>\n",
              "      <td>763</td>\n",
              "    </tr>\n",
              "    <tr>\n",
              "      <th>1</th>\n",
              "      <td>2020</td>\n",
              "      <td>525</td>\n",
              "    </tr>\n",
              "    <tr>\n",
              "      <th>2</th>\n",
              "      <td>2008</td>\n",
              "      <td>476</td>\n",
              "    </tr>\n",
              "    <tr>\n",
              "      <th>3</th>\n",
              "      <td>1999</td>\n",
              "      <td>297</td>\n",
              "    </tr>\n",
              "    <tr>\n",
              "      <th>4</th>\n",
              "      <td>1998</td>\n",
              "      <td>293</td>\n",
              "    </tr>\n",
              "    <tr>\n",
              "      <th>5</th>\n",
              "      <td>2006</td>\n",
              "      <td>277</td>\n",
              "    </tr>\n",
              "    <tr>\n",
              "      <th>6</th>\n",
              "      <td>2011</td>\n",
              "      <td>261</td>\n",
              "    </tr>\n",
              "    <tr>\n",
              "      <th>7</th>\n",
              "      <td>2016</td>\n",
              "      <td>168</td>\n",
              "    </tr>\n",
              "    <tr>\n",
              "      <th>8</th>\n",
              "      <td>1993</td>\n",
              "      <td>153</td>\n",
              "    </tr>\n",
              "    <tr>\n",
              "      <th>9</th>\n",
              "      <td>2007</td>\n",
              "      <td>116</td>\n",
              "    </tr>\n",
              "  </tbody>\n",
              "</table>\n",
              "</div>\n",
              "      <button class=\"colab-df-convert\" onclick=\"convertToInteractive('df-3cc2107b-a372-4808-a59c-dd3ee81230ff')\"\n",
              "              title=\"Convert this dataframe to an interactive table.\"\n",
              "              style=\"display:none;\">\n",
              "        \n",
              "  <svg xmlns=\"http://www.w3.org/2000/svg\" height=\"24px\"viewBox=\"0 0 24 24\"\n",
              "       width=\"24px\">\n",
              "    <path d=\"M0 0h24v24H0V0z\" fill=\"none\"/>\n",
              "    <path d=\"M18.56 5.44l.94 2.06.94-2.06 2.06-.94-2.06-.94-.94-2.06-.94 2.06-2.06.94zm-11 1L8.5 8.5l.94-2.06 2.06-.94-2.06-.94L8.5 2.5l-.94 2.06-2.06.94zm10 10l.94 2.06.94-2.06 2.06-.94-2.06-.94-.94-2.06-.94 2.06-2.06.94z\"/><path d=\"M17.41 7.96l-1.37-1.37c-.4-.4-.92-.59-1.43-.59-.52 0-1.04.2-1.43.59L10.3 9.45l-7.72 7.72c-.78.78-.78 2.05 0 2.83L4 21.41c.39.39.9.59 1.41.59.51 0 1.02-.2 1.41-.59l7.78-7.78 2.81-2.81c.8-.78.8-2.07 0-2.86zM5.41 20L4 18.59l7.72-7.72 1.47 1.35L5.41 20z\"/>\n",
              "  </svg>\n",
              "      </button>\n",
              "      \n",
              "  <style>\n",
              "    .colab-df-container {\n",
              "      display:flex;\n",
              "      flex-wrap:wrap;\n",
              "      gap: 12px;\n",
              "    }\n",
              "\n",
              "    .colab-df-convert {\n",
              "      background-color: #E8F0FE;\n",
              "      border: none;\n",
              "      border-radius: 50%;\n",
              "      cursor: pointer;\n",
              "      display: none;\n",
              "      fill: #1967D2;\n",
              "      height: 32px;\n",
              "      padding: 0 0 0 0;\n",
              "      width: 32px;\n",
              "    }\n",
              "\n",
              "    .colab-df-convert:hover {\n",
              "      background-color: #E2EBFA;\n",
              "      box-shadow: 0px 1px 2px rgba(60, 64, 67, 0.3), 0px 1px 3px 1px rgba(60, 64, 67, 0.15);\n",
              "      fill: #174EA6;\n",
              "    }\n",
              "\n",
              "    [theme=dark] .colab-df-convert {\n",
              "      background-color: #3B4455;\n",
              "      fill: #D2E3FC;\n",
              "    }\n",
              "\n",
              "    [theme=dark] .colab-df-convert:hover {\n",
              "      background-color: #434B5C;\n",
              "      box-shadow: 0px 1px 3px 1px rgba(0, 0, 0, 0.15);\n",
              "      filter: drop-shadow(0px 1px 2px rgba(0, 0, 0, 0.3));\n",
              "      fill: #FFFFFF;\n",
              "    }\n",
              "  </style>\n",
              "\n",
              "      <script>\n",
              "        const buttonEl =\n",
              "          document.querySelector('#df-3cc2107b-a372-4808-a59c-dd3ee81230ff button.colab-df-convert');\n",
              "        buttonEl.style.display =\n",
              "          google.colab.kernel.accessAllowed ? 'block' : 'none';\n",
              "\n",
              "        async function convertToInteractive(key) {\n",
              "          const element = document.querySelector('#df-3cc2107b-a372-4808-a59c-dd3ee81230ff');\n",
              "          const dataTable =\n",
              "            await google.colab.kernel.invokeFunction('convertToInteractive',\n",
              "                                                     [key], {});\n",
              "          if (!dataTable) return;\n",
              "\n",
              "          const docLinkHtml = 'Like what you see? Visit the ' +\n",
              "            '<a target=\"_blank\" href=https://colab.research.google.com/notebooks/data_table.ipynb>data table notebook</a>'\n",
              "            + ' to learn more about interactive tables.';\n",
              "          element.innerHTML = '';\n",
              "          dataTable['output_type'] = 'display_data';\n",
              "          await google.colab.output.renderOutput(dataTable, element);\n",
              "          const docLink = document.createElement('div');\n",
              "          docLink.innerHTML = docLinkHtml;\n",
              "          element.appendChild(docLink);\n",
              "        }\n",
              "      </script>\n",
              "    </div>\n",
              "  </div>\n",
              "  "
            ]
          },
          "metadata": {},
          "execution_count": 26
        }
      ]
    },
    {
      "cell_type": "markdown",
      "source": [
        "2005 and 2020 were the worst years, most of the natural disasters reported were in these times. Interestingly the rate of natural disasters in TX has increased almost proportionally with time. Plotted Below:"
      ],
      "metadata": {
        "id": "nAnJYWVJiUHo"
      }
    },
    {
      "cell_type": "code",
      "source": [
        "plt.pyplot.figure(figsize=(24,12))\n",
        "sns.barplot(x='index',y='fy_declared',data=m.sort_values(by='fy_declared'));"
      ],
      "metadata": {
        "_kg_hide-input": false,
        "trusted": true,
        "id": "lKDE4OjeiUHp",
        "colab": {
          "base_uri": "https://localhost:8080/",
          "height": 621
        },
        "outputId": "4de32937-7184-4daa-e59e-9ee2d9d59135"
      },
      "execution_count": 27,
      "outputs": [
        {
          "output_type": "display_data",
          "data": {
            "text/plain": [
              "<Figure size 1728x864 with 1 Axes>"
            ],
            "image/png": "[encoded data removed]"
          },
          "metadata": {
            "needs_background": "light"
          }
        }
      ]
    },
    {
      "cell_type": "markdown",
      "source": [
        "# What is the reason of such a huge number of reports in 2020"
      ],
      "metadata": {
        "id": "b6nf2lKEiUHp"
      }
    },
    {
      "cell_type": "code",
      "source": [
        "df.query('state == \"TX\" & fy_declared==\"2020\"')['incident_type'].unique()"
      ],
      "metadata": {
        "trusted": true,
        "id": "BbGLAuBViUHp",
        "colab": {
          "base_uri": "https://localhost:8080/"
        },
        "outputId": "40fb3be0-6d9e-4b55-92ff-a29e75b70f89"
      },
      "execution_count": 28,
      "outputs": [
        {
          "output_type": "execute_result",
          "data": {
            "text/plain": [
              "array([], dtype=object)"
            ]
          },
          "metadata": {},
          "execution_count": 28
        }
      ]
    },
    {
      "cell_type": "markdown",
      "source": [
        "## What are the most disaster prone designated areas?"
      ],
      "metadata": {
        "id": "F7Ofx7QIiUHq"
      }
    },
    {
      "cell_type": "code",
      "source": [
        "print(\"Total Areas\\n\",df['designated_area'].nunique())"
      ],
      "metadata": {
        "trusted": true,
        "id": "5ReTL49LiUHq",
        "colab": {
          "base_uri": "https://localhost:8080/"
        },
        "outputId": "174078de-694c-44c3-e09c-f79bf3daae2d"
      },
      "execution_count": 29,
      "outputs": [
        {
          "output_type": "stream",
          "name": "stdout",
          "text": [
            "Total Areas\n",
            " 2766\n"
          ]
        }
      ]
    },
    {
      "cell_type": "code",
      "source": [
        "df[['designated_area','incident_type']].groupby('designated_area').count().sort_values(by='incident_type',ascending=False).head(10)"
      ],
      "metadata": {
        "trusted": true,
        "id": "zFihU9WaiUHq",
        "colab": {
          "base_uri": "https://localhost:8080/",
          "height": 390
        },
        "outputId": "848ae0f0-0c82-42ff-c6f9-b07a7a0f47a3"
      },
      "execution_count": 30,
      "outputs": [
        {
          "output_type": "execute_result",
          "data": {
            "text/plain": [
              "                     incident_type\n",
              "designated_area                   \n",
              "Statewide                      511\n",
              "Washington (County)            508\n",
              "Jefferson (County)             462\n",
              "Jackson (County)               440\n",
              "Franklin (County)              437\n",
              "Lincoln (County)               394\n",
              "Montgomery (County)            349\n",
              "Clay (County)                  346\n",
              "Madison (County)               334\n",
              "Monroe (County)                322"
            ],
            "text/html": [
              "\n",
              "  <div id=\"df-88256ed7-4fe5-4625-971a-ebc2b8b8b8ad\">\n",
              "    <div class=\"colab-df-container\">\n",
              "      <div>\n",
              "<style scoped>\n",
              "    .dataframe tbody tr th:only-of-type {\n",
              "        vertical-align: middle;\n",
              "    }\n",
              "\n",
              "    .dataframe tbody tr th {\n",
              "        vertical-align: top;\n",
              "    }\n",
              "\n",
              "    .dataframe thead th {\n",
              "        text-align: right;\n",
              "    }\n",
              "</style>\n",
              "<table border=\"1\" class=\"dataframe\">\n",
              "  <thead>\n",
              "    <tr style=\"text-align: right;\">\n",
              "      <th></th>\n",
              "      <th>incident_type</th>\n",
              "    </tr>\n",
              "    <tr>\n",
              "      <th>designated_area</th>\n",
              "      <th></th>\n",
              "    </tr>\n",
              "  </thead>\n",
              "  <tbody>\n",
              "    <tr>\n",
              "      <th>Statewide</th>\n",
              "      <td>511</td>\n",
              "    </tr>\n",
              "    <tr>\n",
              "      <th>Washington (County)</th>\n",
              "      <td>508</td>\n",
              "    </tr>\n",
              "    <tr>\n",
              "      <th>Jefferson (County)</th>\n",
              "      <td>462</td>\n",
              "    </tr>\n",
              "    <tr>\n",
              "      <th>Jackson (County)</th>\n",
              "      <td>440</td>\n",
              "    </tr>\n",
              "    <tr>\n",
              "      <th>Franklin (County)</th>\n",
              "      <td>437</td>\n",
              "    </tr>\n",
              "    <tr>\n",
              "      <th>Lincoln (County)</th>\n",
              "      <td>394</td>\n",
              "    </tr>\n",
              "    <tr>\n",
              "      <th>Montgomery (County)</th>\n",
              "      <td>349</td>\n",
              "    </tr>\n",
              "    <tr>\n",
              "      <th>Clay (County)</th>\n",
              "      <td>346</td>\n",
              "    </tr>\n",
              "    <tr>\n",
              "      <th>Madison (County)</th>\n",
              "      <td>334</td>\n",
              "    </tr>\n",
              "    <tr>\n",
              "      <th>Monroe (County)</th>\n",
              "      <td>322</td>\n",
              "    </tr>\n",
              "  </tbody>\n",
              "</table>\n",
              "</div>\n",
              "      <button class=\"colab-df-convert\" onclick=\"convertToInteractive('df-88256ed7-4fe5-4625-971a-ebc2b8b8b8ad')\"\n",
              "              title=\"Convert this dataframe to an interactive table.\"\n",
              "              style=\"display:none;\">\n",
              "        \n",
              "  <svg xmlns=\"http://www.w3.org/2000/svg\" height=\"24px\"viewBox=\"0 0 24 24\"\n",
              "       width=\"24px\">\n",
              "    <path d=\"M0 0h24v24H0V0z\" fill=\"none\"/>\n",
              "    <path d=\"M18.56 5.44l.94 2.06.94-2.06 2.06-.94-2.06-.94-.94-2.06-.94 2.06-2.06.94zm-11 1L8.5 8.5l.94-2.06 2.06-.94-2.06-.94L8.5 2.5l-.94 2.06-2.06.94zm10 10l.94 2.06.94-2.06 2.06-.94-2.06-.94-.94-2.06-.94 2.06-2.06.94z\"/><path d=\"M17.41 7.96l-1.37-1.37c-.4-.4-.92-.59-1.43-.59-.52 0-1.04.2-1.43.59L10.3 9.45l-7.72 7.72c-.78.78-.78 2.05 0 2.83L4 21.41c.39.39.9.59 1.41.59.51 0 1.02-.2 1.41-.59l7.78-7.78 2.81-2.81c.8-.78.8-2.07 0-2.86zM5.41 20L4 18.59l7.72-7.72 1.47 1.35L5.41 20z\"/>\n",
              "  </svg>\n",
              "      </button>\n",
              "      \n",
              "  <style>\n",
              "    .colab-df-container {\n",
              "      display:flex;\n",
              "      flex-wrap:wrap;\n",
              "      gap: 12px;\n",
              "    }\n",
              "\n",
              "    .colab-df-convert {\n",
              "      background-color: #E8F0FE;\n",
              "      border: none;\n",
              "      border-radius: 50%;\n",
              "      cursor: pointer;\n",
              "      display: none;\n",
              "      fill: #1967D2;\n",
              "      height: 32px;\n",
              "      padding: 0 0 0 0;\n",
              "      width: 32px;\n",
              "    }\n",
              "\n",
              "    .colab-df-convert:hover {\n",
              "      background-color: #E2EBFA;\n",
              "      box-shadow: 0px 1px 2px rgba(60, 64, 67, 0.3), 0px 1px 3px 1px rgba(60, 64, 67, 0.15);\n",
              "      fill: #174EA6;\n",
              "    }\n",
              "\n",
              "    [theme=dark] .colab-df-convert {\n",
              "      background-color: #3B4455;\n",
              "      fill: #D2E3FC;\n",
              "    }\n",
              "\n",
              "    [theme=dark] .colab-df-convert:hover {\n",
              "      background-color: #434B5C;\n",
              "      box-shadow: 0px 1px 3px 1px rgba(0, 0, 0, 0.15);\n",
              "      filter: drop-shadow(0px 1px 2px rgba(0, 0, 0, 0.3));\n",
              "      fill: #FFFFFF;\n",
              "    }\n",
              "  </style>\n",
              "\n",
              "      <script>\n",
              "        const buttonEl =\n",
              "          document.querySelector('#df-88256ed7-4fe5-4625-971a-ebc2b8b8b8ad button.colab-df-convert');\n",
              "        buttonEl.style.display =\n",
              "          google.colab.kernel.accessAllowed ? 'block' : 'none';\n",
              "\n",
              "        async function convertToInteractive(key) {\n",
              "          const element = document.querySelector('#df-88256ed7-4fe5-4625-971a-ebc2b8b8b8ad');\n",
              "          const dataTable =\n",
              "            await google.colab.kernel.invokeFunction('convertToInteractive',\n",
              "                                                     [key], {});\n",
              "          if (!dataTable) return;\n",
              "\n",
              "          const docLinkHtml = 'Like what you see? Visit the ' +\n",
              "            '<a target=\"_blank\" href=https://colab.research.google.com/notebooks/data_table.ipynb>data table notebook</a>'\n",
              "            + ' to learn more about interactive tables.';\n",
              "          element.innerHTML = '';\n",
              "          dataTable['output_type'] = 'display_data';\n",
              "          await google.colab.output.renderOutput(dataTable, element);\n",
              "          const docLink = document.createElement('div');\n",
              "          docLink.innerHTML = docLinkHtml;\n",
              "          element.appendChild(docLink);\n",
              "        }\n",
              "      </script>\n",
              "    </div>\n",
              "  </div>\n",
              "  "
            ]
          },
          "metadata": {},
          "execution_count": 30
        }
      ]
    },
    {
      "cell_type": "markdown",
      "source": [
        "From this we can see that TX as a state has encountered maximum natural disasters but the designated area -- Washington County that has encountered maximum natural disasters is not in TX. "
      ],
      "metadata": {
        "id": "deXK1lzSiUHr"
      }
    },
    {
      "cell_type": "markdown",
      "source": [
        "# Looking at the dates on which maximum Statewide Disasters were reported: "
      ],
      "metadata": {
        "id": "t_K1cWU3iUHr"
      }
    },
    {
      "cell_type": "code",
      "source": [
        "d = pd.to_datetime(df['declaration_date']).dt\n",
        "df['year'] = d.year\n",
        "df['month'] = d.month\n",
        "df['day'] = d.day\n",
        "df['time'] = d.time\n",
        "del df['declaration_date']"
      ],
      "metadata": {
        "trusted": true,
        "id": "RReeKPp3iUHr"
      },
      "execution_count": 31,
      "outputs": []
    },
    {
      "cell_type": "code",
      "source": [
        "df['declaration_type'].value_counts()"
      ],
      "metadata": {
        "trusted": true,
        "id": "9eGTpahbiUHs",
        "colab": {
          "base_uri": "https://localhost:8080/"
        },
        "outputId": "fa67c270-a27f-4bd7-dd39-ed381ff7dca7"
      },
      "execution_count": 32,
      "outputs": [
        {
          "output_type": "execute_result",
          "data": {
            "text/plain": [
              "DR    40820\n",
              "EM    16882\n",
              "FM     1690\n",
              "Name: declaration_type, dtype: int64"
            ]
          },
          "metadata": {},
          "execution_count": 32
        }
      ]
    },
    {
      "cell_type": "code",
      "source": [
        "df[['year','month','declaration_type']].groupby(['year','month']).describe()"
      ],
      "metadata": {
        "trusted": true,
        "id": "Ar9_e1aKiUHs",
        "colab": {
          "base_uri": "https://localhost:8080/",
          "height": 481
        },
        "outputId": "929c5bdf-4cc0-4085-f5c3-fe0e4c3363ce"
      },
      "execution_count": 33,
      "outputs": [
        {
          "output_type": "execute_result",
          "data": {
            "text/plain": [
              "           declaration_type                 \n",
              "                      count unique top  freq\n",
              "year month                                  \n",
              "1953 5                    3      1  DR     3\n",
              "     6                    6      1  DR     6\n",
              "     7                    1      1  DR     1\n",
              "     10                   2      1  DR     2\n",
              "     12                   1      1  DR     1\n",
              "...                     ...    ...  ..   ...\n",
              "2020 3                 5823      3  EM  3703\n",
              "     4                 1952      1  DR  1952\n",
              "     5                   62      3  DR    55\n",
              "     6                   73      2  EM    65\n",
              "     7                  208      3  DR   200\n",
              "\n",
              "[686 rows x 4 columns]"
            ],
            "text/html": [
              "\n",
              "  <div id=\"df-923a23aa-7d30-4fdb-9112-9a2f6ec19d9c\">\n",
              "    <div class=\"colab-df-container\">\n",
              "      <div>\n",
              "<style scoped>\n",
              "    .dataframe tbody tr th:only-of-type {\n",
              "        vertical-align: middle;\n",
              "    }\n",
              "\n",
              "    .dataframe tbody tr th {\n",
              "        vertical-align: top;\n",
              "    }\n",
              "\n",
              "    .dataframe thead tr th {\n",
              "        text-align: left;\n",
              "    }\n",
              "\n",
              "    .dataframe thead tr:last-of-type th {\n",
              "        text-align: right;\n",
              "    }\n",
              "</style>\n",
              "<table border=\"1\" class=\"dataframe\">\n",
              "  <thead>\n",
              "    <tr>\n",
              "      <th></th>\n",
              "      <th></th>\n",
              "      <th colspan=\"4\" halign=\"left\">declaration_type</th>\n",
              "    </tr>\n",
              "    <tr>\n",
              "      <th></th>\n",
              "      <th></th>\n",
              "      <th>count</th>\n",
              "      <th>unique</th>\n",
              "      <th>top</th>\n",
              "      <th>freq</th>\n",
              "    </tr>\n",
              "    <tr>\n",
              "      <th>year</th>\n",
              "      <th>month</th>\n",
              "      <th></th>\n",
              "      <th></th>\n",
              "      <th></th>\n",
              "      <th></th>\n",
              "    </tr>\n",
              "  </thead>\n",
              "  <tbody>\n",
              "    <tr>\n",
              "      <th rowspan=\"5\" valign=\"top\">1953</th>\n",
              "      <th>5</th>\n",
              "      <td>3</td>\n",
              "      <td>1</td>\n",
              "      <td>DR</td>\n",
              "      <td>3</td>\n",
              "    </tr>\n",
              "    <tr>\n",
              "      <th>6</th>\n",
              "      <td>6</td>\n",
              "      <td>1</td>\n",
              "      <td>DR</td>\n",
              "      <td>6</td>\n",
              "    </tr>\n",
              "    <tr>\n",
              "      <th>7</th>\n",
              "      <td>1</td>\n",
              "      <td>1</td>\n",
              "      <td>DR</td>\n",
              "      <td>1</td>\n",
              "    </tr>\n",
              "    <tr>\n",
              "      <th>10</th>\n",
              "      <td>2</td>\n",
              "      <td>1</td>\n",
              "      <td>DR</td>\n",
              "      <td>2</td>\n",
              "    </tr>\n",
              "    <tr>\n",
              "      <th>12</th>\n",
              "      <td>1</td>\n",
              "      <td>1</td>\n",
              "      <td>DR</td>\n",
              "      <td>1</td>\n",
              "    </tr>\n",
              "    <tr>\n",
              "      <th>...</th>\n",
              "      <th>...</th>\n",
              "      <td>...</td>\n",
              "      <td>...</td>\n",
              "      <td>...</td>\n",
              "      <td>...</td>\n",
              "    </tr>\n",
              "    <tr>\n",
              "      <th rowspan=\"5\" valign=\"top\">2020</th>\n",
              "      <th>3</th>\n",
              "      <td>5823</td>\n",
              "      <td>3</td>\n",
              "      <td>EM</td>\n",
              "      <td>3703</td>\n",
              "    </tr>\n",
              "    <tr>\n",
              "      <th>4</th>\n",
              "      <td>1952</td>\n",
              "      <td>1</td>\n",
              "      <td>DR</td>\n",
              "      <td>1952</td>\n",
              "    </tr>\n",
              "    <tr>\n",
              "      <th>5</th>\n",
              "      <td>62</td>\n",
              "      <td>3</td>\n",
              "      <td>DR</td>\n",
              "      <td>55</td>\n",
              "    </tr>\n",
              "    <tr>\n",
              "      <th>6</th>\n",
              "      <td>73</td>\n",
              "      <td>2</td>\n",
              "      <td>EM</td>\n",
              "      <td>65</td>\n",
              "    </tr>\n",
              "    <tr>\n",
              "      <th>7</th>\n",
              "      <td>208</td>\n",
              "      <td>3</td>\n",
              "      <td>DR</td>\n",
              "      <td>200</td>\n",
              "    </tr>\n",
              "  </tbody>\n",
              "</table>\n",
              "<p>686 rows × 4 columns</p>\n",
              "</div>\n",
              "      <button class=\"colab-df-convert\" onclick=\"convertToInteractive('df-923a23aa-7d30-4fdb-9112-9a2f6ec19d9c')\"\n",
              "              title=\"Convert this dataframe to an interactive table.\"\n",
              "              style=\"display:none;\">\n",
              "        \n",
              "  <svg xmlns=\"http://www.w3.org/2000/svg\" height=\"24px\"viewBox=\"0 0 24 24\"\n",
              "       width=\"24px\">\n",
              "    <path d=\"M0 0h24v24H0V0z\" fill=\"none\"/>\n",
              "    <path d=\"M18.56 5.44l.94 2.06.94-2.06 2.06-.94-2.06-.94-.94-2.06-.94 2.06-2.06.94zm-11 1L8.5 8.5l.94-2.06 2.06-.94-2.06-.94L8.5 2.5l-.94 2.06-2.06.94zm10 10l.94 2.06.94-2.06 2.06-.94-2.06-.94-.94-2.06-.94 2.06-2.06.94z\"/><path d=\"M17.41 7.96l-1.37-1.37c-.4-.4-.92-.59-1.43-.59-.52 0-1.04.2-1.43.59L10.3 9.45l-7.72 7.72c-.78.78-.78 2.05 0 2.83L4 21.41c.39.39.9.59 1.41.59.51 0 1.02-.2 1.41-.59l7.78-7.78 2.81-2.81c.8-.78.8-2.07 0-2.86zM5.41 20L4 18.59l7.72-7.72 1.47 1.35L5.41 20z\"/>\n",
              "  </svg>\n",
              "      </button>\n",
              "      \n",
              "  <style>\n",
              "    .colab-df-container {\n",
              "      display:flex;\n",
              "      flex-wrap:wrap;\n",
              "      gap: 12px;\n",
              "    }\n",
              "\n",
              "    .colab-df-convert {\n",
              "      background-color: #E8F0FE;\n",
              "      border: none;\n",
              "      border-radius: 50%;\n",
              "      cursor: pointer;\n",
              "      display: none;\n",
              "      fill: #1967D2;\n",
              "      height: 32px;\n",
              "      padding: 0 0 0 0;\n",
              "      width: 32px;\n",
              "    }\n",
              "\n",
              "    .colab-df-convert:hover {\n",
              "      background-color: #E2EBFA;\n",
              "      box-shadow: 0px 1px 2px rgba(60, 64, 67, 0.3), 0px 1px 3px 1px rgba(60, 64, 67, 0.15);\n",
              "      fill: #174EA6;\n",
              "    }\n",
              "\n",
              "    [theme=dark] .colab-df-convert {\n",
              "      background-color: #3B4455;\n",
              "      fill: #D2E3FC;\n",
              "    }\n",
              "\n",
              "    [theme=dark] .colab-df-convert:hover {\n",
              "      background-color: #434B5C;\n",
              "      box-shadow: 0px 1px 3px 1px rgba(0, 0, 0, 0.15);\n",
              "      filter: drop-shadow(0px 1px 2px rgba(0, 0, 0, 0.3));\n",
              "      fill: #FFFFFF;\n",
              "    }\n",
              "  </style>\n",
              "\n",
              "      <script>\n",
              "        const buttonEl =\n",
              "          document.querySelector('#df-923a23aa-7d30-4fdb-9112-9a2f6ec19d9c button.colab-df-convert');\n",
              "        buttonEl.style.display =\n",
              "          google.colab.kernel.accessAllowed ? 'block' : 'none';\n",
              "\n",
              "        async function convertToInteractive(key) {\n",
              "          const element = document.querySelector('#df-923a23aa-7d30-4fdb-9112-9a2f6ec19d9c');\n",
              "          const dataTable =\n",
              "            await google.colab.kernel.invokeFunction('convertToInteractive',\n",
              "                                                     [key], {});\n",
              "          if (!dataTable) return;\n",
              "\n",
              "          const docLinkHtml = 'Like what you see? Visit the ' +\n",
              "            '<a target=\"_blank\" href=https://colab.research.google.com/notebooks/data_table.ipynb>data table notebook</a>'\n",
              "            + ' to learn more about interactive tables.';\n",
              "          element.innerHTML = '';\n",
              "          dataTable['output_type'] = 'display_data';\n",
              "          await google.colab.output.renderOutput(dataTable, element);\n",
              "          const docLink = document.createElement('div');\n",
              "          docLink.innerHTML = docLinkHtml;\n",
              "          element.appendChild(docLink);\n",
              "        }\n",
              "      </script>\n",
              "    </div>\n",
              "  </div>\n",
              "  "
            ]
          },
          "metadata": {},
          "execution_count": 33
        }
      ]
    },
    {
      "cell_type": "code",
      "source": [
        "m=df[['year','declaration_type']]\n",
        "plt.pyplot.figure(figsize=(8,5))\n",
        "sns.boxplot(x='declaration_type',y='year',data=m);"
      ],
      "metadata": {
        "trusted": true,
        "id": "h_5-Bzm8iUHs",
        "colab": {
          "base_uri": "https://localhost:8080/",
          "height": 335
        },
        "outputId": "204c5bc7-6540-411b-8a47-727f7532ecc9"
      },
      "execution_count": 34,
      "outputs": [
        {
          "output_type": "display_data",
          "data": {
            "text/plain": [
              "<Figure size 576x360 with 1 Axes>"
            ],
            "image/png": "[encoded data removed]"
          },
          "metadata": {
            "needs_background": "light"
          }
        }
      ]
    },
    {
      "cell_type": "code",
      "source": [
        "plt.pyplot.figure(figsize=(8,5))\n",
        "sns.barplot(x='index',y='declaration_type',data=df['declaration_type'].value_counts().reset_index());"
      ],
      "metadata": {
        "trusted": true,
        "id": "6Y8ybSNaiUHt",
        "colab": {
          "base_uri": "https://localhost:8080/",
          "height": 334
        },
        "outputId": "062b2826-db1a-400c-af8b-0e70d955136b"
      },
      "execution_count": 35,
      "outputs": [
        {
          "output_type": "display_data",
          "data": {
            "text/plain": [
              "<Figure size 576x360 with 1 Axes>"
            ],
            "image/png": "[encoded data removed]"
          },
          "metadata": {
            "needs_background": "light"
          }
        }
      ]
    },
    {
      "cell_type": "markdown",
      "source": [
        "# Let's get some insight into reports for which individual assistance or housing was not provided"
      ],
      "metadata": {
        "id": "Wa3h1UoEiUHx"
      }
    },
    {
      "cell_type": "code",
      "source": [
        "m = df.query('ia_program_declared == \"0\" & ih_program_declared == \"0\" & pa_program_declared ==\"0\"')\n",
        "m['incident_type'].value_counts()"
      ],
      "metadata": {
        "trusted": true,
        "id": "7WXyFu7uiUHx",
        "colab": {
          "base_uri": "https://localhost:8080/"
        },
        "outputId": "7624f6e0-69a7-4e1c-a700-92bd80d66f23"
      },
      "execution_count": 43,
      "outputs": [
        {
          "output_type": "execute_result",
          "data": {
            "text/plain": [
              "Series([], Name: incident_type, dtype: int64)"
            ]
          },
          "metadata": {},
          "execution_count": 43
        }
      ]
    },
    {
      "cell_type": "markdown",
      "source": [
        "These people were not provided individual assistance or any of the programs to be helped though they reported calamities, assuming they were ignored for reasons out of our analysis scope"
      ],
      "metadata": {
        "id": "G9VQnFIOiUHx"
      }
    },
    {
      "cell_type": "code",
      "source": [
        "pt = df.pivot_table(values ='disaster_number', index = 'state', columns = 'year').fillna(0)\n",
        "plt.pyplot.figure(figsize=(12,8))\n",
        "sns.heatmap(pt, cmap='coolwarm');\n",
        "plt.pyplot.savefig('heatmap.png')"
      ],
      "metadata": {
        "trusted": true,
        "id": "s-x1Y9MmiUHy",
        "colab": {
          "base_uri": "https://localhost:8080/",
          "height": 514
        },
        "outputId": "291351d9-48d8-4ec8-9c02-277d51b0c624"
      },
      "execution_count": 44,
      "outputs": [
        {
          "output_type": "display_data",
          "data": {
            "text/plain": [
              "<Figure size 864x576 with 2 Axes>"
            ],
            "image/png": "[encoded data removed]"
          },
          "metadata": {
            "needs_background": "light"
          }
        }
      ]
    }
  ]
}